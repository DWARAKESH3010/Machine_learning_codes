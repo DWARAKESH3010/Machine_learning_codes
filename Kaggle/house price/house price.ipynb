{
 "cells": [
  {
   "cell_type": "markdown",
   "id": "3580f662-871e-496f-a8d9-8b25fa5ddded",
   "metadata": {},
   "source": [
    "# Importing Files"
   ]
  },
  {
   "cell_type": "code",
   "execution_count": 124,
   "id": "705d0b3c-b1e7-481f-a790-eb95ed38a119",
   "metadata": {},
   "outputs": [],
   "source": [
    "import pandas as pd\n",
    "import seaborn as sns\n",
    "import matplotlib.pyplot as plt\n",
    "import numpy as np\n",
    "from sklearn.preprocessing import StandardScaler \n",
    "from sklearn.preprocessing import LabelEncoder"
   ]
  },
  {
   "cell_type": "code",
   "execution_count": 125,
   "id": "49ff1c87-0a64-4b88-9a89-7fa3183eca66",
   "metadata": {},
   "outputs": [],
   "source": [
    "train = pd.read_csv(\"train.csv\")\n",
    "test = pd.read_csv(\"test.csv\")"
   ]
  },
  {
   "cell_type": "code",
   "execution_count": 126,
   "id": "5ba9e3d6-64ec-4ee7-99b7-52dc0702087e",
   "metadata": {},
   "outputs": [
    {
     "data": {
      "text/html": [
       "<div>\n",
       "<style scoped>\n",
       "    .dataframe tbody tr th:only-of-type {\n",
       "        vertical-align: middle;\n",
       "    }\n",
       "\n",
       "    .dataframe tbody tr th {\n",
       "        vertical-align: top;\n",
       "    }\n",
       "\n",
       "    .dataframe thead th {\n",
       "        text-align: right;\n",
       "    }\n",
       "</style>\n",
       "<table border=\"1\" class=\"dataframe\">\n",
       "  <thead>\n",
       "    <tr style=\"text-align: right;\">\n",
       "      <th></th>\n",
       "      <th>Id</th>\n",
       "      <th>MSSubClass</th>\n",
       "      <th>MSZoning</th>\n",
       "      <th>LotFrontage</th>\n",
       "      <th>LotArea</th>\n",
       "      <th>Street</th>\n",
       "      <th>Alley</th>\n",
       "      <th>LotShape</th>\n",
       "      <th>LandContour</th>\n",
       "      <th>Utilities</th>\n",
       "      <th>...</th>\n",
       "      <th>ScreenPorch</th>\n",
       "      <th>PoolArea</th>\n",
       "      <th>PoolQC</th>\n",
       "      <th>Fence</th>\n",
       "      <th>MiscFeature</th>\n",
       "      <th>MiscVal</th>\n",
       "      <th>MoSold</th>\n",
       "      <th>YrSold</th>\n",
       "      <th>SaleType</th>\n",
       "      <th>SaleCondition</th>\n",
       "    </tr>\n",
       "  </thead>\n",
       "  <tbody>\n",
       "    <tr>\n",
       "      <th>0</th>\n",
       "      <td>1461</td>\n",
       "      <td>20</td>\n",
       "      <td>RH</td>\n",
       "      <td>80.0</td>\n",
       "      <td>11622</td>\n",
       "      <td>Pave</td>\n",
       "      <td>NaN</td>\n",
       "      <td>Reg</td>\n",
       "      <td>Lvl</td>\n",
       "      <td>AllPub</td>\n",
       "      <td>...</td>\n",
       "      <td>120</td>\n",
       "      <td>0</td>\n",
       "      <td>NaN</td>\n",
       "      <td>MnPrv</td>\n",
       "      <td>NaN</td>\n",
       "      <td>0</td>\n",
       "      <td>6</td>\n",
       "      <td>2010</td>\n",
       "      <td>WD</td>\n",
       "      <td>Normal</td>\n",
       "    </tr>\n",
       "    <tr>\n",
       "      <th>1</th>\n",
       "      <td>1462</td>\n",
       "      <td>20</td>\n",
       "      <td>RL</td>\n",
       "      <td>81.0</td>\n",
       "      <td>14267</td>\n",
       "      <td>Pave</td>\n",
       "      <td>NaN</td>\n",
       "      <td>IR1</td>\n",
       "      <td>Lvl</td>\n",
       "      <td>AllPub</td>\n",
       "      <td>...</td>\n",
       "      <td>0</td>\n",
       "      <td>0</td>\n",
       "      <td>NaN</td>\n",
       "      <td>NaN</td>\n",
       "      <td>Gar2</td>\n",
       "      <td>12500</td>\n",
       "      <td>6</td>\n",
       "      <td>2010</td>\n",
       "      <td>WD</td>\n",
       "      <td>Normal</td>\n",
       "    </tr>\n",
       "    <tr>\n",
       "      <th>2</th>\n",
       "      <td>1463</td>\n",
       "      <td>60</td>\n",
       "      <td>RL</td>\n",
       "      <td>74.0</td>\n",
       "      <td>13830</td>\n",
       "      <td>Pave</td>\n",
       "      <td>NaN</td>\n",
       "      <td>IR1</td>\n",
       "      <td>Lvl</td>\n",
       "      <td>AllPub</td>\n",
       "      <td>...</td>\n",
       "      <td>0</td>\n",
       "      <td>0</td>\n",
       "      <td>NaN</td>\n",
       "      <td>MnPrv</td>\n",
       "      <td>NaN</td>\n",
       "      <td>0</td>\n",
       "      <td>3</td>\n",
       "      <td>2010</td>\n",
       "      <td>WD</td>\n",
       "      <td>Normal</td>\n",
       "    </tr>\n",
       "    <tr>\n",
       "      <th>3</th>\n",
       "      <td>1464</td>\n",
       "      <td>60</td>\n",
       "      <td>RL</td>\n",
       "      <td>78.0</td>\n",
       "      <td>9978</td>\n",
       "      <td>Pave</td>\n",
       "      <td>NaN</td>\n",
       "      <td>IR1</td>\n",
       "      <td>Lvl</td>\n",
       "      <td>AllPub</td>\n",
       "      <td>...</td>\n",
       "      <td>0</td>\n",
       "      <td>0</td>\n",
       "      <td>NaN</td>\n",
       "      <td>NaN</td>\n",
       "      <td>NaN</td>\n",
       "      <td>0</td>\n",
       "      <td>6</td>\n",
       "      <td>2010</td>\n",
       "      <td>WD</td>\n",
       "      <td>Normal</td>\n",
       "    </tr>\n",
       "    <tr>\n",
       "      <th>4</th>\n",
       "      <td>1465</td>\n",
       "      <td>120</td>\n",
       "      <td>RL</td>\n",
       "      <td>43.0</td>\n",
       "      <td>5005</td>\n",
       "      <td>Pave</td>\n",
       "      <td>NaN</td>\n",
       "      <td>IR1</td>\n",
       "      <td>HLS</td>\n",
       "      <td>AllPub</td>\n",
       "      <td>...</td>\n",
       "      <td>144</td>\n",
       "      <td>0</td>\n",
       "      <td>NaN</td>\n",
       "      <td>NaN</td>\n",
       "      <td>NaN</td>\n",
       "      <td>0</td>\n",
       "      <td>1</td>\n",
       "      <td>2010</td>\n",
       "      <td>WD</td>\n",
       "      <td>Normal</td>\n",
       "    </tr>\n",
       "  </tbody>\n",
       "</table>\n",
       "<p>5 rows × 80 columns</p>\n",
       "</div>"
      ],
      "text/plain": [
       "     Id  MSSubClass MSZoning  LotFrontage  LotArea Street Alley LotShape  \\\n",
       "0  1461          20       RH         80.0    11622   Pave   NaN      Reg   \n",
       "1  1462          20       RL         81.0    14267   Pave   NaN      IR1   \n",
       "2  1463          60       RL         74.0    13830   Pave   NaN      IR1   \n",
       "3  1464          60       RL         78.0     9978   Pave   NaN      IR1   \n",
       "4  1465         120       RL         43.0     5005   Pave   NaN      IR1   \n",
       "\n",
       "  LandContour Utilities  ... ScreenPorch PoolArea PoolQC  Fence MiscFeature  \\\n",
       "0         Lvl    AllPub  ...         120        0    NaN  MnPrv         NaN   \n",
       "1         Lvl    AllPub  ...           0        0    NaN    NaN        Gar2   \n",
       "2         Lvl    AllPub  ...           0        0    NaN  MnPrv         NaN   \n",
       "3         Lvl    AllPub  ...           0        0    NaN    NaN         NaN   \n",
       "4         HLS    AllPub  ...         144        0    NaN    NaN         NaN   \n",
       "\n",
       "  MiscVal MoSold  YrSold  SaleType  SaleCondition  \n",
       "0       0      6    2010        WD         Normal  \n",
       "1   12500      6    2010        WD         Normal  \n",
       "2       0      3    2010        WD         Normal  \n",
       "3       0      6    2010        WD         Normal  \n",
       "4       0      1    2010        WD         Normal  \n",
       "\n",
       "[5 rows x 80 columns]"
      ]
     },
     "execution_count": 126,
     "metadata": {},
     "output_type": "execute_result"
    }
   ],
   "source": [
    "test.head(5)"
   ]
  },
  {
   "cell_type": "code",
   "execution_count": 127,
   "id": "d7adbf81-3551-4baf-be24-9193f5072913",
   "metadata": {},
   "outputs": [
    {
     "data": {
      "text/html": [
       "<div>\n",
       "<style scoped>\n",
       "    .dataframe tbody tr th:only-of-type {\n",
       "        vertical-align: middle;\n",
       "    }\n",
       "\n",
       "    .dataframe tbody tr th {\n",
       "        vertical-align: top;\n",
       "    }\n",
       "\n",
       "    .dataframe thead th {\n",
       "        text-align: right;\n",
       "    }\n",
       "</style>\n",
       "<table border=\"1\" class=\"dataframe\">\n",
       "  <thead>\n",
       "    <tr style=\"text-align: right;\">\n",
       "      <th></th>\n",
       "      <th>Id</th>\n",
       "      <th>MSSubClass</th>\n",
       "      <th>MSZoning</th>\n",
       "      <th>LotFrontage</th>\n",
       "      <th>LotArea</th>\n",
       "      <th>Street</th>\n",
       "      <th>Alley</th>\n",
       "      <th>LotShape</th>\n",
       "      <th>LandContour</th>\n",
       "      <th>Utilities</th>\n",
       "      <th>...</th>\n",
       "      <th>PoolArea</th>\n",
       "      <th>PoolQC</th>\n",
       "      <th>Fence</th>\n",
       "      <th>MiscFeature</th>\n",
       "      <th>MiscVal</th>\n",
       "      <th>MoSold</th>\n",
       "      <th>YrSold</th>\n",
       "      <th>SaleType</th>\n",
       "      <th>SaleCondition</th>\n",
       "      <th>SalePrice</th>\n",
       "    </tr>\n",
       "  </thead>\n",
       "  <tbody>\n",
       "    <tr>\n",
       "      <th>0</th>\n",
       "      <td>1</td>\n",
       "      <td>60</td>\n",
       "      <td>RL</td>\n",
       "      <td>65.0</td>\n",
       "      <td>8450</td>\n",
       "      <td>Pave</td>\n",
       "      <td>NaN</td>\n",
       "      <td>Reg</td>\n",
       "      <td>Lvl</td>\n",
       "      <td>AllPub</td>\n",
       "      <td>...</td>\n",
       "      <td>0</td>\n",
       "      <td>NaN</td>\n",
       "      <td>NaN</td>\n",
       "      <td>NaN</td>\n",
       "      <td>0</td>\n",
       "      <td>2</td>\n",
       "      <td>2008</td>\n",
       "      <td>WD</td>\n",
       "      <td>Normal</td>\n",
       "      <td>208500</td>\n",
       "    </tr>\n",
       "    <tr>\n",
       "      <th>1</th>\n",
       "      <td>2</td>\n",
       "      <td>20</td>\n",
       "      <td>RL</td>\n",
       "      <td>80.0</td>\n",
       "      <td>9600</td>\n",
       "      <td>Pave</td>\n",
       "      <td>NaN</td>\n",
       "      <td>Reg</td>\n",
       "      <td>Lvl</td>\n",
       "      <td>AllPub</td>\n",
       "      <td>...</td>\n",
       "      <td>0</td>\n",
       "      <td>NaN</td>\n",
       "      <td>NaN</td>\n",
       "      <td>NaN</td>\n",
       "      <td>0</td>\n",
       "      <td>5</td>\n",
       "      <td>2007</td>\n",
       "      <td>WD</td>\n",
       "      <td>Normal</td>\n",
       "      <td>181500</td>\n",
       "    </tr>\n",
       "    <tr>\n",
       "      <th>2</th>\n",
       "      <td>3</td>\n",
       "      <td>60</td>\n",
       "      <td>RL</td>\n",
       "      <td>68.0</td>\n",
       "      <td>11250</td>\n",
       "      <td>Pave</td>\n",
       "      <td>NaN</td>\n",
       "      <td>IR1</td>\n",
       "      <td>Lvl</td>\n",
       "      <td>AllPub</td>\n",
       "      <td>...</td>\n",
       "      <td>0</td>\n",
       "      <td>NaN</td>\n",
       "      <td>NaN</td>\n",
       "      <td>NaN</td>\n",
       "      <td>0</td>\n",
       "      <td>9</td>\n",
       "      <td>2008</td>\n",
       "      <td>WD</td>\n",
       "      <td>Normal</td>\n",
       "      <td>223500</td>\n",
       "    </tr>\n",
       "    <tr>\n",
       "      <th>3</th>\n",
       "      <td>4</td>\n",
       "      <td>70</td>\n",
       "      <td>RL</td>\n",
       "      <td>60.0</td>\n",
       "      <td>9550</td>\n",
       "      <td>Pave</td>\n",
       "      <td>NaN</td>\n",
       "      <td>IR1</td>\n",
       "      <td>Lvl</td>\n",
       "      <td>AllPub</td>\n",
       "      <td>...</td>\n",
       "      <td>0</td>\n",
       "      <td>NaN</td>\n",
       "      <td>NaN</td>\n",
       "      <td>NaN</td>\n",
       "      <td>0</td>\n",
       "      <td>2</td>\n",
       "      <td>2006</td>\n",
       "      <td>WD</td>\n",
       "      <td>Abnorml</td>\n",
       "      <td>140000</td>\n",
       "    </tr>\n",
       "    <tr>\n",
       "      <th>4</th>\n",
       "      <td>5</td>\n",
       "      <td>60</td>\n",
       "      <td>RL</td>\n",
       "      <td>84.0</td>\n",
       "      <td>14260</td>\n",
       "      <td>Pave</td>\n",
       "      <td>NaN</td>\n",
       "      <td>IR1</td>\n",
       "      <td>Lvl</td>\n",
       "      <td>AllPub</td>\n",
       "      <td>...</td>\n",
       "      <td>0</td>\n",
       "      <td>NaN</td>\n",
       "      <td>NaN</td>\n",
       "      <td>NaN</td>\n",
       "      <td>0</td>\n",
       "      <td>12</td>\n",
       "      <td>2008</td>\n",
       "      <td>WD</td>\n",
       "      <td>Normal</td>\n",
       "      <td>250000</td>\n",
       "    </tr>\n",
       "    <tr>\n",
       "      <th>...</th>\n",
       "      <td>...</td>\n",
       "      <td>...</td>\n",
       "      <td>...</td>\n",
       "      <td>...</td>\n",
       "      <td>...</td>\n",
       "      <td>...</td>\n",
       "      <td>...</td>\n",
       "      <td>...</td>\n",
       "      <td>...</td>\n",
       "      <td>...</td>\n",
       "      <td>...</td>\n",
       "      <td>...</td>\n",
       "      <td>...</td>\n",
       "      <td>...</td>\n",
       "      <td>...</td>\n",
       "      <td>...</td>\n",
       "      <td>...</td>\n",
       "      <td>...</td>\n",
       "      <td>...</td>\n",
       "      <td>...</td>\n",
       "      <td>...</td>\n",
       "    </tr>\n",
       "    <tr>\n",
       "      <th>1455</th>\n",
       "      <td>1456</td>\n",
       "      <td>60</td>\n",
       "      <td>RL</td>\n",
       "      <td>62.0</td>\n",
       "      <td>7917</td>\n",
       "      <td>Pave</td>\n",
       "      <td>NaN</td>\n",
       "      <td>Reg</td>\n",
       "      <td>Lvl</td>\n",
       "      <td>AllPub</td>\n",
       "      <td>...</td>\n",
       "      <td>0</td>\n",
       "      <td>NaN</td>\n",
       "      <td>NaN</td>\n",
       "      <td>NaN</td>\n",
       "      <td>0</td>\n",
       "      <td>8</td>\n",
       "      <td>2007</td>\n",
       "      <td>WD</td>\n",
       "      <td>Normal</td>\n",
       "      <td>175000</td>\n",
       "    </tr>\n",
       "    <tr>\n",
       "      <th>1456</th>\n",
       "      <td>1457</td>\n",
       "      <td>20</td>\n",
       "      <td>RL</td>\n",
       "      <td>85.0</td>\n",
       "      <td>13175</td>\n",
       "      <td>Pave</td>\n",
       "      <td>NaN</td>\n",
       "      <td>Reg</td>\n",
       "      <td>Lvl</td>\n",
       "      <td>AllPub</td>\n",
       "      <td>...</td>\n",
       "      <td>0</td>\n",
       "      <td>NaN</td>\n",
       "      <td>MnPrv</td>\n",
       "      <td>NaN</td>\n",
       "      <td>0</td>\n",
       "      <td>2</td>\n",
       "      <td>2010</td>\n",
       "      <td>WD</td>\n",
       "      <td>Normal</td>\n",
       "      <td>210000</td>\n",
       "    </tr>\n",
       "    <tr>\n",
       "      <th>1457</th>\n",
       "      <td>1458</td>\n",
       "      <td>70</td>\n",
       "      <td>RL</td>\n",
       "      <td>66.0</td>\n",
       "      <td>9042</td>\n",
       "      <td>Pave</td>\n",
       "      <td>NaN</td>\n",
       "      <td>Reg</td>\n",
       "      <td>Lvl</td>\n",
       "      <td>AllPub</td>\n",
       "      <td>...</td>\n",
       "      <td>0</td>\n",
       "      <td>NaN</td>\n",
       "      <td>GdPrv</td>\n",
       "      <td>Shed</td>\n",
       "      <td>2500</td>\n",
       "      <td>5</td>\n",
       "      <td>2010</td>\n",
       "      <td>WD</td>\n",
       "      <td>Normal</td>\n",
       "      <td>266500</td>\n",
       "    </tr>\n",
       "    <tr>\n",
       "      <th>1458</th>\n",
       "      <td>1459</td>\n",
       "      <td>20</td>\n",
       "      <td>RL</td>\n",
       "      <td>68.0</td>\n",
       "      <td>9717</td>\n",
       "      <td>Pave</td>\n",
       "      <td>NaN</td>\n",
       "      <td>Reg</td>\n",
       "      <td>Lvl</td>\n",
       "      <td>AllPub</td>\n",
       "      <td>...</td>\n",
       "      <td>0</td>\n",
       "      <td>NaN</td>\n",
       "      <td>NaN</td>\n",
       "      <td>NaN</td>\n",
       "      <td>0</td>\n",
       "      <td>4</td>\n",
       "      <td>2010</td>\n",
       "      <td>WD</td>\n",
       "      <td>Normal</td>\n",
       "      <td>142125</td>\n",
       "    </tr>\n",
       "    <tr>\n",
       "      <th>1459</th>\n",
       "      <td>1460</td>\n",
       "      <td>20</td>\n",
       "      <td>RL</td>\n",
       "      <td>75.0</td>\n",
       "      <td>9937</td>\n",
       "      <td>Pave</td>\n",
       "      <td>NaN</td>\n",
       "      <td>Reg</td>\n",
       "      <td>Lvl</td>\n",
       "      <td>AllPub</td>\n",
       "      <td>...</td>\n",
       "      <td>0</td>\n",
       "      <td>NaN</td>\n",
       "      <td>NaN</td>\n",
       "      <td>NaN</td>\n",
       "      <td>0</td>\n",
       "      <td>6</td>\n",
       "      <td>2008</td>\n",
       "      <td>WD</td>\n",
       "      <td>Normal</td>\n",
       "      <td>147500</td>\n",
       "    </tr>\n",
       "  </tbody>\n",
       "</table>\n",
       "<p>1460 rows × 81 columns</p>\n",
       "</div>"
      ],
      "text/plain": [
       "        Id  MSSubClass MSZoning  LotFrontage  LotArea Street Alley LotShape  \\\n",
       "0        1          60       RL         65.0     8450   Pave   NaN      Reg   \n",
       "1        2          20       RL         80.0     9600   Pave   NaN      Reg   \n",
       "2        3          60       RL         68.0    11250   Pave   NaN      IR1   \n",
       "3        4          70       RL         60.0     9550   Pave   NaN      IR1   \n",
       "4        5          60       RL         84.0    14260   Pave   NaN      IR1   \n",
       "...    ...         ...      ...          ...      ...    ...   ...      ...   \n",
       "1455  1456          60       RL         62.0     7917   Pave   NaN      Reg   \n",
       "1456  1457          20       RL         85.0    13175   Pave   NaN      Reg   \n",
       "1457  1458          70       RL         66.0     9042   Pave   NaN      Reg   \n",
       "1458  1459          20       RL         68.0     9717   Pave   NaN      Reg   \n",
       "1459  1460          20       RL         75.0     9937   Pave   NaN      Reg   \n",
       "\n",
       "     LandContour Utilities  ... PoolArea PoolQC  Fence MiscFeature MiscVal  \\\n",
       "0            Lvl    AllPub  ...        0    NaN    NaN         NaN       0   \n",
       "1            Lvl    AllPub  ...        0    NaN    NaN         NaN       0   \n",
       "2            Lvl    AllPub  ...        0    NaN    NaN         NaN       0   \n",
       "3            Lvl    AllPub  ...        0    NaN    NaN         NaN       0   \n",
       "4            Lvl    AllPub  ...        0    NaN    NaN         NaN       0   \n",
       "...          ...       ...  ...      ...    ...    ...         ...     ...   \n",
       "1455         Lvl    AllPub  ...        0    NaN    NaN         NaN       0   \n",
       "1456         Lvl    AllPub  ...        0    NaN  MnPrv         NaN       0   \n",
       "1457         Lvl    AllPub  ...        0    NaN  GdPrv        Shed    2500   \n",
       "1458         Lvl    AllPub  ...        0    NaN    NaN         NaN       0   \n",
       "1459         Lvl    AllPub  ...        0    NaN    NaN         NaN       0   \n",
       "\n",
       "     MoSold YrSold  SaleType  SaleCondition  SalePrice  \n",
       "0         2   2008        WD         Normal     208500  \n",
       "1         5   2007        WD         Normal     181500  \n",
       "2         9   2008        WD         Normal     223500  \n",
       "3         2   2006        WD        Abnorml     140000  \n",
       "4        12   2008        WD         Normal     250000  \n",
       "...     ...    ...       ...            ...        ...  \n",
       "1455      8   2007        WD         Normal     175000  \n",
       "1456      2   2010        WD         Normal     210000  \n",
       "1457      5   2010        WD         Normal     266500  \n",
       "1458      4   2010        WD         Normal     142125  \n",
       "1459      6   2008        WD         Normal     147500  \n",
       "\n",
       "[1460 rows x 81 columns]"
      ]
     },
     "execution_count": 127,
     "metadata": {},
     "output_type": "execute_result"
    }
   ],
   "source": [
    "train"
   ]
  },
  {
   "cell_type": "markdown",
   "id": "126e039b-c023-449c-b7c1-898e1638fd81",
   "metadata": {},
   "source": [
    "# Handling missing values"
   ]
  },
  {
   "cell_type": "code",
   "execution_count": 5,
   "id": "bd343940-b3e8-480a-8b04-a2d9b207d090",
   "metadata": {},
   "outputs": [
    {
     "data": {
      "text/plain": [
       "Id                 0\n",
       "MSSubClass         0\n",
       "MSZoning           0\n",
       "LotFrontage      259\n",
       "LotArea            0\n",
       "                ... \n",
       "MoSold             0\n",
       "YrSold             0\n",
       "SaleType           0\n",
       "SaleCondition      0\n",
       "SalePrice          0\n",
       "Length: 81, dtype: int64"
      ]
     },
     "execution_count": 5,
     "metadata": {},
     "output_type": "execute_result"
    }
   ],
   "source": [
    "train.isnull().sum()"
   ]
  },
  {
   "cell_type": "code",
   "execution_count": 137,
   "id": "ff34dd9c-70c1-4da7-b614-015dad44a19e",
   "metadata": {},
   "outputs": [],
   "source": [
    "value = train[\"Id\"]\n",
    "value2 = test[\"Id\"]"
   ]
  },
  {
   "cell_type": "code",
   "execution_count": null,
   "id": "953dc4b9-5ce2-488a-803a-8ca67ce28941",
   "metadata": {},
   "outputs": [],
   "source": [
    "test.isnull().sum()"
   ]
  },
  {
   "cell_type": "code",
   "execution_count": null,
   "id": "c04dfb7b-b2a9-4317-9cd2-f32b9fd53772",
   "metadata": {},
   "outputs": [],
   "source": [
    "for i in train.columns:\n",
    "    if(train[i].isnull().sum() > 0):\n",
    "        print(i,train[i].isnull().sum())"
   ]
  },
  {
   "cell_type": "code",
   "execution_count": null,
   "id": "437b7bd0-7d2b-4bc3-9289-46e55f4046a8",
   "metadata": {},
   "outputs": [],
   "source": [
    "for i in test.columns:\n",
    "    if(test[i].isnull().sum() > 0):\n",
    "        print(i,test[i].isnull().sum())"
   ]
  },
  {
   "cell_type": "code",
   "execution_count": null,
   "id": "a0b62629-d8dc-4319-8fe7-b2547555f2f5",
   "metadata": {},
   "outputs": [],
   "source": [
    "train[\"Alley\"].isnull().sum()"
   ]
  },
  {
   "cell_type": "code",
   "execution_count": null,
   "id": "fc999ca0-b207-43df-ba95-5bb38b7c30f9",
   "metadata": {},
   "outputs": [],
   "source": [
    "train.drop(columns =\"Alley\", inplace=True)\n",
    "test.drop(columns =\"Alley\", inplace=True)\n",
    "train.drop(columns =\"MasVnrType\", inplace=True)\n",
    "test.drop(columns =\"MasVnrType\", inplace=True)\n",
    "train.drop(columns =\"FireplaceQu\", inplace=True)\n",
    "test.drop(columns =\"FireplaceQu\", inplace=True)\n",
    "train.drop(columns =\"PoolQC\", inplace=True)\n",
    "test.drop(columns =\"PoolQC\", inplace=True)\n",
    "train.drop(columns =\"Fence\", inplace=True)\n",
    "test.drop(columns =\"Fence\", inplace=True)\n",
    "train.drop(columns =\"MiscFeature\", inplace=True)\n",
    "test.drop(columns =\"MiscFeature\", inplace=True)"
   ]
  },
  {
   "cell_type": "code",
   "execution_count": null,
   "id": "6937400b-6c0c-4cd0-a169-44dc12499317",
   "metadata": {},
   "outputs": [],
   "source": [
    "train.isnull().sum()"
   ]
  },
  {
   "cell_type": "code",
   "execution_count": null,
   "id": "c33833d2-278d-4b68-9972-dd889ca5220a",
   "metadata": {},
   "outputs": [],
   "source": [
    "for i in train.columns:\n",
    "    if(train[i].isnull().sum() > 0):\n",
    "        print(i,train[i].isnull().sum())"
   ]
  },
  {
   "cell_type": "code",
   "execution_count": null,
   "id": "fd2dd0c1-b123-411c-94a5-9c8eb6577114",
   "metadata": {},
   "outputs": [],
   "source": [
    "for i in test.columns:\n",
    "    if(test[i].isnull().sum() > 0):\n",
    "        print(i,test[i].isnull().sum())"
   ]
  },
  {
   "cell_type": "code",
   "execution_count": null,
   "id": "06f5872b-1fba-4462-9384-f2f770da0155",
   "metadata": {},
   "outputs": [],
   "source": [
    "for i in train.columns:\n",
    "    if(train[i].isnull().sum() > 0 and train[i].dtypes == \"object\" ):\n",
    "        train[i].fillna(method='bfill', inplace=True)\n",
    "        print(i,test[i].isnull().sum())\n",
    "\n"
   ]
  },
  {
   "cell_type": "code",
   "execution_count": null,
   "id": "63a617cb-c19b-4f6d-ad15-f8dff5b27bae",
   "metadata": {},
   "outputs": [],
   "source": [
    "for i in test.columns:\n",
    "    if((test[i].isnull().sum()) and(test[i].dtypes == \"object\")):\n",
    "        test[i].fillna(method='bfill', inplace=True)\n",
    "        print(i,test[i].isnull().sum())"
   ]
  },
  {
   "cell_type": "code",
   "execution_count": null,
   "id": "dc8b8240-7398-4542-887f-e7c4baa4558e",
   "metadata": {},
   "outputs": [],
   "source": [
    "for i in train.columns:\n",
    "    if(train[i].isnull().sum() > 0 and train[i].dtypes != \"object\"):\n",
    "        train[i] = train[i].mean()\n",
    "        print(i,train[i].isnull().sum())"
   ]
  },
  {
   "cell_type": "code",
   "execution_count": null,
   "id": "34c4cdac-0f32-48df-8b9b-60ce6204c340",
   "metadata": {},
   "outputs": [],
   "source": [
    "for i in test.columns:\n",
    "    if(test[i].isnull().sum() > 0 and test[i].dtypes != \"object\"):\n",
    "        test[i] = test[i].mean()\n",
    "        print(i,test[i].isnull().sum())"
   ]
  },
  {
   "cell_type": "code",
   "execution_count": null,
   "id": "9cf4f199-b769-4311-a632-31e5eb812bcb",
   "metadata": {},
   "outputs": [],
   "source": [
    "for i in test.columns:\n",
    "    if test[i].isnull().sum():\n",
    "        print(i)\n",
    "    "
   ]
  },
  {
   "cell_type": "code",
   "execution_count": null,
   "id": "f2bee7c1-5c1c-43e7-9cff-3a6d9a151c20",
   "metadata": {},
   "outputs": [],
   "source": [
    "test.isnull().sum()"
   ]
  },
  {
   "cell_type": "code",
   "execution_count": null,
   "id": "8c768289-3bc2-4d63-b39d-b0508ea70b83",
   "metadata": {},
   "outputs": [],
   "source": []
  },
  {
   "cell_type": "code",
   "execution_count": null,
   "id": "c4d68747-9d59-4e0a-94f7-0ebcb94edbd6",
   "metadata": {},
   "outputs": [],
   "source": []
  },
  {
   "cell_type": "code",
   "execution_count": null,
   "id": "759f5f60-d92b-4882-b1e6-2a002d86ff24",
   "metadata": {},
   "outputs": [],
   "source": []
  },
  {
   "cell_type": "code",
   "execution_count": null,
   "id": "bca4472e-db22-4f91-82ea-26833f1ceedf",
   "metadata": {},
   "outputs": [],
   "source": []
  },
  {
   "cell_type": "code",
   "execution_count": null,
   "id": "1e321c86-e2fc-4e6d-9e60-38bb2988a685",
   "metadata": {},
   "outputs": [],
   "source": []
  },
  {
   "cell_type": "markdown",
   "id": "cca6345a-f807-4a5e-925f-783af19b1d69",
   "metadata": {},
   "source": [
    "# Handling outlier "
   ]
  },
  {
   "cell_type": "code",
   "execution_count": null,
   "id": "e6d25c91-92ae-41f5-8e43-a1f960efb39d",
   "metadata": {},
   "outputs": [],
   "source": [
    "for col in train.columns:\n",
    "    if pd.api.types.is_numeric_dtype(train[col]):\n",
    "        sns.boxplot(x=train[col])\n",
    "        plt.title(f\"Boxplot of {col}\")\n",
    "        plt.show()"
   ]
  },
  {
   "cell_type": "code",
   "execution_count": null,
   "id": "b944e717-452f-47f8-95f4-48758795ae2e",
   "metadata": {},
   "outputs": [],
   "source": [
    "def handle_outliers(column):\n",
    "    Q1 = train[column].quantile(0.25)\n",
    "    Q3 = train[column].quantile(0.75)\n",
    "    IQR = Q3 - Q1\n",
    "    print(f\"Q1: {Q1}, Q3: {Q3}, IQR: {IQR}\")\n",
    "\n",
    "    lbound = Q1 - 1.5 * IQR\n",
    "    ubound = Q3 + 1.5 * IQR\n",
    "    print(f\"Lower Bound: {lbound}, Upper Bound: {ubound}\")\n",
    "\n",
    "    train[column] = np.where(train[column] > ubound, ubound,\n",
    "                          np.where(train[column] < lbound, lbound, train[column]))\n",
    "\n",
    "for col in train.columns:\n",
    "    if pd.api.types.is_numeric_dtype(train[col]):\n",
    "        if col != \"Parch\":\n",
    "            handle_outliers(col)\n",
    "            sns.boxplot(x=train[col])\n",
    "            plt.title(f\"Boxplot of {col}\")\n",
    "            plt.show()\n"
   ]
  },
  {
   "cell_type": "code",
   "execution_count": null,
   "id": "388b20ff-57ba-438b-896a-7f72103aaf64",
   "metadata": {},
   "outputs": [],
   "source": [
    "for col in test.columns:\n",
    "    if pd.api.types.is_numeric_dtype(test[col]):\n",
    "        sns.boxplot(x=test[col])\n",
    "        plt.title(f\"Boxplot of {col}\")\n",
    "        plt.show()"
   ]
  },
  {
   "cell_type": "code",
   "execution_count": null,
   "id": "f6d3518d-2552-483a-b039-81f48cde46e0",
   "metadata": {},
   "outputs": [],
   "source": [
    "def handle_outliers(column):\n",
    "    Q1 = test[column].quantile(0.25)\n",
    "    Q3 = test[column].quantile(0.75)\n",
    "    IQR = Q3 - Q1\n",
    "    print(f\"Q1: {Q1}, Q3: {Q3}, IQR: {IQR}\")\n",
    "\n",
    "    lbound = Q1 - 1.5 * IQR\n",
    "    ubound = Q3 + 1.5 * IQR\n",
    "    print(f\"Lower Bound: {lbound}, Upper Bound: {ubound}\")\n",
    "\n",
    "    test[column] = np.where(test[column] > ubound, ubound,\n",
    "                          np.where(test[column] < lbound, lbound, test[column]))\n",
    "\n",
    "for col in test.columns:\n",
    "    if pd.api.types.is_numeric_dtype(test[col]):\n",
    "        if col != \"Parch\":\n",
    "            handle_outliers(col)\n",
    "            sns.boxplot(x=test[col])\n",
    "            plt.title(f\"Boxplot of {col}\")\n",
    "            plt.show()\n"
   ]
  },
  {
   "cell_type": "markdown",
   "id": "35e2b2ba-6fcb-4c35-9dfd-9694939ac3bc",
   "metadata": {},
   "source": [
    "# spliting the data"
   ]
  },
  {
   "cell_type": "code",
   "execution_count": null,
   "id": "629cf1ab-625c-4be3-b322-b95c70d541e7",
   "metadata": {},
   "outputs": [],
   "source": [
    "x_train = train.drop(columns =\"SalePrice\")\n",
    "y_train = train[\"SalePrice\"]\n",
    "x_test = test"
   ]
  },
  {
   "cell_type": "markdown",
   "id": "bf41783b-8c21-4fa8-9445-ba746d086866",
   "metadata": {},
   "source": [
    "# Label encoding"
   ]
  },
  {
   "cell_type": "code",
   "execution_count": null,
   "id": "8f5cb075-fe57-48dc-9fd7-b4eebc16a9b1",
   "metadata": {},
   "outputs": [],
   "source": [
    "label = LabelEncoder()\n",
    "for col in x_train.columns:\n",
    "    if pd.api.types.is_object_dtype(x_train[col]):\n",
    "        x_train[col] = label.fit_transform(x_train[col])"
   ]
  },
  {
   "cell_type": "code",
   "execution_count": null,
   "id": "c5bf047c-26f0-4f06-84a6-b229ccdfc1ef",
   "metadata": {},
   "outputs": [],
   "source": [
    "x_train.head()"
   ]
  },
  {
   "cell_type": "code",
   "execution_count": null,
   "id": "5cc1567b-1e84-42f4-b171-413af7937eaa",
   "metadata": {},
   "outputs": [],
   "source": [
    "label = LabelEncoder()\n",
    "for col in x_test.columns:\n",
    "    if pd.api.types.is_object_dtype(x_test[col]):\n",
    "        x_test[col] = label.fit_transform(x_test[col])"
   ]
  },
  {
   "cell_type": "code",
   "execution_count": null,
   "id": "10a9fce5-29ae-4cc5-8cea-7a4ff6976856",
   "metadata": {},
   "outputs": [],
   "source": [
    "x_test.head()"
   ]
  },
  {
   "cell_type": "code",
   "execution_count": null,
   "id": "fb4e6007-6e82-4900-839d-ce9689b0578a",
   "metadata": {},
   "outputs": [],
   "source": [
    "corr_matrix = x_train.corr()"
   ]
  },
  {
   "cell_type": "code",
   "execution_count": null,
   "id": "734b973e-d86e-43cb-ac93-c9e336b830d7",
   "metadata": {},
   "outputs": [],
   "source": [
    "corr_matrix"
   ]
  },
  {
   "cell_type": "code",
   "execution_count": null,
   "id": "ce5ce954-31aa-44fd-a317-3eb1676a5f4c",
   "metadata": {},
   "outputs": [],
   "source": []
  },
  {
   "cell_type": "code",
   "execution_count": null,
   "id": "67525ccb-3617-444e-8822-17aa633682bd",
   "metadata": {},
   "outputs": [],
   "source": [
    "# For continuous features\n",
    "correlation_matrix = x_train.corrwith(y_train)\n",
    "print(correlation_matrix)\n",
    "for i in correlation_matrix:\n",
    "    print(i)"
   ]
  },
  {
   "cell_type": "code",
   "execution_count": null,
   "id": "bdb6c78a-b512-4ca0-962d-7a7891b9aa48",
   "metadata": {},
   "outputs": [],
   "source": [
    "# Identify constant columns in x_train\n",
    "constant_columns_train = [col for col in x_train.columns if x_train[col].nunique() == 1]\n",
    "\n",
    "# Identify constant columns in x_test\n",
    "constant_columns_test = [col for col in x_test.columns if x_test[col].nunique() == 1]\n",
    "\n",
    "# Find common constant columns in both datasets\n",
    "common_constant_columns = set(constant_columns_train) & set(constant_columns_test)\n",
    "\n",
    "\n",
    "print(\"Common constant columns in both datasets:\", common_constant_columns)\n"
   ]
  },
  {
   "cell_type": "code",
   "execution_count": null,
   "id": "2e95450a-4e3e-40a9-a6c2-965b308f4d43",
   "metadata": {},
   "outputs": [],
   "source": [
    "x_train = x_train.drop(columns=common_constant_columns)\n",
    "x_test = x_test.drop(columns=common_constant_columns)"
   ]
  },
  {
   "cell_type": "code",
   "execution_count": null,
   "id": "70e84def-205c-43fb-8d5e-4dc5ed1a86ed",
   "metadata": {},
   "outputs": [],
   "source": [
    "x_train.info()"
   ]
  },
  {
   "cell_type": "code",
   "execution_count": null,
   "id": "4d161884-0d57-468f-ac68-d62993ceee96",
   "metadata": {},
   "outputs": [],
   "source": [
    "x_test.info()"
   ]
  },
  {
   "cell_type": "code",
   "execution_count": null,
   "id": "63368c44-9462-4ac8-a004-5b1527b299c9",
   "metadata": {},
   "outputs": [],
   "source": [
    "corr = x_train.corrwith(y_train)\n",
    "\n",
    "# Set a correlation threshold\n",
    "threshold = 0.3\n",
    "\n",
    "# Identify columns to drop based on the threshold\n",
    "columns_to_drop = corr[abs(corr) < threshold].index.tolist()\n",
    "\n",
    "# Drop those columns from both datasets\n",
    "x_train = x_train.drop(columns=columns_to_drop)\n",
    "x_test = x_test.drop(columns=columns_to_drop)"
   ]
  },
  {
   "cell_type": "code",
   "execution_count": null,
   "id": "6a0f9796-0a66-43d5-b021-5e8ce2e73ff7",
   "metadata": {},
   "outputs": [],
   "source": [
    "x_train"
   ]
  },
  {
   "cell_type": "code",
   "execution_count": null,
   "id": "6d79c70e-7cd7-490e-9ce6-bc92b29ce57b",
   "metadata": {},
   "outputs": [],
   "source": [
    "x_test"
   ]
  },
  {
   "cell_type": "code",
   "execution_count": null,
   "id": "c2683f1e-dd7b-4f6a-a154-2d4ff8ff807a",
   "metadata": {},
   "outputs": [],
   "source": [
    "scalar = StandardScaler()\n",
    "x_train = scalar.fit_transform(x_train)\n",
    "x_test = scalar.fit_transform(x_test)"
   ]
  },
  {
   "cell_type": "code",
   "execution_count": null,
   "id": "13f7f53d-e96c-48db-82b6-a90f959c1b12",
   "metadata": {},
   "outputs": [],
   "source": [
    "x_train"
   ]
  },
  {
   "cell_type": "code",
   "execution_count": 129,
   "id": "89f88ce9-ecfd-4f10-99d0-cabb4cd520cc",
   "metadata": {},
   "outputs": [
    {
     "data": {
      "text/plain": [
       "array([[ 0.58437016, -0.75435458, -0.34108159, ...,  0.95294225,\n",
       "         0.43191466, -0.81370161],\n",
       "       [ 1.3141686 , -0.05600221, -0.43985196, ...,  0.95294225,\n",
       "         2.6289073 , -0.15377444],\n",
       "       [ 1.19359321, -0.75435458,  0.84416284, ..., -1.46925765,\n",
       "         1.05714576, -0.19043706],\n",
       "       ...,\n",
       "       [ 2.26338943, -0.75435458, -0.37400505, ...,  0.95294225,\n",
       "         2.86336896, -0.81370161],\n",
       "       [ 0.25851309, -0.75435458,  0.67954556, ..., -1.46925765,\n",
       "        -0.08911126, -0.22709968],\n",
       "       [ 0.03391727,  0.64235016,  0.71246902, ..., -1.46925765,\n",
       "         0.86610293,  0.06620128]])"
      ]
     },
     "execution_count": 129,
     "metadata": {},
     "output_type": "execute_result"
    }
   ],
   "source": [
    "x_test"
   ]
  },
  {
   "cell_type": "code",
   "execution_count": 130,
   "id": "2d041a41-16ed-4ac9-b333-fe9f70d6e78e",
   "metadata": {},
   "outputs": [],
   "source": [
    "from sklearn.ensemble import GradientBoostingRegressor"
   ]
  },
  {
   "cell_type": "code",
   "execution_count": 131,
   "id": "d7b8c3ca-f486-45fb-86f7-c9a62155bb33",
   "metadata": {},
   "outputs": [],
   "source": [
    "model = GradientBoostingRegressor()"
   ]
  },
  {
   "cell_type": "code",
   "execution_count": 132,
   "id": "4f1fbe32-f023-46dd-8be3-04624633bd3d",
   "metadata": {},
   "outputs": [],
   "source": [
    "model = model.fit(x_train,y_train)"
   ]
  },
  {
   "cell_type": "code",
   "execution_count": 133,
   "id": "e93a79bb-324e-4463-bb2c-5015dce9436b",
   "metadata": {},
   "outputs": [],
   "source": [
    "pred = model.predict(x_test)"
   ]
  },
  {
   "cell_type": "code",
   "execution_count": 134,
   "id": "b906712d-8b6e-44f5-bc4d-f85a79c78a8a",
   "metadata": {},
   "outputs": [
    {
     "data": {
      "text/plain": [
       "array([123592.11102008, 161508.59569656, 178823.79337389, ...,\n",
       "       159333.26395244, 142182.32067295, 233927.82657128])"
      ]
     },
     "execution_count": 134,
     "metadata": {},
     "output_type": "execute_result"
    }
   ],
   "source": [
    "pred"
   ]
  },
  {
   "cell_type": "code",
   "execution_count": 141,
   "id": "72fb781e-8a75-48f8-89a1-215a7445dccb",
   "metadata": {},
   "outputs": [
    {
     "data": {
      "text/plain": [
       "(0       1461\n",
       " 1       1462\n",
       " 2       1463\n",
       " 3       1464\n",
       " 4       1465\n",
       "         ... \n",
       " 1454    2915\n",
       " 1455    2916\n",
       " 1456    2917\n",
       " 1457    2918\n",
       " 1458    2919\n",
       " Name: Id, Length: 1459, dtype: int64,\n",
       " array([123592.11102008, 161508.59569656, 178823.79337389, ...,\n",
       "        159333.26395244, 142182.32067295, 233927.82657128]))"
      ]
     },
     "execution_count": 141,
     "metadata": {},
     "output_type": "execute_result"
    }
   ],
   "source": [
    "# Assuming you have a dataframe 'submission' with 'PassengerId' and 'Survived' columns\n",
    "\n",
    "# Ensure PassengerId is an integer type\n",
    "final = value2,pred\n",
    "# Save the submission file as CSV without index\n",
    "#submission.to_csv('submission.csv', index=False)\n",
    "final"
   ]
  },
  {
   "cell_type": "code",
   "execution_count": 151,
   "id": "d2df7ecc-0bf5-42fb-9041-25ebde780da7",
   "metadata": {},
   "outputs": [
    {
     "data": {
      "text/html": [
       "<div>\n",
       "<style scoped>\n",
       "    .dataframe tbody tr th:only-of-type {\n",
       "        vertical-align: middle;\n",
       "    }\n",
       "\n",
       "    .dataframe tbody tr th {\n",
       "        vertical-align: top;\n",
       "    }\n",
       "\n",
       "    .dataframe thead th {\n",
       "        text-align: right;\n",
       "    }\n",
       "</style>\n",
       "<table border=\"1\" class=\"dataframe\">\n",
       "  <thead>\n",
       "    <tr style=\"text-align: right;\">\n",
       "      <th></th>\n",
       "      <th>Id</th>\n",
       "      <th>SalePrice</th>\n",
       "    </tr>\n",
       "  </thead>\n",
       "  <tbody>\n",
       "    <tr>\n",
       "      <th>0</th>\n",
       "      <td>1461</td>\n",
       "      <td>123592.111020</td>\n",
       "    </tr>\n",
       "    <tr>\n",
       "      <th>1</th>\n",
       "      <td>1462</td>\n",
       "      <td>161508.595697</td>\n",
       "    </tr>\n",
       "    <tr>\n",
       "      <th>2</th>\n",
       "      <td>1463</td>\n",
       "      <td>178823.793374</td>\n",
       "    </tr>\n",
       "    <tr>\n",
       "      <th>3</th>\n",
       "      <td>1464</td>\n",
       "      <td>187356.639814</td>\n",
       "    </tr>\n",
       "    <tr>\n",
       "      <th>4</th>\n",
       "      <td>1465</td>\n",
       "      <td>210448.108211</td>\n",
       "    </tr>\n",
       "    <tr>\n",
       "      <th>...</th>\n",
       "      <td>...</td>\n",
       "      <td>...</td>\n",
       "    </tr>\n",
       "    <tr>\n",
       "      <th>1454</th>\n",
       "      <td>2915</td>\n",
       "      <td>82052.680822</td>\n",
       "    </tr>\n",
       "    <tr>\n",
       "      <th>1455</th>\n",
       "      <td>2916</td>\n",
       "      <td>81713.278008</td>\n",
       "    </tr>\n",
       "    <tr>\n",
       "      <th>1456</th>\n",
       "      <td>2917</td>\n",
       "      <td>159333.263952</td>\n",
       "    </tr>\n",
       "    <tr>\n",
       "      <th>1457</th>\n",
       "      <td>2918</td>\n",
       "      <td>142182.320673</td>\n",
       "    </tr>\n",
       "    <tr>\n",
       "      <th>1458</th>\n",
       "      <td>2919</td>\n",
       "      <td>233927.826571</td>\n",
       "    </tr>\n",
       "  </tbody>\n",
       "</table>\n",
       "<p>1459 rows × 2 columns</p>\n",
       "</div>"
      ],
      "text/plain": [
       "        Id      SalePrice\n",
       "0     1461  123592.111020\n",
       "1     1462  161508.595697\n",
       "2     1463  178823.793374\n",
       "3     1464  187356.639814\n",
       "4     1465  210448.108211\n",
       "...    ...            ...\n",
       "1454  2915   82052.680822\n",
       "1455  2916   81713.278008\n",
       "1456  2917  159333.263952\n",
       "1457  2918  142182.320673\n",
       "1458  2919  233927.826571\n",
       "\n",
       "[1459 rows x 2 columns]"
      ]
     },
     "execution_count": 151,
     "metadata": {},
     "output_type": "execute_result"
    }
   ],
   "source": [
    "final = pd.DataFrame({\"Id\":value2.values,\"SalePrice\":pred})\n",
    "final"
   ]
  },
  {
   "cell_type": "code",
   "execution_count": 152,
   "id": "35edd9b9-33d8-4851-9114-1598bfc07ea9",
   "metadata": {},
   "outputs": [],
   "source": [
    "final.to_csv('submission.csv', index=False)"
   ]
  },
  {
   "cell_type": "code",
   "execution_count": null,
   "id": "fd58ec3f-e060-4745-91a7-d6d09e209e5b",
   "metadata": {},
   "outputs": [],
   "source": [
    "from sklearn.model_selection import cross_val_score\n",
    "from sklearn.ensemble import GradientBoostingRegressor\n",
    "\n",
    "model = GradientBoostingRegressor()\n",
    "scores = cross_val_score(model, x_train, y_train, cv=5)  # 5-fold cross-validation\n",
    "print(\"Cross-validated scores:\", scores)\n",
    "print(\"Mean score:\", scores.mean())\n"
   ]
  },
  {
   "cell_type": "code",
   "execution_count": 138,
   "id": "36c9380f-7f14-479d-967c-debcf7f613ed",
   "metadata": {},
   "outputs": [
    {
     "data": {
      "text/plain": [
       "0          1\n",
       "1          2\n",
       "2          3\n",
       "3          4\n",
       "4          5\n",
       "        ... \n",
       "1455    1456\n",
       "1456    1457\n",
       "1457    1458\n",
       "1458    1459\n",
       "1459    1460\n",
       "Name: Id, Length: 1460, dtype: int64"
      ]
     },
     "execution_count": 138,
     "metadata": {},
     "output_type": "execute_result"
    }
   ],
   "source": [
    "value"
   ]
  },
  {
   "cell_type": "code",
   "execution_count": null,
   "id": "4f4ad1f3-6c64-47e1-8137-288756c9b861",
   "metadata": {},
   "outputs": [],
   "source": []
  },
  {
   "cell_type": "code",
   "execution_count": null,
   "id": "f4b209c7-185b-446a-863b-7484a0c269ab",
   "metadata": {},
   "outputs": [],
   "source": []
  },
  {
   "cell_type": "code",
   "execution_count": null,
   "id": "7063d508-b1b9-4a35-b213-fcce0248b900",
   "metadata": {},
   "outputs": [],
   "source": []
  },
  {
   "cell_type": "code",
   "execution_count": null,
   "id": "2dfd38eb-256a-4e45-94fd-85385771ac25",
   "metadata": {},
   "outputs": [],
   "source": []
  },
  {
   "cell_type": "code",
   "execution_count": null,
   "id": "52e72e74-80f1-43e0-bd85-fc6bc23698f8",
   "metadata": {},
   "outputs": [],
   "source": []
  },
  {
   "cell_type": "code",
   "execution_count": null,
   "id": "ddc571b4-e6ad-4863-bc72-9fbbcd78d0c8",
   "metadata": {},
   "outputs": [],
   "source": []
  },
  {
   "cell_type": "code",
   "execution_count": null,
   "id": "ddf73c1b-7922-4406-8a55-2491af26daf7",
   "metadata": {},
   "outputs": [],
   "source": []
  },
  {
   "cell_type": "code",
   "execution_count": null,
   "id": "bf0648fb-6980-4e1c-8a7e-77a06a3ffd8c",
   "metadata": {},
   "outputs": [],
   "source": []
  },
  {
   "cell_type": "code",
   "execution_count": null,
   "id": "1c52c2a2-50c5-4c32-8c17-bd1be1c56838",
   "metadata": {},
   "outputs": [],
   "source": []
  },
  {
   "cell_type": "code",
   "execution_count": null,
   "id": "cb4f7f0a-a8bf-4468-94b7-79e111f94990",
   "metadata": {},
   "outputs": [],
   "source": []
  },
  {
   "cell_type": "code",
   "execution_count": null,
   "id": "a627326d-9df5-4d37-8e1b-a32099715400",
   "metadata": {},
   "outputs": [],
   "source": []
  },
  {
   "cell_type": "code",
   "execution_count": null,
   "id": "17f6a8e7-24f8-4dbf-86d7-424335b3dfba",
   "metadata": {},
   "outputs": [],
   "source": []
  },
  {
   "cell_type": "code",
   "execution_count": null,
   "id": "2d98302d-4c44-4c8c-92be-0deb502114ab",
   "metadata": {},
   "outputs": [],
   "source": []
  },
  {
   "cell_type": "code",
   "execution_count": null,
   "id": "2ee8458d-76f8-49e7-be1b-f27296cfa059",
   "metadata": {},
   "outputs": [],
   "source": []
  }
 ],
 "metadata": {
  "kernelspec": {
   "display_name": "Python 3 (ipykernel)",
   "language": "python",
   "name": "python3"
  },
  "language_info": {
   "codemirror_mode": {
    "name": "ipython",
    "version": 3
   },
   "file_extension": ".py",
   "mimetype": "text/x-python",
   "name": "python",
   "nbconvert_exporter": "python",
   "pygments_lexer": "ipython3",
   "version": "3.11.7"
  }
 },
 "nbformat": 4,
 "nbformat_minor": 5
}
