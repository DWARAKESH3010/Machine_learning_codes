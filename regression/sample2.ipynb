{
 "cells": [
  {
   "cell_type": "markdown",
   "id": "a83f0670",
   "metadata": {},
   "source": [
    "# Aggregate function\n"
   ]
  },
  {
   "cell_type": "code",
   "execution_count": 1,
   "id": "f07ac38a",
   "metadata": {},
   "outputs": [
    {
     "data": {
      "text/html": [
       "<div>\n",
       "<style scoped>\n",
       "    .dataframe tbody tr th:only-of-type {\n",
       "        vertical-align: middle;\n",
       "    }\n",
       "\n",
       "    .dataframe tbody tr th {\n",
       "        vertical-align: top;\n",
       "    }\n",
       "\n",
       "    .dataframe thead th {\n",
       "        text-align: right;\n",
       "    }\n",
       "</style>\n",
       "<table border=\"1\" class=\"dataframe\">\n",
       "  <thead>\n",
       "    <tr style=\"text-align: right;\">\n",
       "      <th></th>\n",
       "      <th>name</th>\n",
       "      <th>age</th>\n",
       "      <th>roll_no</th>\n",
       "    </tr>\n",
       "  </thead>\n",
       "  <tbody>\n",
       "    <tr>\n",
       "      <th>a</th>\n",
       "      <td>dwara</td>\n",
       "      <td>10</td>\n",
       "      <td>NaN</td>\n",
       "    </tr>\n",
       "    <tr>\n",
       "      <th>b</th>\n",
       "      <td>harsha</td>\n",
       "      <td>20</td>\n",
       "      <td>NaN</td>\n",
       "    </tr>\n",
       "    <tr>\n",
       "      <th>c</th>\n",
       "      <td>jumbo</td>\n",
       "      <td>30</td>\n",
       "      <td>NaN</td>\n",
       "    </tr>\n",
       "    <tr>\n",
       "      <th>d</th>\n",
       "      <td>oreo</td>\n",
       "      <td>40</td>\n",
       "      <td>NaN</td>\n",
       "    </tr>\n",
       "    <tr>\n",
       "      <th>e</th>\n",
       "      <td>coco</td>\n",
       "      <td>50</td>\n",
       "      <td>NaN</td>\n",
       "    </tr>\n",
       "  </tbody>\n",
       "</table>\n",
       "</div>"
      ],
      "text/plain": [
       "     name  age roll_no\n",
       "a   dwara   10     NaN\n",
       "b  harsha   20     NaN\n",
       "c   jumbo   30     NaN\n",
       "d    oreo   40     NaN\n",
       "e    coco   50     NaN"
      ]
     },
     "execution_count": 1,
     "metadata": {},
     "output_type": "execute_result"
    }
   ],
   "source": [
    "import pandas as pd\n",
    "data = {\"name\": [\"dwara\",\"harsha\",\"jumbo\",\"oreo\",\"coco\"],\n",
    "       \"age\": [10,20,30,40,50]}\n",
    "df = pd.DataFrame(data,index = [\"a\",\"b\",\"c\",\"d\",\"e\"],columns = [\"name\",\"age\",\"roll_no\"])\n",
    "df"
   ]
  },
  {
   "cell_type": "code",
   "execution_count": null,
   "id": "74ad5a7e",
   "metadata": {},
   "outputs": [],
   "source": []
  },
  {
   "cell_type": "code",
   "execution_count": 57,
   "id": "b8f6ae66",
   "metadata": {},
   "outputs": [
    {
     "data": {
      "text/plain": [
       "min    10.000000\n",
       "max    50.000000\n",
       "std    15.811388\n",
       "Name: age, dtype: float64"
      ]
     },
     "execution_count": 57,
     "metadata": {},
     "output_type": "execute_result"
    }
   ],
   "source": [
    "# Calculate the minimum value for \"age\" column within each group\n",
    "df2 = df[\"age\"].agg([\"min\",\"max\",\"std\"])\n",
    "df2"
   ]
  },
  {
   "cell_type": "code",
   "execution_count": 1,
   "id": "23eea69d",
   "metadata": {},
   "outputs": [
    {
     "data": {
      "text/html": [
       "<div>\n",
       "<style scoped>\n",
       "    .dataframe tbody tr th:only-of-type {\n",
       "        vertical-align: middle;\n",
       "    }\n",
       "\n",
       "    .dataframe tbody tr th {\n",
       "        vertical-align: top;\n",
       "    }\n",
       "\n",
       "    .dataframe thead th {\n",
       "        text-align: right;\n",
       "    }\n",
       "</style>\n",
       "<table border=\"1\" class=\"dataframe\">\n",
       "  <thead>\n",
       "    <tr style=\"text-align: right;\">\n",
       "      <th></th>\n",
       "      <th>Brand</th>\n",
       "      <th>Year</th>\n",
       "      <th>Km Driven</th>\n",
       "      <th>City</th>\n",
       "      <th>Mileage</th>\n",
       "    </tr>\n",
       "  </thead>\n",
       "  <tbody>\n",
       "    <tr>\n",
       "      <th>0</th>\n",
       "      <td>Toyota</td>\n",
       "      <td>2015</td>\n",
       "      <td>45000</td>\n",
       "      <td>New York</td>\n",
       "      <td>15.5</td>\n",
       "    </tr>\n",
       "    <tr>\n",
       "      <th>1</th>\n",
       "      <td>Honda</td>\n",
       "      <td>2018</td>\n",
       "      <td>30000</td>\n",
       "      <td>Los Angeles</td>\n",
       "      <td>17.2</td>\n",
       "    </tr>\n",
       "    <tr>\n",
       "      <th>2</th>\n",
       "      <td>Ford</td>\n",
       "      <td>2016</td>\n",
       "      <td>60000</td>\n",
       "      <td>Chicago</td>\n",
       "      <td>14.8</td>\n",
       "    </tr>\n",
       "    <tr>\n",
       "      <th>3</th>\n",
       "      <td>Chevrolet</td>\n",
       "      <td>2017</td>\n",
       "      <td>25000</td>\n",
       "      <td>Houston</td>\n",
       "      <td>16.0</td>\n",
       "    </tr>\n",
       "    <tr>\n",
       "      <th>4</th>\n",
       "      <td>Nissan</td>\n",
       "      <td>2019</td>\n",
       "      <td>20000</td>\n",
       "      <td>Phoenix</td>\n",
       "      <td>18.5</td>\n",
       "    </tr>\n",
       "    <tr>\n",
       "      <th>5</th>\n",
       "      <td>BMW</td>\n",
       "      <td>2014</td>\n",
       "      <td>70000</td>\n",
       "      <td>San Diego</td>\n",
       "      <td>12.5</td>\n",
       "    </tr>\n",
       "    <tr>\n",
       "      <th>6</th>\n",
       "      <td>Audi</td>\n",
       "      <td>2020</td>\n",
       "      <td>10000</td>\n",
       "      <td>Dallas</td>\n",
       "      <td>19.0</td>\n",
       "    </tr>\n",
       "    <tr>\n",
       "      <th>7</th>\n",
       "      <td>Mercedes</td>\n",
       "      <td>2015</td>\n",
       "      <td>50000</td>\n",
       "      <td>San Jose</td>\n",
       "      <td>14.2</td>\n",
       "    </tr>\n",
       "    <tr>\n",
       "      <th>8</th>\n",
       "      <td>Hyundai</td>\n",
       "      <td>2016</td>\n",
       "      <td>40000</td>\n",
       "      <td>Austin</td>\n",
       "      <td>16.7</td>\n",
       "    </tr>\n",
       "    <tr>\n",
       "      <th>9</th>\n",
       "      <td>Kia</td>\n",
       "      <td>2017</td>\n",
       "      <td>35000</td>\n",
       "      <td>Jacksonville</td>\n",
       "      <td>17.5</td>\n",
       "    </tr>\n",
       "  </tbody>\n",
       "</table>\n",
       "</div>"
      ],
      "text/plain": [
       "       Brand  Year  Km Driven          City  Mileage\n",
       "0     Toyota  2015      45000      New York     15.5\n",
       "1      Honda  2018      30000   Los Angeles     17.2\n",
       "2       Ford  2016      60000       Chicago     14.8\n",
       "3  Chevrolet  2017      25000       Houston     16.0\n",
       "4     Nissan  2019      20000       Phoenix     18.5\n",
       "5        BMW  2014      70000     San Diego     12.5\n",
       "6       Audi  2020      10000        Dallas     19.0\n",
       "7   Mercedes  2015      50000      San Jose     14.2\n",
       "8    Hyundai  2016      40000        Austin     16.7\n",
       "9        Kia  2017      35000  Jacksonville     17.5"
      ]
     },
     "execution_count": 1,
     "metadata": {},
     "output_type": "execute_result"
    }
   ],
   "source": [
    "import pandas as pd\n",
    "val = {\n",
    "    \"Brand\": [\"Toyota\", \"Honda\", \"Ford\", \"Chevrolet\", \"Nissan\", \"BMW\", \"Audi\", \"Mercedes\", \"Hyundai\", \"Kia\"],\n",
    "    \"Year\": [2015, 2018, 2016, 2017, 2019, 2014, 2020, 2015, 2016, 2017],\n",
    "    \"Km Driven\": [45000, 30000, 60000, 25000, 20000, 70000, 10000, 50000, 40000, 35000],\n",
    "    \"City\": [\"New York\", \"Los Angeles\", \"Chicago\", \"Houston\", \"Phoenix\", \"San Diego\", \"Dallas\", \"San Jose\", \"Austin\", \"Jacksonville\"],\n",
    "    \"Mileage\": [15.5, 17.2, 14.8, 16.0, 18.5, 12.5, 19.0, 14.2, 16.7, 17.5]\n",
    "}\n",
    "df = pd.DataFrame(val)\n",
    "df\n"
   ]
  },
  {
   "cell_type": "code",
   "execution_count": 2,
   "id": "62db6bb5",
   "metadata": {},
   "outputs": [
    {
     "name": "stdout",
     "output_type": "stream",
     "text": [
      "Index(['Brand', 'Year', 'Km Driven', 'City', 'Mileage '], dtype='object')\n"
     ]
    }
   ],
   "source": [
    "print(df.columns)"
   ]
  },
  {
   "cell_type": "code",
   "execution_count": 3,
   "id": "dff97ec5",
   "metadata": {},
   "outputs": [
    {
     "name": "stdout",
     "output_type": "stream",
     "text": [
      "  Brand  Year  Km Driven       City  Mileage \n",
      "5   BMW  2014      70000  San Diego      12.5\n"
     ]
    }
   ],
   "source": [
    "print(df[df[\"Brand\"] == \"BMW\"])"
   ]
  },
  {
   "cell_type": "code",
   "execution_count": 4,
   "id": "8678df78",
   "metadata": {},
   "outputs": [
    {
     "name": "stdout",
     "output_type": "stream",
     "text": [
      "Index(['Brand', 'Year', 'Km Driven', 'City', 'Mileage '], dtype='object') Brand         object\n",
      "Year           int64\n",
      "Km Driven      int64\n",
      "City          object\n",
      "Mileage      float64\n",
      "dtype: object\n"
     ]
    }
   ],
   "source": [
    "print(df.columns,df.dtypes)"
   ]
  },
  {
   "cell_type": "code",
   "execution_count": 5,
   "id": "fea8f83b",
   "metadata": {},
   "outputs": [
    {
     "name": "stdout",
     "output_type": "stream",
     "text": [
      "       Brand  Km Driven\n",
      "0     Toyota      45000\n",
      "1      Honda      30000\n",
      "2       Ford      60000\n",
      "3  Chevrolet      25000\n",
      "4     Nissan      20000\n",
      "5        BMW      70000\n",
      "6       Audi      10000\n",
      "7   Mercedes      50000\n",
      "8    Hyundai      40000\n",
      "9        Kia      35000\n"
     ]
    }
   ],
   "source": [
    "print(df[[\"Brand\",\"Km Driven\"]])"
   ]
  },
  {
   "cell_type": "code",
   "execution_count": 6,
   "id": "92c0e1bc",
   "metadata": {},
   "outputs": [
    {
     "name": "stdout",
     "output_type": "stream",
     "text": [
      "    Brand  Year  Km Driven      City  Mileage \n",
      "0  Toyota  2015      45000  New York      15.5\n"
     ]
    }
   ],
   "source": [
    "print(df.iloc[[0]])"
   ]
  },
  {
   "cell_type": "code",
   "execution_count": 8,
   "id": "b5e553e5",
   "metadata": {},
   "outputs": [
    {
     "name": "stdout",
     "output_type": "stream",
     "text": [
      "   Brand  Year  Km Driven         City  Mileage \n",
      "1  Honda  2018      30000  Los Angeles      17.2\n"
     ]
    }
   ],
   "source": [
    "print(df.iloc[1:2])"
   ]
  },
  {
   "cell_type": "code",
   "execution_count": 11,
   "id": "d14bcf1a",
   "metadata": {},
   "outputs": [
    {
     "data": {
      "text/html": [
       "<div>\n",
       "<style scoped>\n",
       "    .dataframe tbody tr th:only-of-type {\n",
       "        vertical-align: middle;\n",
       "    }\n",
       "\n",
       "    .dataframe tbody tr th {\n",
       "        vertical-align: top;\n",
       "    }\n",
       "\n",
       "    .dataframe thead th {\n",
       "        text-align: right;\n",
       "    }\n",
       "</style>\n",
       "<table border=\"1\" class=\"dataframe\">\n",
       "  <thead>\n",
       "    <tr style=\"text-align: right;\">\n",
       "      <th></th>\n",
       "      <th>Brand</th>\n",
       "      <th>Year</th>\n",
       "      <th>Km Driven</th>\n",
       "      <th>City</th>\n",
       "      <th>Mileage</th>\n",
       "    </tr>\n",
       "  </thead>\n",
       "  <tbody>\n",
       "    <tr>\n",
       "      <th>8</th>\n",
       "      <td>Hyundai</td>\n",
       "      <td>2016</td>\n",
       "      <td>40000</td>\n",
       "      <td>Austin</td>\n",
       "      <td>16.7</td>\n",
       "    </tr>\n",
       "  </tbody>\n",
       "</table>\n",
       "</div>"
      ],
      "text/plain": [
       "     Brand  Year  Km Driven    City  Mileage \n",
       "8  Hyundai  2016      40000  Austin      16.7"
      ]
     },
     "execution_count": 11,
     "metadata": {},
     "output_type": "execute_result"
    }
   ],
   "source": [
    "  df[df[\"Brand\"] == \"Hyundai\"]"
   ]
  },
  {
   "cell_type": "code",
   "execution_count": 19,
   "id": "938eca26",
   "metadata": {},
   "outputs": [
    {
     "data": {
      "text/html": [
       "<div>\n",
       "<style scoped>\n",
       "    .dataframe tbody tr th:only-of-type {\n",
       "        vertical-align: middle;\n",
       "    }\n",
       "\n",
       "    .dataframe tbody tr th {\n",
       "        vertical-align: top;\n",
       "    }\n",
       "\n",
       "    .dataframe thead th {\n",
       "        text-align: right;\n",
       "    }\n",
       "</style>\n",
       "<table border=\"1\" class=\"dataframe\">\n",
       "  <thead>\n",
       "    <tr style=\"text-align: right;\">\n",
       "      <th></th>\n",
       "      <th>Brand</th>\n",
       "      <th>Year</th>\n",
       "      <th>Km Driven</th>\n",
       "      <th>City</th>\n",
       "      <th>Mileage</th>\n",
       "    </tr>\n",
       "  </thead>\n",
       "  <tbody>\n",
       "    <tr>\n",
       "      <th>3</th>\n",
       "      <td>Chevrolet</td>\n",
       "      <td>2017</td>\n",
       "      <td>25000</td>\n",
       "      <td>Houston</td>\n",
       "      <td>16.0</td>\n",
       "    </tr>\n",
       "  </tbody>\n",
       "</table>\n",
       "</div>"
      ],
      "text/plain": [
       "       Brand  Year  Km Driven     City  Mileage \n",
       "3  Chevrolet  2017      25000  Houston      16.0"
      ]
     },
     "execution_count": 19,
     "metadata": {},
     "output_type": "execute_result"
    }
   ],
   "source": [
    "df[df[\"Brand\"].str.startswith(\"C\")]"
   ]
  },
  {
   "cell_type": "code",
   "execution_count": 22,
   "id": "26385170",
   "metadata": {},
   "outputs": [
    {
     "data": {
      "text/html": [
       "<div>\n",
       "<style scoped>\n",
       "    .dataframe tbody tr th:only-of-type {\n",
       "        vertical-align: middle;\n",
       "    }\n",
       "\n",
       "    .dataframe tbody tr th {\n",
       "        vertical-align: top;\n",
       "    }\n",
       "\n",
       "    .dataframe thead th {\n",
       "        text-align: right;\n",
       "    }\n",
       "</style>\n",
       "<table border=\"1\" class=\"dataframe\">\n",
       "  <thead>\n",
       "    <tr style=\"text-align: right;\">\n",
       "      <th></th>\n",
       "      <th>Brand</th>\n",
       "      <th>Year</th>\n",
       "      <th>Km Driven</th>\n",
       "      <th>City</th>\n",
       "      <th>Mileage</th>\n",
       "    </tr>\n",
       "  </thead>\n",
       "  <tbody>\n",
       "    <tr>\n",
       "      <th>1</th>\n",
       "      <td>Honda</td>\n",
       "      <td>2018</td>\n",
       "      <td>30000</td>\n",
       "      <td>Los Angeles</td>\n",
       "      <td>17.2</td>\n",
       "    </tr>\n",
       "    <tr>\n",
       "      <th>8</th>\n",
       "      <td>Hyundai</td>\n",
       "      <td>2016</td>\n",
       "      <td>40000</td>\n",
       "      <td>Austin</td>\n",
       "      <td>16.7</td>\n",
       "    </tr>\n",
       "  </tbody>\n",
       "</table>\n",
       "</div>"
      ],
      "text/plain": [
       "     Brand  Year  Km Driven         City  Mileage \n",
       "1    Honda  2018      30000  Los Angeles      17.2\n",
       "8  Hyundai  2016      40000       Austin      16.7"
      ]
     },
     "execution_count": 22,
     "metadata": {},
     "output_type": "execute_result"
    }
   ],
   "source": [
    "df[df[\"Brand\"].str.contains(\"H\")]"
   ]
  },
  {
   "cell_type": "code",
   "execution_count": 43,
   "id": "b3110a3d",
   "metadata": {},
   "outputs": [
    {
     "data": {
      "text/plain": [
       "Index(['Brand', 'Year', 'Km Driven', 'City', 'Mileage '], dtype='object')"
      ]
     },
     "execution_count": 43,
     "metadata": {},
     "output_type": "execute_result"
    }
   ],
   "source": [
    "df.columns"
   ]
  },
  {
   "cell_type": "code",
   "execution_count": 46,
   "id": "f7a5e536",
   "metadata": {},
   "outputs": [
    {
     "data": {
      "text/html": [
       "<div>\n",
       "<style scoped>\n",
       "    .dataframe tbody tr th:only-of-type {\n",
       "        vertical-align: middle;\n",
       "    }\n",
       "\n",
       "    .dataframe tbody tr th {\n",
       "        vertical-align: top;\n",
       "    }\n",
       "\n",
       "    .dataframe thead th {\n",
       "        text-align: right;\n",
       "    }\n",
       "</style>\n",
       "<table border=\"1\" class=\"dataframe\">\n",
       "  <thead>\n",
       "    <tr style=\"text-align: right;\">\n",
       "      <th></th>\n",
       "      <th>Km Driven</th>\n",
       "      <th>Mileage</th>\n",
       "    </tr>\n",
       "    <tr>\n",
       "      <th>Brand</th>\n",
       "      <th></th>\n",
       "      <th></th>\n",
       "    </tr>\n",
       "  </thead>\n",
       "  <tbody>\n",
       "    <tr>\n",
       "      <th>Audi</th>\n",
       "      <td>10000.0</td>\n",
       "      <td>19.0</td>\n",
       "    </tr>\n",
       "    <tr>\n",
       "      <th>BMW</th>\n",
       "      <td>70000.0</td>\n",
       "      <td>12.5</td>\n",
       "    </tr>\n",
       "    <tr>\n",
       "      <th>Chevrolet</th>\n",
       "      <td>25000.0</td>\n",
       "      <td>16.0</td>\n",
       "    </tr>\n",
       "    <tr>\n",
       "      <th>Ford</th>\n",
       "      <td>60000.0</td>\n",
       "      <td>14.8</td>\n",
       "    </tr>\n",
       "    <tr>\n",
       "      <th>Honda</th>\n",
       "      <td>30000.0</td>\n",
       "      <td>17.2</td>\n",
       "    </tr>\n",
       "    <tr>\n",
       "      <th>Hyundai</th>\n",
       "      <td>40000.0</td>\n",
       "      <td>16.7</td>\n",
       "    </tr>\n",
       "    <tr>\n",
       "      <th>Kia</th>\n",
       "      <td>35000.0</td>\n",
       "      <td>17.5</td>\n",
       "    </tr>\n",
       "    <tr>\n",
       "      <th>Mercedes</th>\n",
       "      <td>50000.0</td>\n",
       "      <td>14.2</td>\n",
       "    </tr>\n",
       "    <tr>\n",
       "      <th>Nissan</th>\n",
       "      <td>20000.0</td>\n",
       "      <td>18.5</td>\n",
       "    </tr>\n",
       "    <tr>\n",
       "      <th>Toyota</th>\n",
       "      <td>45000.0</td>\n",
       "      <td>15.5</td>\n",
       "    </tr>\n",
       "  </tbody>\n",
       "</table>\n",
       "</div>"
      ],
      "text/plain": [
       "           Km Driven  Mileage\n",
       "Brand                        \n",
       "Audi         10000.0     19.0\n",
       "BMW          70000.0     12.5\n",
       "Chevrolet    25000.0     16.0\n",
       "Ford         60000.0     14.8\n",
       "Honda        30000.0     17.2\n",
       "Hyundai      40000.0     16.7\n",
       "Kia          35000.0     17.5\n",
       "Mercedes     50000.0     14.2\n",
       "Nissan       20000.0     18.5\n",
       "Toyota       45000.0     15.5"
      ]
     },
     "execution_count": 46,
     "metadata": {},
     "output_type": "execute_result"
    }
   ],
   "source": [
    "df.groupby(\"Brand\").agg({\"Km Driven\": \"mean\",\n",
    "                                  \"Mileage\": \"max\"})"
   ]
  },
  {
   "cell_type": "code",
   "execution_count": 49,
   "id": "363d8f4f",
   "metadata": {},
   "outputs": [
    {
     "data": {
      "text/plain": [
       "[15.5]"
      ]
     },
     "execution_count": 49,
     "metadata": {},
     "output_type": "execute_result"
    }
   ],
   "source": [
    "[df[df[\"City\"]==\"New York\"][\"Mileage\"].mean()]"
   ]
  },
  {
   "cell_type": "code",
   "execution_count": 56,
   "id": "9b0d740c",
   "metadata": {},
   "outputs": [
    {
     "data": {
      "text/html": [
       "<div>\n",
       "<style scoped>\n",
       "    .dataframe tbody tr th:only-of-type {\n",
       "        vertical-align: middle;\n",
       "    }\n",
       "\n",
       "    .dataframe tbody tr th {\n",
       "        vertical-align: top;\n",
       "    }\n",
       "\n",
       "    .dataframe thead th {\n",
       "        text-align: right;\n",
       "    }\n",
       "</style>\n",
       "<table border=\"1\" class=\"dataframe\">\n",
       "  <thead>\n",
       "    <tr style=\"text-align: right;\">\n",
       "      <th></th>\n",
       "      <th>Brand</th>\n",
       "      <th>Year</th>\n",
       "      <th>Km Driven</th>\n",
       "      <th>City</th>\n",
       "      <th>Mileage</th>\n",
       "    </tr>\n",
       "  </thead>\n",
       "  <tbody>\n",
       "    <tr>\n",
       "      <th>6</th>\n",
       "      <td>Audi</td>\n",
       "      <td>2020</td>\n",
       "      <td>10000</td>\n",
       "      <td>Dallas</td>\n",
       "      <td>19.0</td>\n",
       "    </tr>\n",
       "    <tr>\n",
       "      <th>4</th>\n",
       "      <td>Nissan</td>\n",
       "      <td>2019</td>\n",
       "      <td>20000</td>\n",
       "      <td>Phoenix</td>\n",
       "      <td>18.5</td>\n",
       "    </tr>\n",
       "    <tr>\n",
       "      <th>9</th>\n",
       "      <td>Kia</td>\n",
       "      <td>2017</td>\n",
       "      <td>35000</td>\n",
       "      <td>Jacksonville</td>\n",
       "      <td>17.5</td>\n",
       "    </tr>\n",
       "  </tbody>\n",
       "</table>\n",
       "</div>"
      ],
      "text/plain": [
       "    Brand  Year  Km Driven          City  Mileage\n",
       "6    Audi  2020      10000        Dallas     19.0\n",
       "4  Nissan  2019      20000       Phoenix     18.5\n",
       "9     Kia  2017      35000  Jacksonville     17.5"
      ]
     },
     "execution_count": 56,
     "metadata": {},
     "output_type": "execute_result"
    }
   ],
   "source": [
    "df.nlargest(3,\"Mileage\")"
   ]
  },
  {
   "cell_type": "code",
   "execution_count": 80,
   "id": "7a8f8e87",
   "metadata": {},
   "outputs": [
    {
     "data": {
      "text/plain": [
       "6    Audi\n",
       "Name: Brand, dtype: object"
      ]
     },
     "execution_count": 80,
     "metadata": {},
     "output_type": "execute_result"
    }
   ],
   "source": [
    "df[df[\"Mileage\"]==df[\"Mileage\"].max()][\"Brand\"]\n"
   ]
  },
  {
   "cell_type": "code",
   "execution_count": 6,
   "id": "109e4c31",
   "metadata": {},
   "outputs": [
    {
     "data": {
      "text/plain": [
       "array(['Toyota', 'Honda', 'Ford', 'Chevrolet', 'Nissan', 'BMW', 'Audi',\n",
       "       'Mercedes', 'Hyundai', 'Kia'], dtype=object)"
      ]
     },
     "execution_count": 6,
     "metadata": {},
     "output_type": "execute_result"
    }
   ],
   "source": [
    "df[\"Brand\"].unique()"
   ]
  },
  {
   "cell_type": "code",
   "execution_count": 2,
   "id": "d0618761",
   "metadata": {},
   "outputs": [],
   "source": [
    "import matplotlib.pyplot as plt"
   ]
  },
  {
   "cell_type": "code",
   "execution_count": 17,
   "id": "450198d0",
   "metadata": {},
   "outputs": [
    {
     "name": "stderr",
     "output_type": "stream",
     "text": [
      "C:\\Users\\HP\\AppData\\Local\\Temp\\ipykernel_11108\\2272784869.py:2: UserWarning: linestyle is redundantly defined by the 'linestyle' keyword argument and the fmt string \"c-\" (-> linestyle='-'). The keyword argument will take precedence.\n",
      "  plt.plot(gp.values,gp.index,\"c-\",linestyle=\"\",marker = \".\",markersize = \"10\")\n"
     ]
    },
    {
     "data": {
      "image/png": "[encoded data removed]",
      "text/plain": [
       "<Figure size 640x480 with 1 Axes>"
      ]
     },
     "metadata": {},
     "output_type": "display_data"
    }
   ],
   "source": [
    "gp = df.groupby(\"Brand\")[\"Km Driven\"].mean()\n",
    "plt.plot(gp.values,gp.index,\"c-\",linestyle=\"\",marker = \".\",markersize = \"10\")\n",
    "plt.grid(True)"
   ]
  },
  {
   "cell_type": "code",
   "execution_count": null,
   "id": "785d1fcb",
   "metadata": {},
   "outputs": [],
   "source": []
  },
  {
   "cell_type": "code",
   "execution_count": 3,
   "id": "23a05b12",
   "metadata": {},
   "outputs": [
    {
     "data": {
      "text/html": [
       "<div>\n",
       "<style scoped>\n",
       "    .dataframe tbody tr th:only-of-type {\n",
       "        vertical-align: middle;\n",
       "    }\n",
       "\n",
       "    .dataframe tbody tr th {\n",
       "        vertical-align: top;\n",
       "    }\n",
       "\n",
       "    .dataframe thead th {\n",
       "        text-align: right;\n",
       "    }\n",
       "</style>\n",
       "<table border=\"1\" class=\"dataframe\">\n",
       "  <thead>\n",
       "    <tr style=\"text-align: right;\">\n",
       "      <th></th>\n",
       "      <th>Brand</th>\n",
       "      <th>Year</th>\n",
       "      <th>Km Driven</th>\n",
       "      <th>City</th>\n",
       "      <th>Mileage</th>\n",
       "    </tr>\n",
       "  </thead>\n",
       "  <tbody>\n",
       "    <tr>\n",
       "      <th>0</th>\n",
       "      <td>Toyota</td>\n",
       "      <td>2015</td>\n",
       "      <td>45000</td>\n",
       "      <td>New York</td>\n",
       "      <td>15.5</td>\n",
       "    </tr>\n",
       "    <tr>\n",
       "      <th>1</th>\n",
       "      <td>Honda</td>\n",
       "      <td>2018</td>\n",
       "      <td>30000</td>\n",
       "      <td>Los Angeles</td>\n",
       "      <td>17.2</td>\n",
       "    </tr>\n",
       "    <tr>\n",
       "      <th>2</th>\n",
       "      <td>Ford</td>\n",
       "      <td>2016</td>\n",
       "      <td>60000</td>\n",
       "      <td>Chicago</td>\n",
       "      <td>14.8</td>\n",
       "    </tr>\n",
       "    <tr>\n",
       "      <th>3</th>\n",
       "      <td>Chevrolet</td>\n",
       "      <td>2017</td>\n",
       "      <td>25000</td>\n",
       "      <td>Houston</td>\n",
       "      <td>16.0</td>\n",
       "    </tr>\n",
       "    <tr>\n",
       "      <th>4</th>\n",
       "      <td>Nissan</td>\n",
       "      <td>2019</td>\n",
       "      <td>20000</td>\n",
       "      <td>Phoenix</td>\n",
       "      <td>18.5</td>\n",
       "    </tr>\n",
       "    <tr>\n",
       "      <th>5</th>\n",
       "      <td>BMW</td>\n",
       "      <td>2014</td>\n",
       "      <td>70000</td>\n",
       "      <td>San Diego</td>\n",
       "      <td>12.5</td>\n",
       "    </tr>\n",
       "    <tr>\n",
       "      <th>6</th>\n",
       "      <td>Audi</td>\n",
       "      <td>2020</td>\n",
       "      <td>10000</td>\n",
       "      <td>Dallas</td>\n",
       "      <td>19.0</td>\n",
       "    </tr>\n",
       "    <tr>\n",
       "      <th>7</th>\n",
       "      <td>Mercedes</td>\n",
       "      <td>2015</td>\n",
       "      <td>50000</td>\n",
       "      <td>San Jose</td>\n",
       "      <td>14.2</td>\n",
       "    </tr>\n",
       "    <tr>\n",
       "      <th>8</th>\n",
       "      <td>Hyundai</td>\n",
       "      <td>2016</td>\n",
       "      <td>40000</td>\n",
       "      <td>Austin</td>\n",
       "      <td>16.7</td>\n",
       "    </tr>\n",
       "    <tr>\n",
       "      <th>9</th>\n",
       "      <td>Kia</td>\n",
       "      <td>2017</td>\n",
       "      <td>35000</td>\n",
       "      <td>Jacksonville</td>\n",
       "      <td>17.5</td>\n",
       "    </tr>\n",
       "  </tbody>\n",
       "</table>\n",
       "</div>"
      ],
      "text/plain": [
       "       Brand  Year  Km Driven          City  Mileage\n",
       "0     Toyota  2015      45000      New York     15.5\n",
       "1      Honda  2018      30000   Los Angeles     17.2\n",
       "2       Ford  2016      60000       Chicago     14.8\n",
       "3  Chevrolet  2017      25000       Houston     16.0\n",
       "4     Nissan  2019      20000       Phoenix     18.5\n",
       "5        BMW  2014      70000     San Diego     12.5\n",
       "6       Audi  2020      10000        Dallas     19.0\n",
       "7   Mercedes  2015      50000      San Jose     14.2\n",
       "8    Hyundai  2016      40000        Austin     16.7\n",
       "9        Kia  2017      35000  Jacksonville     17.5"
      ]
     },
     "execution_count": 3,
     "metadata": {},
     "output_type": "execute_result"
    }
   ],
   "source": [
    "import pandas as pd\n",
    "val = {\n",
    "    \"Brand\": [\"Toyota\", \"Honda\", \"Ford\", \"Chevrolet\", \"Nissan\", \"BMW\", \"Audi\", \"Mercedes\", \"Hyundai\", \"Kia\"],\n",
    "    \"Year\": [2015, 2018, 2016, 2017, 2019, 2014, 2020, 2015, 2016, 2017],\n",
    "    \"Km Driven\": [45000, 30000, 60000, 25000, 20000, 70000, 10000, 50000, 40000, 35000],\n",
    "    \"City\": [\"New York\", \"Los Angeles\", \"Chicago\", \"Houston\", \"Phoenix\", \"San Diego\", \"Dallas\", \"San Jose\", \"Austin\", \"Jacksonville\"],\n",
    "    \"Mileage\": [15.5, 17.2, 14.8, 16.0, 18.5, 12.5, 19.0, 14.2, 16.7, 17.5]\n",
    "}\n",
    "df = pd.DataFrame(val)\n",
    "df"
   ]
  },
  {
   "cell_type": "code",
   "execution_count": 10,
   "id": "c53edaa8",
   "metadata": {},
   "outputs": [
    {
     "name": "stdout",
     "output_type": "stream",
     "text": [
      "starting and end value of y axis 12.175 19.325\n",
      "starting value and ending of x value -0.45 to 9.45\n"
     ]
    },
    {
     "data": {
      "image/png": "[encoded data removed]",
      "text/plain": [
       "<Figure size 640x480 with 1 Axes>"
      ]
     },
     "metadata": {},
     "output_type": "display_data"
    }
   ],
   "source": [
    "import pandas as pd\n",
    "import matplotlib.pyplot as plt\n",
    "\n",
    "# Assuming 'df' is your DataFrame\n",
    "mileage_mean = df[\"Mileage\"]\n",
    "km_driven_sum = df[\"Km Driven\"]\n",
    "\n",
    "# Creating the data\n",
    " \n",
    " \n",
    "\n",
    "\n",
    "\n",
    "plt.plot(df[\"Mileage\"], \"c-\", marker=\".\", markersize=10,label = \"mileage\")\n",
    "left,right = plt.xlim()\n",
    "left1,rigth1 = plt.ylim()\n",
    "print(\"starting and end value of y axis\",left1,rigth1)\n",
    "print(\"starting value and ending of x value\",left,\"to\",right)\n",
    "plt.plot(df[\"Km Driven\"] , \"r--\", marker=\"+\", markersize=10,label = \"Km Driven\")\n",
    "plt.xlabel(\"Category\")\n",
    "plt.ylabel(\"Value\")\n",
    "plt.title(\"Mean Mileage and Total Km Driven\")\n",
    "plt.legend()\n",
    "plt.grid(color = \"blue\")\n",
    "plt.show()\n"
   ]
  },
  {
   "cell_type": "code",
   "execution_count": 11,
   "id": "0ff51f4c",
   "metadata": {},
   "outputs": [
    {
     "name": "stdout",
     "output_type": "stream",
     "text": [
      "starting and end value of y axis 12.175 19.325\n",
      "starting value and ending of x value -0.45 to 9.45\n"
     ]
    },
    {
     "data": {
      "image/png": "[encoded data removed]",
      "text/plain": [
       "<Figure size 640x480 with 1 Axes>"
      ]
     },
     "metadata": {},
     "output_type": "display_data"
    }
   ],
   "source": [
    "import pandas as pd\n",
    "import matplotlib.pyplot as plt\n",
    "\n",
    "# Assuming 'df' is your DataFrame\n",
    "mileage_mean = df[\"Mileage\"]\n",
    "km_driven_sum = df[\"Km Driven\"]\n",
    "\n",
    "# Creating the data\n",
    " \n",
    " \n",
    "\n",
    "\n",
    "\n",
    "plt.plot(df[\"Mileage\"], \"c-\", marker=\".\", markersize=10,label = \"mileage\")\n",
    "left,right = plt.xlim()\n",
    "left1,rigth1 = plt.ylim()\n",
    "print(\"starting and end value of y axis\",left1,rigth1)\n",
    "print(\"starting value and ending of x value\",left,\"to\",right)\n",
    "plt.plot(df[\"Km Driven\"] , \"r--\", marker=\"+\", markersize=10,label = \"Km Driven\")\n",
    "plt.xlabel(\"Category\")\n",
    "plt.ylabel(\"Value\")\n",
    "plt.title(\"Mean Mileage and Total Km Driven\")\n",
    "plt.legend(loc = (0.1,1.1),ncol = 2,fontsize = \"xx-large\")# we can change the location of the legend based on the loc functiom\n",
    "plt.grid(color = \"blue\")\n",
    "plt.show()\n"
   ]
  },
  {
   "cell_type": "code",
   "execution_count": 43,
   "id": "891e1b8b",
   "metadata": {},
   "outputs": [
    {
     "data": {
      "text/plain": [
       "[<matplotlib.lines.Line2D at 0x226727fefd0>]"
      ]
     },
     "execution_count": 43,
     "metadata": {},
     "output_type": "execute_result"
    },
    {
     "data": {
      "image/png": "[encoded data removed]",
      "text/plain": [
       "<Figure size 640x480 with 1 Axes>"
      ]
     },
     "metadata": {},
     "output_type": "display_data"
    }
   ],
   "source": [
    "plt.plot([1,2,3],[5,6,7],linewidth = 20,alpha = 0.5)\n",
    "plt.plot([10,20,30,45,50],linewidth = 20,alpha = 0.2)"
   ]
  },
  {
   "cell_type": "code",
   "execution_count": 13,
   "id": "b70667fb",
   "metadata": {},
   "outputs": [
    {
     "name": "stdout",
     "output_type": "stream",
     "text": [
      "starting and end value of y axis 12.175 19.325\n",
      "starting value and ending of x value -0.45 to 9.45\n"
     ]
    },
    {
     "data": {
      "image/png": "[encoded data removed]",
      "text/plain": [
       "<Figure size 640x480 with 1 Axes>"
      ]
     },
     "metadata": {},
     "output_type": "display_data"
    }
   ],
   "source": [
    "import pandas as pd\n",
    "import matplotlib.pyplot as plt\n",
    "\n",
    "# Assuming 'df' is your DataFrame\n",
    "mileage_mean = df[\"Mileage\"]\n",
    "km_driven_sum = df[\"Km Driven\"]\n",
    "\n",
    "# Creating the data\n",
    " \n",
    " \n",
    "\n",
    "\n",
    "\n",
    "plt.plot(df[\"Mileage\"], \"c-\", marker=\".\", markersize=10,label = \"mileage\")\n",
    "left,right = plt.xlim()\n",
    "left1,rigth1 = plt.ylim()\n",
    "print(\"starting and end value of y axis\",left1,rigth1)\n",
    "print(\"starting value and ending of x value\",left,\"to\",right)\n",
    "plt.plot(df[\"Km Driven\"] , \"r--\", marker=\"+\", markersize=10,label = \"Km Driven\")\n",
    "plt.xlabel(\"Category\")\n",
    "plt.ylabel(\"Value\")\n",
    "plt.title(\"Mean Mileage and Total Km Driven\")\n",
    "plt.legend(loc = (0.1,1.1),ncol = 2,fontsize = \"small\",facecolor = \"green\")# we can change the location of the legend based on the loc functiom\n",
    "plt.grid(color = \"blue\")\n",
    "plt.show()\n"
   ]
  },
  {
   "cell_type": "code",
   "execution_count": null,
   "id": "61001003",
   "metadata": {},
   "outputs": [],
   "source": []
  }
 ],
 "metadata": {
  "kernelspec": {
   "display_name": "Python 3 (ipykernel)",
   "language": "python",
   "name": "python3"
  },
  "language_info": {
   "codemirror_mode": {
    "name": "ipython",
    "version": 3
   },
   "file_extension": ".py",
   "mimetype": "text/x-python",
   "name": "python",
   "nbconvert_exporter": "python",
   "pygments_lexer": "ipython3",
   "version": "3.11.7"
  }
 },
 "nbformat": 4,
 "nbformat_minor": 5
}
