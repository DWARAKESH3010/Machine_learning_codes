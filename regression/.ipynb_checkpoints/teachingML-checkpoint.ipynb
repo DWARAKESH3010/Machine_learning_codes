{
 "cells": [
  {
   "cell_type": "code",
   "execution_count": null,
   "id": "7d0158cf-5813-41c6-afac-47b96878c933",
   "metadata": {},
   "outputs": [],
   "source": []
  }
 ],
 "metadata": {
  "kernelspec": {
   "display_name": "Python 3 (ipykernel)",
   "language": "python",
   "name": "python3"
  },
  "language_info": {
   "codemirror_mode": {
    "name": "ipython",
    "version": 3
   },
   "file_extension": ".py",
   "mimetype": "text/x-python",
   "name": "python",
   "nbconvert_exporter": "python",
   "pygments_lexer": "ipython3",
   "version": "3.11.7"
  }
 },
 "nbformat": 4,
 "nbformat_minor": 5
}
