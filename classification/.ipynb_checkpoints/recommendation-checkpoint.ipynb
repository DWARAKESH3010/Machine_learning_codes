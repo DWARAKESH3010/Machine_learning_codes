{
 "cells": [
  {
   "cell_type": "markdown",
   "id": "ea731759-33ae-4ca6-adaf-4a8db71a1943",
   "metadata": {},
   "source": [
    "# count vectorizer reference link : https://www.youtube.com/watch?v=unABVXnjFXw"
   ]
  },
  {
   "cell_type": "code",
   "execution_count": 23,
   "id": "935ec720-6040-43d4-ae6d-3d08e1c37d68",
   "metadata": {},
   "outputs": [],
   "source": [
    "from sklearn.feature_extraction.text import CountVectorizer\n",
    "import pandas as pd"
   ]
  },
  {
   "cell_type": "code",
   "execution_count": 15,
   "id": "25a1dc96-8d9c-454f-8183-501aada3191c",
   "metadata": {},
   "outputs": [
    {
     "data": {
      "text/plain": [
       "array([[1, 1, 0, 1, 1, 1, 1, 1, 0, 1, 1],\n",
       "       [0, 0, 1, 1, 0, 0, 0, 0, 1, 0, 0]], dtype=int64)"
      ]
     },
     "execution_count": 15,
     "metadata": {},
     "output_type": "execute_result"
    }
   ],
   "source": [
    "text = [\"hello this is dwarakesh how are you i am fine\",\"then bye dwarakesh\"]       # it will give count the words in row by row\n",
    "cv = CountVectorizer()\n",
    "result = cv.fit_transform(text)\n",
    "result = result.toarray()\n",
    "result"
   ]
  },
  {
   "cell_type": "code",
   "execution_count": 14,
   "id": "27e36e66-b208-4dd5-96fb-eb4abb14ef0f",
   "metadata": {},
   "outputs": [
    {
     "data": {
      "text/html": [
       "<div>\n",
       "<style scoped>\n",
       "    .dataframe tbody tr th:only-of-type {\n",
       "        vertical-align: middle;\n",
       "    }\n",
       "\n",
       "    .dataframe tbody tr th {\n",
       "        vertical-align: top;\n",
       "    }\n",
       "\n",
       "    .dataframe thead th {\n",
       "        text-align: right;\n",
       "    }\n",
       "</style>\n",
       "<table border=\"1\" class=\"dataframe\">\n",
       "  <thead>\n",
       "    <tr style=\"text-align: right;\">\n",
       "      <th></th>\n",
       "      <th>am</th>\n",
       "      <th>are</th>\n",
       "      <th>bye</th>\n",
       "      <th>dwarakesh</th>\n",
       "      <th>fine</th>\n",
       "      <th>hello</th>\n",
       "      <th>how</th>\n",
       "      <th>is</th>\n",
       "      <th>then</th>\n",
       "      <th>this</th>\n",
       "      <th>you</th>\n",
       "    </tr>\n",
       "  </thead>\n",
       "  <tbody>\n",
       "    <tr>\n",
       "      <th>0</th>\n",
       "      <td>1</td>\n",
       "      <td>1</td>\n",
       "      <td>0</td>\n",
       "      <td>1</td>\n",
       "      <td>1</td>\n",
       "      <td>1</td>\n",
       "      <td>1</td>\n",
       "      <td>1</td>\n",
       "      <td>0</td>\n",
       "      <td>1</td>\n",
       "      <td>1</td>\n",
       "    </tr>\n",
       "    <tr>\n",
       "      <th>1</th>\n",
       "      <td>0</td>\n",
       "      <td>0</td>\n",
       "      <td>1</td>\n",
       "      <td>1</td>\n",
       "      <td>0</td>\n",
       "      <td>0</td>\n",
       "      <td>0</td>\n",
       "      <td>0</td>\n",
       "      <td>1</td>\n",
       "      <td>0</td>\n",
       "      <td>0</td>\n",
       "    </tr>\n",
       "  </tbody>\n",
       "</table>\n",
       "</div>"
      ],
      "text/plain": [
       "   am  are  bye  dwarakesh  fine  hello  how  is  then  this  you\n",
       "0   1    1    0          1     1      1    1   1     0     1    1\n",
       "1   0    0    1          1     0      0    0   0     1     0    0"
      ]
     },
     "execution_count": 14,
     "metadata": {},
     "output_type": "execute_result"
    }
   ],
   "source": [
    "fre = pd.DataFrame(data = result,columns = cv.get_feature_names_out())\n",
    "fre"
   ]
  },
  {
   "cell_type": "markdown",
   "id": "bbbb3773-bb87-415f-9be9-f8ebbd43e28f",
   "metadata": {},
   "source": [
    "# using stop words "
   ]
  },
  {
   "cell_type": "code",
   "execution_count": 18,
   "id": "3fe95188-ba51-4ec9-91ea-e44ec7734148",
   "metadata": {},
   "outputs": [
    {
     "data": {
      "text/plain": [
       "array([[0, 1, 1, 1],\n",
       "       [1, 1, 0, 0]], dtype=int64)"
      ]
     },
     "execution_count": 18,
     "metadata": {},
     "output_type": "execute_result"
    }
   ],
   "source": [
    "text = [\"hello this is dwarakesh how are you i am fine\",\"then bye dwarakesh\"]\n",
    "cv = CountVectorizer(stop_words = \"english\")\n",
    "result1 = cv.fit_transform(text)\n",
    "result1 = result1.toarray()\n",
    "result1"
   ]
  },
  {
   "cell_type": "code",
   "execution_count": 19,
   "id": "3d559de3-2f5f-4a40-a85e-ad1500d56d45",
   "metadata": {},
   "outputs": [
    {
     "data": {
      "text/html": [
       "<div>\n",
       "<style scoped>\n",
       "    .dataframe tbody tr th:only-of-type {\n",
       "        vertical-align: middle;\n",
       "    }\n",
       "\n",
       "    .dataframe tbody tr th {\n",
       "        vertical-align: top;\n",
       "    }\n",
       "\n",
       "    .dataframe thead th {\n",
       "        text-align: right;\n",
       "    }\n",
       "</style>\n",
       "<table border=\"1\" class=\"dataframe\">\n",
       "  <thead>\n",
       "    <tr style=\"text-align: right;\">\n",
       "      <th></th>\n",
       "      <th>bye</th>\n",
       "      <th>dwarakesh</th>\n",
       "      <th>fine</th>\n",
       "      <th>hello</th>\n",
       "    </tr>\n",
       "  </thead>\n",
       "  <tbody>\n",
       "    <tr>\n",
       "      <th>0</th>\n",
       "      <td>0</td>\n",
       "      <td>1</td>\n",
       "      <td>1</td>\n",
       "      <td>1</td>\n",
       "    </tr>\n",
       "    <tr>\n",
       "      <th>1</th>\n",
       "      <td>1</td>\n",
       "      <td>1</td>\n",
       "      <td>0</td>\n",
       "      <td>0</td>\n",
       "    </tr>\n",
       "  </tbody>\n",
       "</table>\n",
       "</div>"
      ],
      "text/plain": [
       "   bye  dwarakesh  fine  hello\n",
       "0    0          1     1      1\n",
       "1    1          1     0      0"
      ]
     },
     "execution_count": 19,
     "metadata": {},
     "output_type": "execute_result"
    }
   ],
   "source": [
    "fre1 = pd.DataFrame(data = result1,columns = cv.get_feature_names_out())\n",
    "fre1"
   ]
  },
  {
   "cell_type": "markdown",
   "id": "93b6a1e3-b106-4032-bcdb-e824c3250818",
   "metadata": {},
   "source": [
    "# using max_feature for custom important column"
   ]
  },
  {
   "cell_type": "code",
   "execution_count": 20,
   "id": "982ca4af-90f8-4543-8dea-bebb3480a432",
   "metadata": {},
   "outputs": [
    {
     "data": {
      "text/plain": [
       "array([[0, 1, 1],\n",
       "       [1, 1, 0]], dtype=int64)"
      ]
     },
     "execution_count": 20,
     "metadata": {},
     "output_type": "execute_result"
    }
   ],
   "source": [
    "text = [\"hello this is dwarakesh how are you i am fine\",\"then bye dwarakesh\"]\n",
    "cv = CountVectorizer(stop_words = \"english\",max_features=3)\n",
    "result1 = cv.fit_transform(text)\n",
    "result1 = result1.toarray()\n",
    "result1"
   ]
  },
  {
   "cell_type": "code",
   "execution_count": 21,
   "id": "80a77f3b-14d3-4923-8466-bda7347b3bac",
   "metadata": {},
   "outputs": [
    {
     "data": {
      "text/html": [
       "<div>\n",
       "<style scoped>\n",
       "    .dataframe tbody tr th:only-of-type {\n",
       "        vertical-align: middle;\n",
       "    }\n",
       "\n",
       "    .dataframe tbody tr th {\n",
       "        vertical-align: top;\n",
       "    }\n",
       "\n",
       "    .dataframe thead th {\n",
       "        text-align: right;\n",
       "    }\n",
       "</style>\n",
       "<table border=\"1\" class=\"dataframe\">\n",
       "  <thead>\n",
       "    <tr style=\"text-align: right;\">\n",
       "      <th></th>\n",
       "      <th>bye</th>\n",
       "      <th>dwarakesh</th>\n",
       "      <th>fine</th>\n",
       "    </tr>\n",
       "  </thead>\n",
       "  <tbody>\n",
       "    <tr>\n",
       "      <th>0</th>\n",
       "      <td>0</td>\n",
       "      <td>1</td>\n",
       "      <td>1</td>\n",
       "    </tr>\n",
       "    <tr>\n",
       "      <th>1</th>\n",
       "      <td>1</td>\n",
       "      <td>1</td>\n",
       "      <td>0</td>\n",
       "    </tr>\n",
       "  </tbody>\n",
       "</table>\n",
       "</div>"
      ],
      "text/plain": [
       "   bye  dwarakesh  fine\n",
       "0    0          1     1\n",
       "1    1          1     0"
      ]
     },
     "execution_count": 21,
     "metadata": {},
     "output_type": "execute_result"
    }
   ],
   "source": [
    "fre1 = pd.DataFrame(data = result1,columns = cv.get_feature_names_out())\n",
    "fre1"
   ]
  },
  {
   "cell_type": "code",
   "execution_count": null,
   "id": "44bfee6b-1ec3-4c5d-a41a-be642e910afc",
   "metadata": {},
   "outputs": [],
   "source": []
  },
  {
   "cell_type": "code",
   "execution_count": null,
   "id": "66675cd1-3fd4-433f-adfa-eafc3f8ce2ae",
   "metadata": {},
   "outputs": [],
   "source": []
  },
  {
   "cell_type": "code",
   "execution_count": null,
   "id": "9e1ff27c-f052-4fea-bcef-60c748f29db7",
   "metadata": {},
   "outputs": [],
   "source": []
  },
  {
   "cell_type": "code",
   "execution_count": null,
   "id": "6a8b0a33-5a31-4b07-9702-05409c10c199",
   "metadata": {},
   "outputs": [],
   "source": []
  },
  {
   "cell_type": "code",
   "execution_count": null,
   "id": "7238166c-e959-4db4-ab6a-71031ef753fa",
   "metadata": {},
   "outputs": [],
   "source": []
  },
  {
   "cell_type": "code",
   "execution_count": null,
   "id": "77b717b8-8460-4ea7-83ff-57c289431ecb",
   "metadata": {},
   "outputs": [],
   "source": []
  },
  {
   "cell_type": "code",
   "execution_count": null,
   "id": "fcfa23d1-5a8f-4c81-8d57-ddaebffc3022",
   "metadata": {},
   "outputs": [],
   "source": []
  },
  {
   "cell_type": "code",
   "execution_count": null,
   "id": "2008622f-0cae-4ecb-9876-7f261f86517f",
   "metadata": {},
   "outputs": [],
   "source": []
  },
  {
   "cell_type": "code",
   "execution_count": null,
   "id": "3c5c30f4-1c19-4f3d-9500-84f424c6f52b",
   "metadata": {},
   "outputs": [],
   "source": []
  },
  {
   "cell_type": "code",
   "execution_count": null,
   "id": "f3e53732-c4ae-4afc-9290-c6b9d5d75d9f",
   "metadata": {},
   "outputs": [],
   "source": []
  },
  {
   "cell_type": "code",
   "execution_count": null,
   "id": "d2083e8f-7f1e-497c-8ad0-b412f59f7475",
   "metadata": {},
   "outputs": [],
   "source": []
  },
  {
   "cell_type": "code",
   "execution_count": null,
   "id": "cda774be-19b6-49c4-a494-37ba6e3d8de9",
   "metadata": {},
   "outputs": [],
   "source": []
  },
  {
   "cell_type": "code",
   "execution_count": null,
   "id": "bcc24275-ef12-4ca6-95d3-05d57f1d3145",
   "metadata": {},
   "outputs": [],
   "source": []
  },
  {
   "cell_type": "code",
   "execution_count": null,
   "id": "4e4f90c0-cfb8-4a35-a987-95466a7a25f4",
   "metadata": {},
   "outputs": [],
   "source": []
  },
  {
   "cell_type": "code",
   "execution_count": null,
   "id": "0651bf0f-49b4-46eb-bf7e-5a56e8d084ef",
   "metadata": {},
   "outputs": [],
   "source": []
  }
 ],
 "metadata": {
  "kernelspec": {
   "display_name": "Python 3 (ipykernel)",
   "language": "python",
   "name": "python3"
  },
  "language_info": {
   "codemirror_mode": {
    "name": "ipython",
    "version": 3
   },
   "file_extension": ".py",
   "mimetype": "text/x-python",
   "name": "python",
   "nbconvert_exporter": "python",
   "pygments_lexer": "ipython3",
   "version": "3.12.4"
  }
 },
 "nbformat": 4,
 "nbformat_minor": 5
}
