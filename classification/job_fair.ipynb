{
 "cells": [
  {
   "cell_type": "code",
   "execution_count": 278,
   "id": "310cc061-82eb-4601-ad40-48ef037fa0ae",
   "metadata": {},
   "outputs": [],
   "source": [
    "import pandas as pd\n",
    "import plotly.express as px\n",
    "import matplotlib.pyplot as plt\n",
    "import seaborn as sns\n",
    "import numpy as np\n",
    "import warnings\n",
    "warnings.filterwarnings(action = \"ignore\")"
   ]
  },
  {
   "cell_type": "code",
   "execution_count": 279,
   "id": "0005378f-5a31-460f-831c-a6b28ff1dd3f",
   "metadata": {},
   "outputs": [
    {
     "data": {
      "text/html": [
       "<div>\n",
       "<style scoped>\n",
       "    .dataframe tbody tr th:only-of-type {\n",
       "        vertical-align: middle;\n",
       "    }\n",
       "\n",
       "    .dataframe tbody tr th {\n",
       "        vertical-align: top;\n",
       "    }\n",
       "\n",
       "    .dataframe thead th {\n",
       "        text-align: right;\n",
       "    }\n",
       "</style>\n",
       "<table border=\"1\" class=\"dataframe\">\n",
       "  <thead>\n",
       "    <tr style=\"text-align: right;\">\n",
       "      <th></th>\n",
       "      <th>student_id</th>\n",
       "      <th>skills</th>\n",
       "      <th>experience_years</th>\n",
       "      <th>course_grades</th>\n",
       "      <th>projects_completed</th>\n",
       "      <th>extracurriculars</th>\n",
       "      <th>job_offer</th>\n",
       "    </tr>\n",
       "  </thead>\n",
       "  <tbody>\n",
       "    <tr>\n",
       "      <th>0</th>\n",
       "      <td>1</td>\n",
       "      <td>Python;Data Analysis;SQL</td>\n",
       "      <td>3</td>\n",
       "      <td>75.26</td>\n",
       "      <td>9</td>\n",
       "      <td>0</td>\n",
       "      <td>1</td>\n",
       "    </tr>\n",
       "    <tr>\n",
       "      <th>1</th>\n",
       "      <td>2</td>\n",
       "      <td>Java</td>\n",
       "      <td>4</td>\n",
       "      <td>74.25</td>\n",
       "      <td>6</td>\n",
       "      <td>2</td>\n",
       "      <td>1</td>\n",
       "    </tr>\n",
       "    <tr>\n",
       "      <th>2</th>\n",
       "      <td>3</td>\n",
       "      <td>Data Analysis</td>\n",
       "      <td>2</td>\n",
       "      <td>74.89</td>\n",
       "      <td>4</td>\n",
       "      <td>3</td>\n",
       "      <td>0</td>\n",
       "    </tr>\n",
       "    <tr>\n",
       "      <th>3</th>\n",
       "      <td>4</td>\n",
       "      <td>Data Analysis</td>\n",
       "      <td>4</td>\n",
       "      <td>72.73</td>\n",
       "      <td>2</td>\n",
       "      <td>3</td>\n",
       "      <td>1</td>\n",
       "    </tr>\n",
       "    <tr>\n",
       "      <th>4</th>\n",
       "      <td>5</td>\n",
       "      <td>Machine Learning;Python;C++</td>\n",
       "      <td>4</td>\n",
       "      <td>84.85</td>\n",
       "      <td>1</td>\n",
       "      <td>4</td>\n",
       "      <td>0</td>\n",
       "    </tr>\n",
       "  </tbody>\n",
       "</table>\n",
       "</div>"
      ],
      "text/plain": [
       "   student_id                       skills  experience_years  course_grades  \\\n",
       "0           1     Python;Data Analysis;SQL                 3          75.26   \n",
       "1           2                         Java                 4          74.25   \n",
       "2           3                Data Analysis                 2          74.89   \n",
       "3           4                Data Analysis                 4          72.73   \n",
       "4           5  Machine Learning;Python;C++                 4          84.85   \n",
       "\n",
       "   projects_completed  extracurriculars  job_offer  \n",
       "0                   9                 0          1  \n",
       "1                   6                 2          1  \n",
       "2                   4                 3          0  \n",
       "3                   2                 3          1  \n",
       "4                   1                 4          0  "
      ]
     },
     "execution_count": 279,
     "metadata": {},
     "output_type": "execute_result"
    }
   ],
   "source": [
    "df = pd.read_csv(\"job_fair.csv\")\n",
    "data = df\n",
    "data.head()"
   ]
  },
  {
   "cell_type": "code",
   "execution_count": 280,
   "id": "19416511-f1b9-44d9-84de-2f150f3ca745",
   "metadata": {},
   "outputs": [
    {
     "name": "stdout",
     "output_type": "stream",
     "text": [
      "<class 'pandas.core.frame.DataFrame'>\n",
      "RangeIndex: 20000 entries, 0 to 19999\n",
      "Data columns (total 7 columns):\n",
      " #   Column              Non-Null Count  Dtype  \n",
      "---  ------              --------------  -----  \n",
      " 0   student_id          20000 non-null  int64  \n",
      " 1   skills              20000 non-null  object \n",
      " 2   experience_years    20000 non-null  int64  \n",
      " 3   course_grades       20000 non-null  float64\n",
      " 4   projects_completed  20000 non-null  int64  \n",
      " 5   extracurriculars    20000 non-null  int64  \n",
      " 6   job_offer           20000 non-null  int64  \n",
      "dtypes: float64(1), int64(5), object(1)\n",
      "memory usage: 1.1+ MB\n"
     ]
    }
   ],
   "source": [
    "data.info()"
   ]
  },
  {
   "cell_type": "code",
   "execution_count": 281,
   "id": "b2ff9e1e-d421-46c7-a617-fd3df124ffd1",
   "metadata": {},
   "outputs": [
    {
     "data": {
      "text/plain": [
       "156"
      ]
     },
     "execution_count": 281,
     "metadata": {},
     "output_type": "execute_result"
    }
   ],
   "source": [
    "len(data[\"skills\"].unique())"
   ]
  },
  {
   "cell_type": "markdown",
   "id": "0caed104-4b45-4356-8ffe-97d72c949b10",
   "metadata": {},
   "source": [
    "# checking the probablity of the target variable"
   ]
  },
  {
   "cell_type": "code",
   "execution_count": 282,
   "id": "cd7fccad-4494-44ea-8ee6-aa5aaf222f16",
   "metadata": {},
   "outputs": [
    {
     "data": {
      "text/plain": [
       "job_offer\n",
       "0    0.50625\n",
       "1    0.49375\n",
       "Name: count, dtype: float64"
      ]
     },
     "execution_count": 282,
     "metadata": {},
     "output_type": "execute_result"
    }
   ],
   "source": [
    "data[\"job_offer\"].value_counts()/len(data)     # so the probablity is almost balanced"
   ]
  },
  {
   "cell_type": "code",
   "execution_count": 283,
   "id": "7c88f2e6-0936-4065-96cd-c0d724a99c43",
   "metadata": {},
   "outputs": [
    {
     "data": {
      "text/plain": [
       "<Axes: >"
      ]
     },
     "execution_count": 283,
     "metadata": {},
     "output_type": "execute_result"
    },
    {
     "data": {
      "image/png": "[encoded data removed]",
      "text/plain": [
       "<Figure size 640x480 with 1 Axes>"
      ]
     },
     "metadata": {},
     "output_type": "display_data"
    }
   ],
   "source": [
    "sns.boxplot(data[\"extracurriculars\"])"
   ]
  },
  {
   "cell_type": "markdown",
   "id": "86cd2139-59a4-4692-8cda-d406ba7e4352",
   "metadata": {},
   "source": [
    "# Label Encoding"
   ]
  },
  {
   "cell_type": "code",
   "execution_count": 284,
   "id": "591fb9a3-8c42-42ef-a05e-7ca7c69d5102",
   "metadata": {},
   "outputs": [],
   "source": [
    "from sklearn.preprocessing import LabelEncoder "
   ]
  },
  {
   "cell_type": "code",
   "execution_count": 285,
   "id": "a5435700-d121-4db3-ba07-c6a21b83beb6",
   "metadata": {},
   "outputs": [
    {
     "data": {
      "text/html": [
       "<div>\n",
       "<style scoped>\n",
       "    .dataframe tbody tr th:only-of-type {\n",
       "        vertical-align: middle;\n",
       "    }\n",
       "\n",
       "    .dataframe tbody tr th {\n",
       "        vertical-align: top;\n",
       "    }\n",
       "\n",
       "    .dataframe thead th {\n",
       "        text-align: right;\n",
       "    }\n",
       "</style>\n",
       "<table border=\"1\" class=\"dataframe\">\n",
       "  <thead>\n",
       "    <tr style=\"text-align: right;\">\n",
       "      <th></th>\n",
       "      <th>student_id</th>\n",
       "      <th>skills</th>\n",
       "      <th>experience_years</th>\n",
       "      <th>course_grades</th>\n",
       "      <th>projects_completed</th>\n",
       "      <th>extracurriculars</th>\n",
       "      <th>job_offer</th>\n",
       "    </tr>\n",
       "  </thead>\n",
       "  <tbody>\n",
       "    <tr>\n",
       "      <th>0</th>\n",
       "      <td>1</td>\n",
       "      <td>114</td>\n",
       "      <td>3</td>\n",
       "      <td>75.26</td>\n",
       "      <td>9</td>\n",
       "      <td>0</td>\n",
       "      <td>1</td>\n",
       "    </tr>\n",
       "    <tr>\n",
       "      <th>1</th>\n",
       "      <td>2</td>\n",
       "      <td>52</td>\n",
       "      <td>4</td>\n",
       "      <td>74.25</td>\n",
       "      <td>6</td>\n",
       "      <td>2</td>\n",
       "      <td>1</td>\n",
       "    </tr>\n",
       "    <tr>\n",
       "      <th>2</th>\n",
       "      <td>3</td>\n",
       "      <td>26</td>\n",
       "      <td>2</td>\n",
       "      <td>74.89</td>\n",
       "      <td>4</td>\n",
       "      <td>3</td>\n",
       "      <td>0</td>\n",
       "    </tr>\n",
       "    <tr>\n",
       "      <th>3</th>\n",
       "      <td>4</td>\n",
       "      <td>26</td>\n",
       "      <td>4</td>\n",
       "      <td>72.73</td>\n",
       "      <td>2</td>\n",
       "      <td>3</td>\n",
       "      <td>1</td>\n",
       "    </tr>\n",
       "    <tr>\n",
       "      <th>4</th>\n",
       "      <td>5</td>\n",
       "      <td>95</td>\n",
       "      <td>4</td>\n",
       "      <td>84.85</td>\n",
       "      <td>1</td>\n",
       "      <td>4</td>\n",
       "      <td>0</td>\n",
       "    </tr>\n",
       "  </tbody>\n",
       "</table>\n",
       "</div>"
      ],
      "text/plain": [
       "   student_id  skills  experience_years  course_grades  projects_completed  \\\n",
       "0           1     114                 3          75.26                   9   \n",
       "1           2      52                 4          74.25                   6   \n",
       "2           3      26                 2          74.89                   4   \n",
       "3           4      26                 4          72.73                   2   \n",
       "4           5      95                 4          84.85                   1   \n",
       "\n",
       "   extracurriculars  job_offer  \n",
       "0                 0          1  \n",
       "1                 2          1  \n",
       "2                 3          0  \n",
       "3                 3          1  \n",
       "4                 4          0  "
      ]
     },
     "execution_count": 285,
     "metadata": {},
     "output_type": "execute_result"
    }
   ],
   "source": [
    "le = LabelEncoder()\n",
    "data[\"skills\"] = le.fit_transform(data[\"skills\"])\n",
    "data.head()"
   ]
  },
  {
   "cell_type": "markdown",
   "id": "ee1a8bfe-b438-4cf2-8c9b-5ec59b44016e",
   "metadata": {},
   "source": [
    "# Standard scaler method"
   ]
  },
  {
   "cell_type": "code",
   "execution_count": 286,
   "id": "d3c5363d-cc57-4f0c-97b0-5b85ceea27c8",
   "metadata": {},
   "outputs": [],
   "source": [
    "from sklearn.preprocessing import StandardScaler "
   ]
  },
  {
   "cell_type": "code",
   "execution_count": 288,
   "id": "5dce6cfe-2634-4b56-ad02-b71a55574a29",
   "metadata": {},
   "outputs": [
    {
     "data": {
      "text/html": [
       "<div>\n",
       "<style scoped>\n",
       "    .dataframe tbody tr th:only-of-type {\n",
       "        vertical-align: middle;\n",
       "    }\n",
       "\n",
       "    .dataframe tbody tr th {\n",
       "        vertical-align: top;\n",
       "    }\n",
       "\n",
       "    .dataframe thead th {\n",
       "        text-align: right;\n",
       "    }\n",
       "</style>\n",
       "<table border=\"1\" class=\"dataframe\">\n",
       "  <thead>\n",
       "    <tr style=\"text-align: right;\">\n",
       "      <th></th>\n",
       "      <th>skills</th>\n",
       "      <th>experience_years</th>\n",
       "      <th>course_grades</th>\n",
       "      <th>projects_completed</th>\n",
       "      <th>extracurriculars</th>\n",
       "    </tr>\n",
       "  </thead>\n",
       "  <tbody>\n",
       "    <tr>\n",
       "      <th>0</th>\n",
       "      <td>0.924164</td>\n",
       "      <td>0.292784</td>\n",
       "      <td>-0.419544</td>\n",
       "      <td>1.564625</td>\n",
       "      <td>-1.413014</td>\n",
       "    </tr>\n",
       "    <tr>\n",
       "      <th>1</th>\n",
       "      <td>-0.446350</td>\n",
       "      <td>0.877299</td>\n",
       "      <td>-0.507220</td>\n",
       "      <td>0.515749</td>\n",
       "      <td>0.002052</td>\n",
       "    </tr>\n",
       "    <tr>\n",
       "      <th>2</th>\n",
       "      <td>-1.021082</td>\n",
       "      <td>-0.291732</td>\n",
       "      <td>-0.451663</td>\n",
       "      <td>-0.183501</td>\n",
       "      <td>0.709585</td>\n",
       "    </tr>\n",
       "    <tr>\n",
       "      <th>3</th>\n",
       "      <td>-1.021082</td>\n",
       "      <td>0.877299</td>\n",
       "      <td>-0.639169</td>\n",
       "      <td>-0.882751</td>\n",
       "      <td>0.709585</td>\n",
       "    </tr>\n",
       "    <tr>\n",
       "      <th>4</th>\n",
       "      <td>0.504168</td>\n",
       "      <td>0.877299</td>\n",
       "      <td>0.412949</td>\n",
       "      <td>-1.232376</td>\n",
       "      <td>1.417118</td>\n",
       "    </tr>\n",
       "  </tbody>\n",
       "</table>\n",
       "</div>"
      ],
      "text/plain": [
       "     skills  experience_years  course_grades  projects_completed  \\\n",
       "0  0.924164          0.292784      -0.419544            1.564625   \n",
       "1 -0.446350          0.877299      -0.507220            0.515749   \n",
       "2 -1.021082         -0.291732      -0.451663           -0.183501   \n",
       "3 -1.021082          0.877299      -0.639169           -0.882751   \n",
       "4  0.504168          0.877299       0.412949           -1.232376   \n",
       "\n",
       "   extracurriculars  \n",
       "0         -1.413014  \n",
       "1          0.002052  \n",
       "2          0.709585  \n",
       "3          0.709585  \n",
       "4          1.417118  "
      ]
     },
     "execution_count": 288,
     "metadata": {},
     "output_type": "execute_result"
    }
   ],
   "source": [
    "scaler = StandardScaler()\n",
    "x = scaler.fit_transform(data.drop(columns = [\"job_offer\",\"student_id\"]))\n",
    "y = data[\"job_offer\"]\n",
    "x = pd.DataFrame(data = x, columns = data.drop(columns = ['job_offer',\"student_id\"]).columns)\n",
    "x.head()"
   ]
  },
  {
   "cell_type": "code",
   "execution_count": 289,
   "id": "9aa5dd3e-6815-4041-b04f-0883aaf059de",
   "metadata": {},
   "outputs": [
    {
     "name": "stdout",
     "output_type": "stream",
     "text": [
      "              feature       VIF\n",
      "0              skills  1.000294\n",
      "1    experience_years  1.000137\n",
      "2       course_grades  1.000122\n",
      "3  projects_completed  1.000191\n",
      "4    extracurriculars  1.000094\n"
     ]
    }
   ],
   "source": [
    "from statsmodels.stats.outliers_influence import variance_inflation_factor as vif\n",
    "\n",
    "vif_data = pd.DataFrame()\n",
    "vif_data[\"feature\"] = x.columns\n",
    "vif_data[\"VIF\"] = [vif(x.values, i) for i in range(len(x.columns))]\n",
    "\n",
    "print(vif_data)\n"
   ]
  },
  {
   "cell_type": "markdown",
   "id": "da168e50-093b-4249-8609-813ae213206a",
   "metadata": {},
   "source": [
    "# split into Train and Test "
   ]
  },
  {
   "cell_type": "code",
   "execution_count": 317,
   "id": "f6b54a61-a7f0-4314-b7bb-2ffe0bed8b9a",
   "metadata": {},
   "outputs": [
    {
     "data": {
      "text/plain": [
       "((14000, 5), (6000, 5), (14000,), (6000,))"
      ]
     },
     "execution_count": 317,
     "metadata": {},
     "output_type": "execute_result"
    }
   ],
   "source": [
    "from sklearn.model_selection import train_test_split as tts\n",
    "x_train, x_test, y_train, y_test = tts(x,y, test_size = 0.3, random_state = 42)\n",
    "x_train.shape, x_test.shape, y_train.shape, y_test.shape"
   ]
  },
  {
   "cell_type": "markdown",
   "id": "5e0342f3-4ed2-4e38-a4e1-ec8f59217abb",
   "metadata": {},
   "source": [
    "# logistic regression"
   ]
  },
  {
   "cell_type": "code",
   "execution_count": 318,
   "id": "ce752894-860e-4760-a379-cee3e6866f27",
   "metadata": {},
   "outputs": [],
   "source": [
    "from sklearn.linear_model import LogisticRegression\n",
    "lr = LogisticRegression()\n",
    "model = lr.fit(x_train,y_train)"
   ]
  },
  {
   "cell_type": "code",
   "execution_count": 319,
   "id": "b031c4fe-cfbd-47b4-be5f-c76550d6edd7",
   "metadata": {},
   "outputs": [],
   "source": [
    "pred = model.predict(x_test)\n",
    "pred_proba = model.predict_proba(x_test)"
   ]
  },
  {
   "cell_type": "code",
   "execution_count": 320,
   "id": "b331465f-b91e-41d0-bf69-a7f6ad0bc607",
   "metadata": {},
   "outputs": [
    {
     "data": {
      "text/plain": [
       "array([[0.49796873, 0.50203127],\n",
       "       [0.49422069, 0.50577931],\n",
       "       [0.49128472, 0.50871528],\n",
       "       ...,\n",
       "       [0.49209523, 0.50790477],\n",
       "       [0.51484547, 0.48515453],\n",
       "       [0.50447004, 0.49552996]])"
      ]
     },
     "execution_count": 320,
     "metadata": {},
     "output_type": "execute_result"
    }
   ],
   "source": [
    "pred_proba  # first_column = 0    secound_column = 1"
   ]
  },
  {
   "cell_type": "code",
   "execution_count": 321,
   "id": "fc314867-f79a-4678-a46d-5fab42123c89",
   "metadata": {},
   "outputs": [
    {
     "name": "stdout",
     "output_type": "stream",
     "text": [
      "Accuracy: 0.51\n"
     ]
    }
   ],
   "source": [
    "from sklearn.metrics import accuracy_score\n",
    "\n",
    "accuracy = accuracy_score(y_test, pred)\n",
    "print(f\"Accuracy: {accuracy:.2f}\")\n"
   ]
  },
  {
   "cell_type": "code",
   "execution_count": 322,
   "id": "a51a1379-b39e-4902-a4e2-5084d57471c1",
   "metadata": {},
   "outputs": [
    {
     "name": "stdout",
     "output_type": "stream",
     "text": [
      "              precision    recall  f1-score   support\n",
      "\n",
      "           0       0.51      0.69      0.59      3053\n",
      "           1       0.50      0.33      0.39      2947\n",
      "\n",
      "    accuracy                           0.51      6000\n",
      "   macro avg       0.51      0.51      0.49      6000\n",
      "weighted avg       0.51      0.51      0.49      6000\n",
      "\n"
     ]
    }
   ],
   "source": [
    "from sklearn.metrics import classification_report as cr\n",
    "k = cr(y_test,pred)\n",
    "print(k)"
   ]
  },
  {
   "cell_type": "code",
   "execution_count": 323,
   "id": "5da32d93-867e-4387-b250-22f7fb34b17c",
   "metadata": {},
   "outputs": [
    {
     "name": "stdout",
     "output_type": "stream",
     "text": [
      "You will get Job\n"
     ]
    }
   ],
   "source": [
    "speific = [[114,4,80.45,2,2]]\n",
    "result_scale = scaler.transform(speific)\n",
    "result1 = lr.predict(result_scale)\n",
    "if (result1 == 0):\n",
    "    print(\"You will not get Job\")\n",
    "else:\n",
    "    print(\"You will get Job\")\n"
   ]
  },
  {
   "cell_type": "code",
   "execution_count": null,
   "id": "89118799-473a-4db9-958a-91ce7e243234",
   "metadata": {},
   "outputs": [],
   "source": []
  },
  {
   "cell_type": "code",
   "execution_count": null,
   "id": "e5e30d4d-bdd5-48a9-8da1-cae3e5883a20",
   "metadata": {},
   "outputs": [],
   "source": []
  },
  {
   "cell_type": "code",
   "execution_count": null,
   "id": "94dc29ec-e423-4775-b4d3-d1809c6a6b5b",
   "metadata": {},
   "outputs": [],
   "source": []
  },
  {
   "cell_type": "code",
   "execution_count": null,
   "id": "22365f71-cb69-440c-8e49-ed2203f4452c",
   "metadata": {},
   "outputs": [],
   "source": []
  },
  {
   "cell_type": "code",
   "execution_count": null,
   "id": "2a545bd7-eb10-468a-86dc-96d333ffbc62",
   "metadata": {},
   "outputs": [],
   "source": []
  },
  {
   "cell_type": "code",
   "execution_count": null,
   "id": "83e2a863-878b-4777-b38f-91abad480507",
   "metadata": {},
   "outputs": [],
   "source": []
  },
  {
   "cell_type": "code",
   "execution_count": null,
   "id": "c7dceb31-61d2-4235-a84b-52eb9d1a9924",
   "metadata": {},
   "outputs": [],
   "source": []
  }
 ],
 "metadata": {
  "kernelspec": {
   "display_name": "Python 3 (ipykernel)",
   "language": "python",
   "name": "python3"
  },
  "language_info": {
   "codemirror_mode": {
    "name": "ipython",
    "version": 3
   },
   "file_extension": ".py",
   "mimetype": "text/x-python",
   "name": "python",
   "nbconvert_exporter": "python",
   "pygments_lexer": "ipython3",
   "version": "3.11.7"
  }
 },
 "nbformat": 4,
 "nbformat_minor": 5
}
