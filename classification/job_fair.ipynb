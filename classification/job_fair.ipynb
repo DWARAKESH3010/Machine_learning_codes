{
 "cells": [
  {
   "cell_type": "code",
   "execution_count": 274,
   "id": "310cc061-82eb-4601-ad40-48ef037fa0ae",
   "metadata": {},
   "outputs": [],
   "source": [
    "import pandas as pd\n",
    "import plotly.express as px\n",
    "import matplotlib.pyplot as plt\n",
    "import seaborn as sns\n",
    "import numpy as np\n",
    "import warnings\n",
    "warnings.filterwarnings(action = \"ignore\")"
   ]
  },
  {
   "cell_type": "code",
   "execution_count": 275,
   "id": "0005378f-5a31-460f-831c-a6b28ff1dd3f",
   "metadata": {},
   "outputs": [
    {
     "data": {
      "text/html": [
       "<div>\n",
       "<style scoped>\n",
       "    .dataframe tbody tr th:only-of-type {\n",
       "        vertical-align: middle;\n",
       "    }\n",
       "\n",
       "    .dataframe tbody tr th {\n",
       "        vertical-align: top;\n",
       "    }\n",
       "\n",
       "    .dataframe thead th {\n",
       "        text-align: right;\n",
       "    }\n",
       "</style>\n",
       "<table border=\"1\" class=\"dataframe\">\n",
       "  <thead>\n",
       "    <tr style=\"text-align: right;\">\n",
       "      <th></th>\n",
       "      <th>student_id</th>\n",
       "      <th>skills</th>\n",
       "      <th>experience_years</th>\n",
       "      <th>course_grades</th>\n",
       "      <th>projects_completed</th>\n",
       "      <th>extracurriculars</th>\n",
       "      <th>job_offer</th>\n",
       "    </tr>\n",
       "  </thead>\n",
       "  <tbody>\n",
       "    <tr>\n",
       "      <th>0</th>\n",
       "      <td>1</td>\n",
       "      <td>Python;Data Analysis;SQL</td>\n",
       "      <td>3</td>\n",
       "      <td>75.26</td>\n",
       "      <td>9</td>\n",
       "      <td>0</td>\n",
       "      <td>1</td>\n",
       "    </tr>\n",
       "    <tr>\n",
       "      <th>1</th>\n",
       "      <td>2</td>\n",
       "      <td>Java</td>\n",
       "      <td>4</td>\n",
       "      <td>74.25</td>\n",
       "      <td>6</td>\n",
       "      <td>2</td>\n",
       "      <td>1</td>\n",
       "    </tr>\n",
       "    <tr>\n",
       "      <th>2</th>\n",
       "      <td>3</td>\n",
       "      <td>Data Analysis</td>\n",
       "      <td>2</td>\n",
       "      <td>74.89</td>\n",
       "      <td>4</td>\n",
       "      <td>3</td>\n",
       "      <td>0</td>\n",
       "    </tr>\n",
       "    <tr>\n",
       "      <th>3</th>\n",
       "      <td>4</td>\n",
       "      <td>Data Analysis</td>\n",
       "      <td>4</td>\n",
       "      <td>72.73</td>\n",
       "      <td>2</td>\n",
       "      <td>3</td>\n",
       "      <td>1</td>\n",
       "    </tr>\n",
       "    <tr>\n",
       "      <th>4</th>\n",
       "      <td>5</td>\n",
       "      <td>Machine Learning;Python;C++</td>\n",
       "      <td>4</td>\n",
       "      <td>84.85</td>\n",
       "      <td>1</td>\n",
       "      <td>4</td>\n",
       "      <td>0</td>\n",
       "    </tr>\n",
       "  </tbody>\n",
       "</table>\n",
       "</div>"
      ],
      "text/plain": [
       "   student_id                       skills  experience_years  course_grades  \\\n",
       "0           1     Python;Data Analysis;SQL                 3          75.26   \n",
       "1           2                         Java                 4          74.25   \n",
       "2           3                Data Analysis                 2          74.89   \n",
       "3           4                Data Analysis                 4          72.73   \n",
       "4           5  Machine Learning;Python;C++                 4          84.85   \n",
       "\n",
       "   projects_completed  extracurriculars  job_offer  \n",
       "0                   9                 0          1  \n",
       "1                   6                 2          1  \n",
       "2                   4                 3          0  \n",
       "3                   2                 3          1  \n",
       "4                   1                 4          0  "
      ]
     },
     "execution_count": 275,
     "metadata": {},
     "output_type": "execute_result"
    }
   ],
   "source": [
    "df = pd.read_csv(\"job_fair.csv\")\n",
    "data = df\n",
    "data.head()"
   ]
  },
  {
   "cell_type": "code",
   "execution_count": 276,
   "id": "19416511-f1b9-44d9-84de-2f150f3ca745",
   "metadata": {},
   "outputs": [
    {
     "name": "stdout",
     "output_type": "stream",
     "text": [
      "<class 'pandas.core.frame.DataFrame'>\n",
      "RangeIndex: 20000 entries, 0 to 19999\n",
      "Data columns (total 7 columns):\n",
      " #   Column              Non-Null Count  Dtype  \n",
      "---  ------              --------------  -----  \n",
      " 0   student_id          20000 non-null  int64  \n",
      " 1   skills              20000 non-null  object \n",
      " 2   experience_years    20000 non-null  int64  \n",
      " 3   course_grades       20000 non-null  float64\n",
      " 4   projects_completed  20000 non-null  int64  \n",
      " 5   extracurriculars    20000 non-null  int64  \n",
      " 6   job_offer           20000 non-null  int64  \n",
      "dtypes: float64(1), int64(5), object(1)\n",
      "memory usage: 1.1+ MB\n"
     ]
    }
   ],
   "source": [
    "data.info()"
   ]
  },
  {
   "cell_type": "code",
   "execution_count": 277,
   "id": "b2ff9e1e-d421-46c7-a617-fd3df124ffd1",
   "metadata": {},
   "outputs": [
    {
     "data": {
      "text/plain": [
       "156"
      ]
     },
     "execution_count": 277,
     "metadata": {},
     "output_type": "execute_result"
    }
   ],
   "source": [
    "len(data[\"skills\"].unique())"
   ]
  },
  {
   "cell_type": "markdown",
   "id": "0caed104-4b45-4356-8ffe-97d72c949b10",
   "metadata": {},
   "source": [
    "# checking the probablity of the target variable"
   ]
  },
  {
   "cell_type": "code",
   "execution_count": 278,
   "id": "fb55d775-7336-4ec6-be88-05010d37a387",
   "metadata": {},
   "outputs": [
    {
     "data": {
      "text/html": [
       "<div>\n",
       "<style scoped>\n",
       "    .dataframe tbody tr th:only-of-type {\n",
       "        vertical-align: middle;\n",
       "    }\n",
       "\n",
       "    .dataframe tbody tr th {\n",
       "        vertical-align: top;\n",
       "    }\n",
       "\n",
       "    .dataframe thead th {\n",
       "        text-align: right;\n",
       "    }\n",
       "</style>\n",
       "<table border=\"1\" class=\"dataframe\">\n",
       "  <thead>\n",
       "    <tr style=\"text-align: right;\">\n",
       "      <th></th>\n",
       "      <th>student_id</th>\n",
       "      <th>skills</th>\n",
       "      <th>experience_years</th>\n",
       "      <th>course_grades</th>\n",
       "      <th>projects_completed</th>\n",
       "      <th>extracurriculars</th>\n",
       "      <th>job_offer</th>\n",
       "    </tr>\n",
       "  </thead>\n",
       "  <tbody>\n",
       "    <tr>\n",
       "      <th>0</th>\n",
       "      <td>1</td>\n",
       "      <td>Python;Data Analysis;SQL</td>\n",
       "      <td>3</td>\n",
       "      <td>75.26</td>\n",
       "      <td>9</td>\n",
       "      <td>0</td>\n",
       "      <td>1</td>\n",
       "    </tr>\n",
       "    <tr>\n",
       "      <th>1</th>\n",
       "      <td>2</td>\n",
       "      <td>Java</td>\n",
       "      <td>4</td>\n",
       "      <td>74.25</td>\n",
       "      <td>6</td>\n",
       "      <td>2</td>\n",
       "      <td>1</td>\n",
       "    </tr>\n",
       "    <tr>\n",
       "      <th>2</th>\n",
       "      <td>3</td>\n",
       "      <td>Data Analysis</td>\n",
       "      <td>2</td>\n",
       "      <td>74.89</td>\n",
       "      <td>4</td>\n",
       "      <td>3</td>\n",
       "      <td>0</td>\n",
       "    </tr>\n",
       "    <tr>\n",
       "      <th>3</th>\n",
       "      <td>4</td>\n",
       "      <td>Data Analysis</td>\n",
       "      <td>4</td>\n",
       "      <td>72.73</td>\n",
       "      <td>2</td>\n",
       "      <td>3</td>\n",
       "      <td>1</td>\n",
       "    </tr>\n",
       "    <tr>\n",
       "      <th>4</th>\n",
       "      <td>5</td>\n",
       "      <td>Machine Learning;Python;C++</td>\n",
       "      <td>4</td>\n",
       "      <td>84.85</td>\n",
       "      <td>1</td>\n",
       "      <td>4</td>\n",
       "      <td>0</td>\n",
       "    </tr>\n",
       "  </tbody>\n",
       "</table>\n",
       "</div>"
      ],
      "text/plain": [
       "   student_id                       skills  experience_years  course_grades  \\\n",
       "0           1     Python;Data Analysis;SQL                 3          75.26   \n",
       "1           2                         Java                 4          74.25   \n",
       "2           3                Data Analysis                 2          74.89   \n",
       "3           4                Data Analysis                 4          72.73   \n",
       "4           5  Machine Learning;Python;C++                 4          84.85   \n",
       "\n",
       "   projects_completed  extracurriculars  job_offer  \n",
       "0                   9                 0          1  \n",
       "1                   6                 2          1  \n",
       "2                   4                 3          0  \n",
       "3                   2                 3          1  \n",
       "4                   1                 4          0  "
      ]
     },
     "execution_count": 278,
     "metadata": {},
     "output_type": "execute_result"
    }
   ],
   "source": [
    "data.head()"
   ]
  },
  {
   "cell_type": "code",
   "execution_count": 279,
   "id": "cd7fccad-4494-44ea-8ee6-aa5aaf222f16",
   "metadata": {},
   "outputs": [
    {
     "data": {
      "text/plain": [
       "job_offer\n",
       "0    0.50625\n",
       "1    0.49375\n",
       "Name: count, dtype: float64"
      ]
     },
     "execution_count": 279,
     "metadata": {},
     "output_type": "execute_result"
    }
   ],
   "source": [
    "data[\"job_offer\"].value_counts()/len(data)     # so the probablity is almost balanced"
   ]
  },
  {
   "cell_type": "code",
   "execution_count": 280,
   "id": "7c88f2e6-0936-4065-96cd-c0d724a99c43",
   "metadata": {},
   "outputs": [
    {
     "data": {
      "text/plain": [
       "<Axes: >"
      ]
     },
     "execution_count": 280,
     "metadata": {},
     "output_type": "execute_result"
    },
    {
     "data": {
      "image/png": "[encoded data removed]",
      "text/plain": [
       "<Figure size 640x480 with 1 Axes>"
      ]
     },
     "metadata": {},
     "output_type": "display_data"
    }
   ],
   "source": [
    "sns.boxplot(data[\"job_offer\"])"
   ]
  },
  {
   "cell_type": "markdown",
   "id": "86cd2139-59a4-4692-8cda-d406ba7e4352",
   "metadata": {},
   "source": [
    "# Label Encoding"
   ]
  },
  {
   "cell_type": "code",
   "execution_count": 281,
   "id": "591fb9a3-8c42-42ef-a05e-7ca7c69d5102",
   "metadata": {},
   "outputs": [],
   "source": [
    "from sklearn.preprocessing import LabelEncoder "
   ]
  },
  {
   "cell_type": "code",
   "execution_count": 282,
   "id": "a5435700-d121-4db3-ba07-c6a21b83beb6",
   "metadata": {},
   "outputs": [
    {
     "data": {
      "text/html": [
       "<div>\n",
       "<style scoped>\n",
       "    .dataframe tbody tr th:only-of-type {\n",
       "        vertical-align: middle;\n",
       "    }\n",
       "\n",
       "    .dataframe tbody tr th {\n",
       "        vertical-align: top;\n",
       "    }\n",
       "\n",
       "    .dataframe thead th {\n",
       "        text-align: right;\n",
       "    }\n",
       "</style>\n",
       "<table border=\"1\" class=\"dataframe\">\n",
       "  <thead>\n",
       "    <tr style=\"text-align: right;\">\n",
       "      <th></th>\n",
       "      <th>student_id</th>\n",
       "      <th>skills</th>\n",
       "      <th>experience_years</th>\n",
       "      <th>course_grades</th>\n",
       "      <th>projects_completed</th>\n",
       "      <th>extracurriculars</th>\n",
       "      <th>job_offer</th>\n",
       "    </tr>\n",
       "  </thead>\n",
       "  <tbody>\n",
       "    <tr>\n",
       "      <th>0</th>\n",
       "      <td>1</td>\n",
       "      <td>114</td>\n",
       "      <td>3</td>\n",
       "      <td>75.26</td>\n",
       "      <td>9</td>\n",
       "      <td>0</td>\n",
       "      <td>1</td>\n",
       "    </tr>\n",
       "    <tr>\n",
       "      <th>1</th>\n",
       "      <td>2</td>\n",
       "      <td>52</td>\n",
       "      <td>4</td>\n",
       "      <td>74.25</td>\n",
       "      <td>6</td>\n",
       "      <td>2</td>\n",
       "      <td>1</td>\n",
       "    </tr>\n",
       "    <tr>\n",
       "      <th>2</th>\n",
       "      <td>3</td>\n",
       "      <td>26</td>\n",
       "      <td>2</td>\n",
       "      <td>74.89</td>\n",
       "      <td>4</td>\n",
       "      <td>3</td>\n",
       "      <td>0</td>\n",
       "    </tr>\n",
       "    <tr>\n",
       "      <th>3</th>\n",
       "      <td>4</td>\n",
       "      <td>26</td>\n",
       "      <td>4</td>\n",
       "      <td>72.73</td>\n",
       "      <td>2</td>\n",
       "      <td>3</td>\n",
       "      <td>1</td>\n",
       "    </tr>\n",
       "    <tr>\n",
       "      <th>4</th>\n",
       "      <td>5</td>\n",
       "      <td>95</td>\n",
       "      <td>4</td>\n",
       "      <td>84.85</td>\n",
       "      <td>1</td>\n",
       "      <td>4</td>\n",
       "      <td>0</td>\n",
       "    </tr>\n",
       "  </tbody>\n",
       "</table>\n",
       "</div>"
      ],
      "text/plain": [
       "   student_id  skills  experience_years  course_grades  projects_completed  \\\n",
       "0           1     114                 3          75.26                   9   \n",
       "1           2      52                 4          74.25                   6   \n",
       "2           3      26                 2          74.89                   4   \n",
       "3           4      26                 4          72.73                   2   \n",
       "4           5      95                 4          84.85                   1   \n",
       "\n",
       "   extracurriculars  job_offer  \n",
       "0                 0          1  \n",
       "1                 2          1  \n",
       "2                 3          0  \n",
       "3                 3          1  \n",
       "4                 4          0  "
      ]
     },
     "execution_count": 282,
     "metadata": {},
     "output_type": "execute_result"
    }
   ],
   "source": [
    "le = LabelEncoder()\n",
    "data[\"skills\"] = le.fit_transform(data[\"skills\"])\n",
    "data.head()"
   ]
  },
  {
   "cell_type": "markdown",
   "id": "ee1a8bfe-b438-4cf2-8c9b-5ec59b44016e",
   "metadata": {},
   "source": [
    "# Standard scaler method"
   ]
  },
  {
   "cell_type": "code",
   "execution_count": 283,
   "id": "709981fd-cecc-4887-8d69-439944a5a220",
   "metadata": {},
   "outputs": [],
   "source": [
    "from sklearn.preprocessing import StandardScaler \n",
    "from sklearn.pipeline import make_pipeline\n",
    "from sklearn.metrics import classification_report\n",
    "from sklearn.linear_model import LogisticRegression\n",
    "from sklearn.model_selection import StratifiedKFold, cross_val_predict\n",
    "from sklearn.metrics import accuracy_score, precision_score, recall_score, f1_score, confusion_matrix"
   ]
  },
  {
   "cell_type": "code",
   "execution_count": 284,
   "id": "d4c76070-9139-44a7-b08e-24236c780f04",
   "metadata": {},
   "outputs": [],
   "source": [
    "x = data.drop(columns = [\"job_offer\",\"student_id\"])\n",
    "y = data[\"job_offer\"]"
   ]
  },
  {
   "cell_type": "markdown",
   "id": "da168e50-093b-4249-8609-813ae213206a",
   "metadata": {},
   "source": [
    "# split into Train and Test "
   ]
  },
  {
   "cell_type": "code",
   "execution_count": 285,
   "id": "f6b54a61-a7f0-4314-b7bb-2ffe0bed8b9a",
   "metadata": {},
   "outputs": [
    {
     "name": "stdout",
     "output_type": "stream",
     "text": [
      "              precision    recall  f1-score   support\n",
      "\n",
      "           0       0.51      0.69      0.59      3053\n",
      "           1       0.50      0.33      0.39      2947\n",
      "\n",
      "    accuracy                           0.51      6000\n",
      "   macro avg       0.51      0.51      0.49      6000\n",
      "weighted avg       0.51      0.51      0.49      6000\n",
      "\n"
     ]
    }
   ],
   "source": [
    "from sklearn.model_selection import train_test_split\n",
    "scaler = StandardScaler()\n",
    "model = LogisticRegression()\n",
    "\n",
    "# Step 2: Split the data into training and testing sets\n",
    "x_train, x_test, y_train, y_test = train_test_split(x, y, test_size=0.3, random_state=42)\n",
    "\n",
    "# Step 3: Scale the training and testing features\n",
    "x_train_scaled = scaler.fit_transform(x_train)\n",
    "x_test_scaled = scaler.transform(x_test)\n",
    "\n",
    "# Step 4: Fit the model on the scaled training data\n",
    "model.fit(x_train_scaled, y_train)\n",
    "\n",
    "# Step 5: Make predictions on the scaled testing data\n",
    "y_pred = model.predict(x_test_scaled)\n",
    "\n",
    "# Step 6: Generate the classification report\n",
    "report = classification_report(y_test, y_pred)\n",
    "\n",
    "# Print the classification report\n",
    "print(report)"
   ]
  },
  {
   "cell_type": "markdown",
   "id": "5e0342f3-4ed2-4e38-a4e1-ec8f59217abb",
   "metadata": {},
   "source": [
    "# logistic regression"
   ]
  },
  {
   "cell_type": "code",
   "execution_count": 286,
   "id": "e5e30d4d-bdd5-48a9-8da1-cae3e5883a20",
   "metadata": {
    "scrolled": true
   },
   "outputs": [
    {
     "name": "stdout",
     "output_type": "stream",
     "text": [
      "Accuracy: 0.5106666666666667\n",
      "Precision: 0.5086871141107361\n",
      "Recall: 0.5106666666666667\n",
      "F1-Score: 0.4937891295458806\n",
      "Confusion Matrix:\n",
      " [[2106  947]\n",
      " [1989  958]]\n"
     ]
    }
   ],
   "source": [
    "accuracy = accuracy_score(y_test, y_pred)\n",
    "precision = precision_score(y_test, y_pred, average='weighted')\n",
    "recall = recall_score(y_test,y_pred, average='weighted')\n",
    "f1 = f1_score(y_test, y_pred, average='weighted')\n",
    "confusion_mat = confusion_matrix(y_test,y_pred)\n",
    "\n",
    "# Output the metrics\n",
    "print(\"Accuracy:\", accuracy)\n",
    "print(\"Precision:\", precision)\n",
    "print(\"Recall:\", recall)\n",
    "print(\"F1-Score:\", f1)\n",
    "print(\"Confusion Matrix:\\n\", confusion_mat)"
   ]
  },
  {
   "cell_type": "markdown",
   "id": "2762b40e-eb77-4e8d-8fa4-372a2858bf49",
   "metadata": {},
   "source": [
    "# Decision Tree"
   ]
  },
  {
   "cell_type": "code",
   "execution_count": 287,
   "id": "22365f71-cb69-440c-8e49-ed2203f4452c",
   "metadata": {},
   "outputs": [],
   "source": [
    "from sklearn.tree import DecisionTreeClassifier as dtc\n",
    "from sklearn import tree"
   ]
  },
  {
   "cell_type": "code",
   "execution_count": 288,
   "id": "2a545bd7-eb10-468a-86dc-96d333ffbc62",
   "metadata": {},
   "outputs": [],
   "source": [
    "# model = make_pipeline(StandardScaler(),dtc())\n",
    "# skf = StratifiedKFold(n_splits = 5)\n",
    "# pred = cross_val_predict(model, x, y, cv=skf)"
   ]
  },
  {
   "cell_type": "code",
   "execution_count": 289,
   "id": "b0e8bc07-9587-4d90-8b4d-bc7ee269cd81",
   "metadata": {},
   "outputs": [],
   "source": [
    "scaler = StandardScaler()\n",
    "model = dtc(max_depth =  10, max_leaf_nodes =  None, min_samples_leaf =  1, min_samples_split =  2)\n",
    "\n",
    "\n",
    "x_train, x_test, y_train, y_test = train_test_split(x, y, test_size=0.3, random_state=42)\n",
    "\n",
    "x_train_scaled = scaler.fit_transform(x_train)\n",
    "x_test_scaled = scaler.transform(x_test)\n",
    "\n",
    "model.fit(x_train_scaled, y_train)\n",
    "\n",
    "y_pred = model.predict(x_train_scaled)\n"
   ]
  },
  {
   "cell_type": "markdown",
   "id": "33285e43-865d-4b49-b8d8-8557c71591eb",
   "metadata": {},
   "source": [
    "# gridsearchCv cross "
   ]
  },
  {
   "cell_type": "code",
   "execution_count": 290,
   "id": "616e9456-6783-4706-915b-ee742c1c319e",
   "metadata": {},
   "outputs": [
    {
     "name": "stdout",
     "output_type": "stream",
     "text": [
      "Best Parameters: {'max_depth': 10, 'max_leaf_nodes': None, 'min_samples_leaf': 1, 'min_samples_split': 2}\n"
     ]
    }
   ],
   "source": [
    "from sklearn.model_selection import GridSearchCV\n",
    "\n",
    "param_grid = {\n",
    "    'max_depth': [5, 10, 20, None],\n",
    "    'min_samples_leaf': [1, 5, 10, 20],\n",
    "    'min_samples_split': [2, 5, 10, 20],\n",
    "    'max_leaf_nodes': [10, 30, 50, 100, None]\n",
    "}\n",
    "\n",
    "grid_search = GridSearchCV(dtc(), param_grid, cv=5, scoring='accuracy')\n",
    "grid_search.fit(x_train_scaled, y_train)\n",
    "\n",
    "print(\"Best Parameters:\", grid_search.best_params_)\n"
   ]
  },
  {
   "cell_type": "code",
   "execution_count": 291,
   "id": "c2a98eee-14b8-4ace-b595-e62364b1d6bd",
   "metadata": {},
   "outputs": [
    {
     "name": "stdout",
     "output_type": "stream",
     "text": [
      "              precision    recall  f1-score   support\n",
      "\n",
      "           0       0.61      0.51      0.56      7072\n",
      "           1       0.57      0.67      0.62      6928\n",
      "\n",
      "    accuracy                           0.59     14000\n",
      "   macro avg       0.59      0.59      0.59     14000\n",
      "weighted avg       0.59      0.59      0.59     14000\n",
      "\n",
      "no of the depth of the decision tree:  10\n",
      "no of the leave nodes:  386\n",
      " \n",
      "Accuracy: 0.5908571428571429\n",
      "Precision: 0.5942014612341103\n",
      "Recall: 0.5908571428571429\n",
      "F1-Score: 0.5883192029276249\n",
      "Confusion Matrix:\n",
      " [[3621 3451]\n",
      " [2277 4651]]\n"
     ]
    }
   ],
   "source": [
    "\n",
    "report = classification_report(y_train, y_pred)\n",
    "\n",
    "print(report)\n",
    "\n",
    "from sklearn.metrics import accuracy_score, precision_score, recall_score, f1_score, confusion_matrix\n",
    "\n",
    "\n",
    "accuracy = accuracy_score(y_train, y_pred)\n",
    "precision = precision_score(y_train, y_pred, average='weighted')\n",
    "recall = recall_score(y_train, y_pred, average='weighted')\n",
    "f1 = f1_score(y_train, y_pred, average='weighted')\n",
    "confusion_mat = confusion_matrix(y_train, y_pred)\n",
    "\n",
    "print(\"no of the depth of the decision tree: \",model.get_depth())\n",
    "print(\"no of the leave nodes: \",model.get_n_leaves())\n",
    "print(\" \")\n",
    "print(\"Accuracy:\", accuracy)\n",
    "print(\"Precision:\", precision)\n",
    "print(\"Recall:\", recall)\n",
    "print(\"F1-Score:\", f1)\n",
    "print(\"Confusion Matrix:\\n\", confusion_mat)"
   ]
  },
  {
   "cell_type": "code",
   "execution_count": 292,
   "id": "ff8b7e4c-6bdb-47c0-a118-8d0601c92a57",
   "metadata": {},
   "outputs": [],
   "source": [
    "y_pred = model.predict(x_test_scaled)"
   ]
  },
  {
   "cell_type": "code",
   "execution_count": 293,
   "id": "c7dceb31-61d2-4235-a84b-52eb9d1a9924",
   "metadata": {},
   "outputs": [
    {
     "name": "stdout",
     "output_type": "stream",
     "text": [
      "              precision    recall  f1-score   support\n",
      "\n",
      "           0       0.51      0.41      0.45      3053\n",
      "           1       0.49      0.58      0.53      2947\n",
      "\n",
      "    accuracy                           0.50      6000\n",
      "   macro avg       0.50      0.50      0.49      6000\n",
      "weighted avg       0.50      0.50      0.49      6000\n",
      "\n",
      "Accuracy: 0.49583333333333335\n",
      "Precision: 0.49742513445681374\n",
      "Recall: 0.49583333333333335\n",
      "F1-Score: 0.49209242526815583\n",
      "Confusion Matrix:\n",
      " [[1255 1798]\n",
      " [1227 1720]]\n"
     ]
    }
   ],
   "source": [
    "accuracy = accuracy_score(y_test, y_pred)\n",
    "precision = precision_score(y_test, y_pred, average='weighted')\n",
    "recall = recall_score(y_test, y_pred, average='weighted')\n",
    "f1 = f1_score(y_test, y_pred, average='weighted')\n",
    "confusion_mat = confusion_matrix(y_test, y_pred)\n",
    "\n",
    "\n",
    "report = classification_report(y_test, y_pred)\n",
    "\n",
    "print(report)\n",
    "\n",
    "\n",
    "print(\"Accuracy:\", accuracy)\n",
    "print(\"Precision:\", precision)\n",
    "print(\"Recall:\", recall)\n",
    "print(\"F1-Score:\", f1)\n",
    "print(\"Confusion Matrix:\\n\", confusion_mat)"
   ]
  },
  {
   "cell_type": "code",
   "execution_count": null,
   "id": "ac7f1519-07a0-47bc-8b34-f21e3208cdb2",
   "metadata": {},
   "outputs": [],
   "source": []
  },
  {
   "cell_type": "code",
   "execution_count": null,
   "id": "6c0f25fd-6b22-451a-9335-322a1c438abc",
   "metadata": {},
   "outputs": [],
   "source": []
  },
  {
   "cell_type": "code",
   "execution_count": null,
   "id": "a90768fa-0d4b-44e4-81aa-6d4f86df71bf",
   "metadata": {},
   "outputs": [],
   "source": []
  },
  {
   "cell_type": "code",
   "execution_count": null,
   "id": "577141a4-cc37-4f3a-9c56-08ac315661a8",
   "metadata": {},
   "outputs": [],
   "source": []
  },
  {
   "cell_type": "code",
   "execution_count": null,
   "id": "8e0018bc-8acf-4ca8-a1a0-0d262a7a2dec",
   "metadata": {},
   "outputs": [],
   "source": []
  },
  {
   "cell_type": "code",
   "execution_count": null,
   "id": "69d7a28c-9379-472b-9b08-c0f0bffe3e90",
   "metadata": {},
   "outputs": [],
   "source": []
  },
  {
   "cell_type": "code",
   "execution_count": null,
   "id": "c39e4924-1999-4460-82ba-1e59a83b0003",
   "metadata": {},
   "outputs": [],
   "source": []
  },
  {
   "cell_type": "code",
   "execution_count": null,
   "id": "69b5222d-3938-4308-bc36-bff0b136fd67",
   "metadata": {},
   "outputs": [],
   "source": []
  },
  {
   "cell_type": "code",
   "execution_count": null,
   "id": "40372ab7-8483-4676-9336-51bd8737c7c9",
   "metadata": {},
   "outputs": [],
   "source": []
  },
  {
   "cell_type": "code",
   "execution_count": null,
   "id": "499fa7c0-e60e-4a5c-9877-cdda0801f76c",
   "metadata": {},
   "outputs": [],
   "source": []
  },
  {
   "cell_type": "code",
   "execution_count": null,
   "id": "ad1862db-18fd-4427-b7d2-775846fb25c8",
   "metadata": {},
   "outputs": [],
   "source": []
  },
  {
   "cell_type": "code",
   "execution_count": null,
   "id": "ea101c3a-4195-4363-9c39-9eb5b7668c34",
   "metadata": {},
   "outputs": [],
   "source": []
  }
 ],
 "metadata": {
  "kernelspec": {
   "display_name": "Python 3 (ipykernel)",
   "language": "python",
   "name": "python3"
  },
  "language_info": {
   "codemirror_mode": {
    "name": "ipython",
    "version": 3
   },
   "file_extension": ".py",
   "mimetype": "text/x-python",
   "name": "python",
   "nbconvert_exporter": "python",
   "pygments_lexer": "ipython3",
   "version": "3.11.7"
  }
 },
 "nbformat": 4,
 "nbformat_minor": 5
}
