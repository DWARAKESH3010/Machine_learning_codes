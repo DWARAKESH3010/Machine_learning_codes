{
 "cells": [
  {
   "cell_type": "code",
   "execution_count": 1,
   "id": "a640e323-8ce2-4ed2-a5f8-561ec2251164",
   "metadata": {},
   "outputs": [],
   "source": [
    "from pyspark.sql import SparkSession"
   ]
  },
  {
   "cell_type": "code",
   "execution_count": 2,
   "id": "77184888-3877-429d-b579-448fd8a273e5",
   "metadata": {},
   "outputs": [
    {
     "name": "stdout",
     "output_type": "stream",
     "text": [
      "Requirement already satisfied: pyspark in c:\\users\\hp\\anaconda3\\lib\\site-packages (3.5.2)\n",
      "Requirement already satisfied: py4j==0.10.9.7 in c:\\users\\hp\\anaconda3\\lib\\site-packages (from pyspark) (0.10.9.7)\n"
     ]
    }
   ],
   "source": [
    "!pip install pyspark"
   ]
  },
  {
   "cell_type": "code",
   "execution_count": 3,
   "id": "90cf9d0f-2f47-4414-8e84-96391e6be4fe",
   "metadata": {},
   "outputs": [],
   "source": [
    "sp = SparkSession.builder\\\n",
    "    .appName(\"rent_predictions\")\\\n",
    "    .getOrCreate() "
   ]
  },
  {
   "cell_type": "code",
   "execution_count": 78,
   "id": "816d98a8-f833-45ce-8221-bf5b61371b89",
   "metadata": {},
   "outputs": [],
   "source": [
    "spp = sp.read.csv(\"House_Rent_Dataset.csv\",header = True,inferSchema=True)"
   ]
  },
  {
   "cell_type": "code",
   "execution_count": 79,
   "id": "54741588-92f6-4b48-9f21-380af93251cc",
   "metadata": {
    "scrolled": true
   },
   "outputs": [
    {
     "name": "stdout",
     "output_type": "stream",
     "text": [
      "+----------+---+-----+----+---------------+-----------+--------------------+-------+-----------------+----------------+--------+----------------+\n",
      "| Posted On|BHK| Rent|Size|          Floor|  Area Type|       Area Locality|   City|Furnishing Status|Tenant Preferred|Bathroom|Point of Contact|\n",
      "+----------+---+-----+----+---------------+-----------+--------------------+-------+-----------------+----------------+--------+----------------+\n",
      "|2022-05-18|  2|10000|1100|Ground out of 2| Super Area|              Bandel|Kolkata|      Unfurnished|Bachelors/Family|       2|   Contact Owner|\n",
      "|2022-05-13|  2|20000| 800|     1 out of 3| Super Area|Phool Bagan, Kank...|Kolkata|   Semi-Furnished|Bachelors/Family|       1|   Contact Owner|\n",
      "|2022-05-16|  2|17000|1000|     1 out of 3| Super Area|Salt Lake City Se...|Kolkata|   Semi-Furnished|Bachelors/Family|       1|   Contact Owner|\n",
      "|2022-07-04|  2|10000| 800|     1 out of 2| Super Area|         Dumdum Park|Kolkata|      Unfurnished|Bachelors/Family|       1|   Contact Owner|\n",
      "|2022-05-09|  2| 7500| 850|     1 out of 2|Carpet Area|       South Dum Dum|Kolkata|      Unfurnished|       Bachelors|       1|   Contact Owner|\n",
      "+----------+---+-----+----+---------------+-----------+--------------------+-------+-----------------+----------------+--------+----------------+\n",
      "only showing top 5 rows\n",
      "\n"
     ]
    }
   ],
   "source": [
    "spp.show(5)"
   ]
  },
  {
   "cell_type": "code",
   "execution_count": 80,
   "id": "2e5fda33-8ab2-42ad-a4f5-63ad9edbfc47",
   "metadata": {},
   "outputs": [],
   "source": [
    "sph = spp.drop(\"Posted On\")"
   ]
  },
  {
   "cell_type": "code",
   "execution_count": 81,
   "id": "29009eae-a4f4-4659-9dc2-477dd4a139cc",
   "metadata": {},
   "outputs": [
    {
     "name": "stdout",
     "output_type": "stream",
     "text": [
      "+---+-----+----+---------------+-----------+--------------------+-------+-----------------+----------------+--------+----------------+\n",
      "|BHK| Rent|Size|          Floor|  Area Type|       Area Locality|   City|Furnishing Status|Tenant Preferred|Bathroom|Point of Contact|\n",
      "+---+-----+----+---------------+-----------+--------------------+-------+-----------------+----------------+--------+----------------+\n",
      "|  2|10000|1100|Ground out of 2| Super Area|              Bandel|Kolkata|      Unfurnished|Bachelors/Family|       2|   Contact Owner|\n",
      "|  2|20000| 800|     1 out of 3| Super Area|Phool Bagan, Kank...|Kolkata|   Semi-Furnished|Bachelors/Family|       1|   Contact Owner|\n",
      "|  2|17000|1000|     1 out of 3| Super Area|Salt Lake City Se...|Kolkata|   Semi-Furnished|Bachelors/Family|       1|   Contact Owner|\n",
      "|  2|10000| 800|     1 out of 2| Super Area|         Dumdum Park|Kolkata|      Unfurnished|Bachelors/Family|       1|   Contact Owner|\n",
      "|  2| 7500| 850|     1 out of 2|Carpet Area|       South Dum Dum|Kolkata|      Unfurnished|       Bachelors|       1|   Contact Owner|\n",
      "+---+-----+----+---------------+-----------+--------------------+-------+-----------------+----------------+--------+----------------+\n",
      "only showing top 5 rows\n",
      "\n"
     ]
    }
   ],
   "source": [
    "sph.show(5)"
   ]
  },
  {
   "cell_type": "code",
   "execution_count": 82,
   "id": "d6a6a986-09a6-4e69-ad1a-f1fe4dedd6d4",
   "metadata": {
    "scrolled": true
   },
   "outputs": [
    {
     "name": "stdout",
     "output_type": "stream",
     "text": [
      "+-------+------------------+-----------------+-----------------+--------------------+----------+--------------------+---------+-----------------+----------------+-----------------+----------------+\n",
      "|summary|               BHK|             Rent|             Size|               Floor| Area Type|       Area Locality|     City|Furnishing Status|Tenant Preferred|         Bathroom|Point of Contact|\n",
      "+-------+------------------+-----------------+-----------------+--------------------+----------+--------------------+---------+-----------------+----------------+-----------------+----------------+\n",
      "|  count|              4746|             4746|             4746|                4746|      4746|                4746|     4746|             4746|            4746|             4746|            4746|\n",
      "|   mean|2.0838600927096502|34993.45132743363|967.4907290349768|  1.6666666666666667|      NULL|            352525.5|     NULL|             NULL|            NULL|1.965865992414665|            NULL|\n",
      "| stddev|0.8322558984634483|78106.41293734834|634.2023275120674|  1.1547005383792517|      NULL|    491475.275370491|     NULL|             NULL|            NULL|0.884531665805517|            NULL|\n",
      "|    min|                 1|             1200|               10|                   1|Built Area| Beeramguda, Rama...|Bangalore|        Furnished|       Bachelors|                1|   Contact Agent|\n",
      "|    max|                 6|          3500000|             8000|Upper Basement ou...|Super Area|          whitefield|   Mumbai|      Unfurnished|          Family|               10|   Contact Owner|\n",
      "+-------+------------------+-----------------+-----------------+--------------------+----------+--------------------+---------+-----------------+----------------+-----------------+----------------+\n",
      "\n"
     ]
    }
   ],
   "source": [
    "sph.describe().show()"
   ]
  },
  {
   "cell_type": "code",
   "execution_count": null,
   "id": "80f636d8-78ce-4dd1-8d1f-6f672f8fe62e",
   "metadata": {},
   "outputs": [],
   "source": []
  },
  {
   "cell_type": "markdown",
   "id": "828b5883-1f86-4241-b469-5d5fb258529a",
   "metadata": {},
   "source": [
    "# Linear algothrim"
   ]
  },
  {
   "cell_type": "code",
   "execution_count": 83,
   "id": "b5e6e075-0762-403c-badf-ce8f30bcf86c",
   "metadata": {},
   "outputs": [],
   "source": [
    "from pyspark.ml.regression import LinearRegression\n",
    "from pyspark.ml.feature import VectorAssembler\n",
    "from pyspark.ml.feature import StringIndexer"
   ]
  },
  {
   "cell_type": "code",
   "execution_count": 84,
   "id": "3239e384-06a7-450c-8f82-8d39a9fedc6e",
   "metadata": {},
   "outputs": [],
   "source": [
    "from pyspark.sql import functions as F\n",
    "\n",
    "q1, q3 = sph.approxQuantile(\"Rent\", [0.25, 0.75], 0.05)\n",
    "iqr = q3 - q1\n",
    "lower_bound = q1 - 1.5 * iqr\n",
    "upper_bound = q3 + 1.5 * iqr\n",
    "sph = sph.withColumn(\"Rent_capped\", \n",
    "                            F.when(sph[\"Rent\"] < lower_bound, lower_bound)\n",
    "                            .when(sph[\"Rent\"] > upper_bound, upper_bound) \n",
    "                            .otherwise(sph[\"Rent\"]))  \n",
    "\n",
    "\n",
    "\n",
    "\n",
    "q1, q3 = sph.approxQuantile(\"BHK\", [0.25, 0.75], 0.05)\n",
    "iqr = q3 - q1\n",
    "lower_bound = q1 - 1.5 * iqr\n",
    "upper_bound = q3 + 1.5 * iqr\n",
    "sph = sph.withColumn(\"BHK\", \n",
    "                            F.when(sph[\"BHK\"] < lower_bound, lower_bound)  \n",
    "                            .when(sph[\"BHK\"] > upper_bound, upper_bound)  \n",
    "                            .otherwise(sph[\"BHK\"])) \n",
    "\n",
    "\n",
    "\n",
    "\n",
    "\n",
    "q1, q3 = sph.approxQuantile(\"Size\", [0.25, 0.75], 0.05)\n",
    "iqr = q3 - q1\n",
    "lower_bound = q1 - 1.5 * iqr\n",
    "upper_bound = q3 + 1.5 * iqr\n",
    "sph = sph.withColumn(\"Size\", \n",
    "                            F.when(sph[\"Size\"] < lower_bound, lower_bound) \n",
    "                            .when(sph[\"Size\"] > upper_bound, upper_bound) \n",
    "                            .otherwise(sph[\"Size\"]))  \n",
    "\n",
    "\n",
    "\n",
    "q1, q3 = sph.approxQuantile(\"Bathroom\", [0.25, 0.75], 0.05)\n",
    "iqr = q3 - q1\n",
    "lower_bound = q1 - 1.5 * iqr\n",
    "upper_bound = q3 + 1.5 * iqr\n",
    "sph = sph.withColumn(\"Bathroom\", \n",
    "                            F.when(sph[\"Bathroom\"] < lower_bound, lower_bound)  \n",
    "                            .when(sph[\"Bathroom\"] > upper_bound, upper_bound)  \n",
    "                            .otherwise(sph[\"Bathroom\"]))  "
   ]
  },
  {
   "cell_type": "code",
   "execution_count": 85,
   "id": "0f55fe11-d542-4574-b73f-7ae8e993cfe8",
   "metadata": {},
   "outputs": [],
   "source": [
    "encode = StringIndexer(inputCols=[\"Floor\",\"Area Type\",\"Area Locality\",\"City\",\"Furnishing Status\",\"Tenant Preferred\",\"Point of Contact\"],outputCols=[\"Floor1\",\"Area Type1\",\"Area Locality1\",\"City1\",\"Furnishing Status1\",\"Tenant Preferred1\",\"Point of Contact1\"])"
   ]
  },
  {
   "cell_type": "code",
   "execution_count": 86,
   "id": "babfa7b4-9ff4-4b03-86e6-9c61b1ef4dc6",
   "metadata": {},
   "outputs": [
    {
     "name": "stdout",
     "output_type": "stream",
     "text": [
      "+---+-----+------+---------------+-----------+--------------------+-------+-----------------+----------------+--------+----------------+-----------+------+----------+--------------+-----+------------------+-----------------+-----------------+\n",
      "|BHK| Rent|  Size|          Floor|  Area Type|       Area Locality|   City|Furnishing Status|Tenant Preferred|Bathroom|Point of Contact|Rent_capped|Floor1|Area Type1|Area Locality1|City1|Furnishing Status1|Tenant Preferred1|Point of Contact1|\n",
      "+---+-----+------+---------------+-----------+--------------------+-------+-----------------+----------------+--------+----------------+-----------+------+----------+--------------+-----+------------------+-----------------+-----------------+\n",
      "|2.0|10000|1100.0|Ground out of 2| Super Area|              Bandel|Kolkata|      Unfurnished|Bachelors/Family|     2.0|   Contact Owner|    10000.0|   1.0|       0.0|         472.0|  5.0|               1.0|              0.0|              0.0|\n",
      "|2.0|20000| 800.0|     1 out of 3| Super Area|Phool Bagan, Kank...|Kolkata|   Semi-Furnished|Bachelors/Family|     1.0|   Contact Owner|    20000.0|   4.0|       0.0|         671.0|  5.0|               0.0|              0.0|              0.0|\n",
      "|2.0|17000|1000.0|     1 out of 3| Super Area|Salt Lake City Se...|Kolkata|   Semi-Furnished|Bachelors/Family|     1.0|   Contact Owner|    17000.0|   4.0|       0.0|          13.0|  5.0|               0.0|              0.0|              0.0|\n",
      "|2.0|10000| 800.0|     1 out of 2| Super Area|         Dumdum Park|Kolkata|      Unfurnished|Bachelors/Family|     1.0|   Contact Owner|    10000.0|   0.0|       0.0|         516.0|  5.0|               1.0|              0.0|              0.0|\n",
      "|2.0| 7500| 850.0|     1 out of 2|Carpet Area|       South Dum Dum|Kolkata|      Unfurnished|       Bachelors|     1.0|   Contact Owner|     7500.0|   0.0|       1.0|        1980.0|  5.0|               1.0|              1.0|              0.0|\n",
      "+---+-----+------+---------------+-----------+--------------------+-------+-----------------+----------------+--------+----------------+-----------+------+----------+--------------+-----+------------------+-----------------+-----------------+\n",
      "only showing top 5 rows\n",
      "\n"
     ]
    }
   ],
   "source": [
    "sph = encode.fit(sph).transform(sph)\n",
    "sph.show(5)"
   ]
  },
  {
   "cell_type": "code",
   "execution_count": 87,
   "id": "b725fa50-62e1-44de-bb20-c905ec1d44aa",
   "metadata": {},
   "outputs": [],
   "source": [
    "vec = VectorAssembler(inputCols=[\"Floor1\",\"Area Type1\",\"Area Locality1\",\"City1\",\"Furnishing Status1\",\"Tenant Preferred1\",\"Point of Contact1\"],outputCol= \"indepent_col\")"
   ]
  },
  {
   "cell_type": "code",
   "execution_count": 88,
   "id": "36ad9294-aadf-4acb-8e0d-8502d39704e7",
   "metadata": {},
   "outputs": [
    {
     "name": "stdout",
     "output_type": "stream",
     "text": [
      "+---+-----+------+---------------+-----------+--------------------+-------+-----------------+----------------+--------+----------------+-----------+------+----------+--------------+-----+------------------+-----------------+-----------------+--------------------+\n",
      "|BHK| Rent|  Size|          Floor|  Area Type|       Area Locality|   City|Furnishing Status|Tenant Preferred|Bathroom|Point of Contact|Rent_capped|Floor1|Area Type1|Area Locality1|City1|Furnishing Status1|Tenant Preferred1|Point of Contact1|        indepent_col|\n",
      "+---+-----+------+---------------+-----------+--------------------+-------+-----------------+----------------+--------+----------------+-----------+------+----------+--------------+-----+------------------+-----------------+-----------------+--------------------+\n",
      "|2.0|10000|1100.0|Ground out of 2| Super Area|              Bandel|Kolkata|      Unfurnished|Bachelors/Family|     2.0|   Contact Owner|    10000.0|   1.0|       0.0|         472.0|  5.0|               1.0|              0.0|              0.0|[1.0,0.0,472.0,5....|\n",
      "|2.0|20000| 800.0|     1 out of 3| Super Area|Phool Bagan, Kank...|Kolkata|   Semi-Furnished|Bachelors/Family|     1.0|   Contact Owner|    20000.0|   4.0|       0.0|         671.0|  5.0|               0.0|              0.0|              0.0|(7,[0,2,3],[4.0,6...|\n",
      "|2.0|17000|1000.0|     1 out of 3| Super Area|Salt Lake City Se...|Kolkata|   Semi-Furnished|Bachelors/Family|     1.0|   Contact Owner|    17000.0|   4.0|       0.0|          13.0|  5.0|               0.0|              0.0|              0.0|(7,[0,2,3],[4.0,1...|\n",
      "|2.0|10000| 800.0|     1 out of 2| Super Area|         Dumdum Park|Kolkata|      Unfurnished|Bachelors/Family|     1.0|   Contact Owner|    10000.0|   0.0|       0.0|         516.0|  5.0|               1.0|              0.0|              0.0|(7,[2,3,4],[516.0...|\n",
      "|2.0| 7500| 850.0|     1 out of 2|Carpet Area|       South Dum Dum|Kolkata|      Unfurnished|       Bachelors|     1.0|   Contact Owner|     7500.0|   0.0|       1.0|        1980.0|  5.0|               1.0|              1.0|              0.0|[0.0,1.0,1980.0,5...|\n",
      "+---+-----+------+---------------+-----------+--------------------+-------+-----------------+----------------+--------+----------------+-----------+------+----------+--------------+-----+------------------+-----------------+-----------------+--------------------+\n",
      "only showing top 5 rows\n",
      "\n"
     ]
    }
   ],
   "source": [
    "sph = vec.transform(sph)\n",
    "sph.show(5)"
   ]
  },
  {
   "cell_type": "code",
   "execution_count": 89,
   "id": "cd181209-7d11-409b-ad68-4e3ca2931414",
   "metadata": {},
   "outputs": [
    {
     "name": "stdout",
     "output_type": "stream",
     "text": [
      "+--------------------+-----+\n",
      "|        indepent_col| Rent|\n",
      "+--------------------+-----+\n",
      "|[1.0,0.0,472.0,5....|10000|\n",
      "|(7,[0,2,3],[4.0,6...|20000|\n",
      "|(7,[0,2,3],[4.0,1...|17000|\n",
      "|(7,[2,3,4],[516.0...|10000|\n",
      "+--------------------+-----+\n",
      "only showing top 4 rows\n",
      "\n"
     ]
    }
   ],
   "source": [
    "data = sph.select(\"indepent_col\",\"Rent\")\n",
    "data.show(4)"
   ]
  },
  {
   "cell_type": "code",
   "execution_count": 90,
   "id": "c6d9e0ce-acf1-4096-b0f0-5df586c406d0",
   "metadata": {},
   "outputs": [],
   "source": [
    "train,test = data.randomSplit([0.8,0.2])"
   ]
  },
  {
   "cell_type": "code",
   "execution_count": 91,
   "id": "ea9d85e0-4628-4b99-b556-e874f7f74fa6",
   "metadata": {},
   "outputs": [],
   "source": [
    "model = LinearRegression(featuresCol=\"indepent_col\",labelCol=\"Rent\")\n",
    "model = model.fit(train)"
   ]
  },
  {
   "cell_type": "code",
   "execution_count": 92,
   "id": "710fe822-425d-4703-b576-bf2804dc6851",
   "metadata": {},
   "outputs": [
    {
     "data": {
      "text/plain": [
       "DenseVector([147.1233, 4575.1206, -0.0719, -4505.1162, 1657.3293, -1241.8334, 39324.1914])"
      ]
     },
     "execution_count": 92,
     "metadata": {},
     "output_type": "execute_result"
    }
   ],
   "source": [
    "model.coefficients"
   ]
  },
  {
   "cell_type": "code",
   "execution_count": 93,
   "id": "ad8100b9-a22e-46ff-9070-f99b63c796df",
   "metadata": {},
   "outputs": [
    {
     "data": {
      "text/plain": [
       "23100.44719787785"
      ]
     },
     "execution_count": 93,
     "metadata": {},
     "output_type": "execute_result"
    }
   ],
   "source": [
    "model.intercept"
   ]
  },
  {
   "cell_type": "code",
   "execution_count": 94,
   "id": "39ca6d5f-7770-4087-bb93-9e82dcf78c14",
   "metadata": {},
   "outputs": [
    {
     "name": "stdout",
     "output_type": "stream",
     "text": [
      "+--------------------+------+------------------+\n",
      "|        indepent_col|  Rent|        prediction|\n",
      "+--------------------+------+------------------+\n",
      "|(7,[0,1,2],[20.0,...| 45000| 30560.63631438744|\n",
      "|(7,[0,1,2],[40.0,...| 28000|   33548.129035814|\n",
      "|(7,[0,1,2],[43.0,...| 61000| 33893.47629969861|\n",
      "|(7,[0,1,6],[18.0,...|270000| 69647.97889541498|\n",
      "|(7,[0,1,6],[49.0,...|190000| 74208.80174093193|\n",
      "|(7,[0,1,6],[80.0,...|170000| 78769.62458644886|\n",
      "|(7,[0,1,6],[85.0,...|130000| 79505.24117443546|\n",
      "|(7,[0,2],[2.0,219...| 12000| 23236.88575856857|\n",
      "|(7,[0,2],[18.0,57...| 25000|25707.236900539257|\n",
      "|(7,[0,2],[24.0,19...| 25000| 26492.37172084432|\n",
      "|(7,[0,2],[25.0,15...| 40000| 26777.45123119393|\n",
      "|(7,[0,2],[29.0,43...| 18000|27335.519334985598|\n",
      "|(7,[0,2],[33.0,17...| 21000|27943.145216048557|\n",
      "|(7,[0,2,3],[1.0,7...|  7500|14236.834596787017|\n",
      "|(7,[0,2,3],[1.0,3...| 14000|14234.604856445349|\n",
      "|(7,[0,2,3],[1.0,4...| 35000| 9728.697443792802|\n",
      "|(7,[0,2,3],[1.0,8...|  9500|14231.583917917926|\n",
      "|(7,[0,2,3],[1.0,9...|  6166|18735.980861306758|\n",
      "|(7,[0,2,3],[1.0,9...|  1500| 715.0844407928198|\n",
      "|(7,[0,2,3],[1.0,1...|  7000|14229.066469145073|\n",
      "+--------------------+------+------------------+\n",
      "only showing top 20 rows\n",
      "\n"
     ]
    }
   ],
   "source": [
    "pred = model.evaluate(test)\n",
    "pred.predictions.show()"
   ]
  },
  {
   "cell_type": "code",
   "execution_count": 95,
   "id": "91ccc29a-4db0-4c68-8aa1-59634487d1c3",
   "metadata": {},
   "outputs": [
    {
     "name": "stdout",
     "output_type": "stream",
     "text": [
      "rmse 50700.29967368507\n",
      "meanAbsoluteError 24440.754781533327\n",
      "meaanSqaurederror 2570520387.00147\n",
      "r sqaure 0.2780756009969415\n"
     ]
    }
   ],
   "source": [
    "print(\"rmse\",pred.rootMeanSquaredError)\n",
    "print(\"meanAbsoluteError\",pred.meanAbsoluteError)\n",
    "print(\"meaanSqaurederror\",pred.meanSquaredError)\n",
    "print(\"r sqaure\",pred.r2)"
   ]
  },
  {
   "cell_type": "code",
   "execution_count": null,
   "id": "5a38f12e-3798-4052-ab5c-d102bb1c319e",
   "metadata": {},
   "outputs": [],
   "source": []
  },
  {
   "cell_type": "code",
   "execution_count": null,
   "id": "9b876d77-a39b-4c18-b663-c577dba3b0a6",
   "metadata": {},
   "outputs": [],
   "source": []
  },
  {
   "cell_type": "code",
   "execution_count": null,
   "id": "00950dc9-3241-4ace-a685-b05a37cd3c71",
   "metadata": {},
   "outputs": [],
   "source": []
  },
  {
   "cell_type": "code",
   "execution_count": null,
   "id": "b1ac8bb2-8943-4ddd-97df-ce33b812824a",
   "metadata": {},
   "outputs": [],
   "source": []
  },
  {
   "cell_type": "code",
   "execution_count": null,
   "id": "70b7667d-8049-4384-aa74-8fb1eebd666d",
   "metadata": {},
   "outputs": [],
   "source": []
  },
  {
   "cell_type": "code",
   "execution_count": null,
   "id": "c2457d43-3646-4e34-9e73-64d3e2ece0fd",
   "metadata": {},
   "outputs": [],
   "source": []
  },
  {
   "cell_type": "code",
   "execution_count": null,
   "id": "6256b8d5-8fab-4334-99eb-aca810d9312f",
   "metadata": {},
   "outputs": [],
   "source": []
  },
  {
   "cell_type": "code",
   "execution_count": null,
   "id": "398fa67c-3ba6-403e-bb94-a1a5496a7553",
   "metadata": {},
   "outputs": [],
   "source": []
  },
  {
   "cell_type": "code",
   "execution_count": null,
   "id": "a1e957a8-2ed1-4efa-aac2-a6ab5ada1e68",
   "metadata": {},
   "outputs": [],
   "source": []
  },
  {
   "cell_type": "code",
   "execution_count": null,
   "id": "0b09b317-6daf-457d-9b8a-da24f0653eb7",
   "metadata": {},
   "outputs": [],
   "source": []
  },
  {
   "cell_type": "code",
   "execution_count": null,
   "id": "7af2bc57-f57c-4d48-afdb-9303edd88dac",
   "metadata": {},
   "outputs": [],
   "source": []
  },
  {
   "cell_type": "code",
   "execution_count": null,
   "id": "a6ad7bb4-ac95-4a1e-b65e-f763ea2b8de3",
   "metadata": {},
   "outputs": [],
   "source": []
  }
 ],
 "metadata": {
  "kernelspec": {
   "display_name": "Python 3 (ipykernel)",
   "language": "python",
   "name": "python3"
  },
  "language_info": {
   "codemirror_mode": {
    "name": "ipython",
    "version": 3
   },
   "file_extension": ".py",
   "mimetype": "text/x-python",
   "name": "python",
   "nbconvert_exporter": "python",
   "pygments_lexer": "ipython3",
   "version": "3.12.4"
  }
 },
 "nbformat": 4,
 "nbformat_minor": 5
}
