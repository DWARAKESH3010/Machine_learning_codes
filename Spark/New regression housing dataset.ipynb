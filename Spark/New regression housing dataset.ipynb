{
 "cells": [
  {
   "cell_type": "code",
   "execution_count": 4,
   "id": "a640e323-8ce2-4ed2-a5f8-561ec2251164",
   "metadata": {},
   "outputs": [],
   "source": [
    "from pyspark.sql import SparkSession"
   ]
  },
  {
   "cell_type": "code",
   "execution_count": 5,
   "id": "77184888-3877-429d-b579-448fd8a273e5",
   "metadata": {},
   "outputs": [
    {
     "name": "stdout",
     "output_type": "stream",
     "text": [
      "Requirement already satisfied: pyspark in c:\\users\\hp\\anaconda3\\lib\\site-packages (3.5.2)\n",
      "Requirement already satisfied: py4j==0.10.9.7 in c:\\users\\hp\\anaconda3\\lib\\site-packages (from pyspark) (0.10.9.7)\n"
     ]
    }
   ],
   "source": [
    "!pip install pyspark"
   ]
  },
  {
   "cell_type": "code",
   "execution_count": 6,
   "id": "90cf9d0f-2f47-4414-8e84-96391e6be4fe",
   "metadata": {},
   "outputs": [],
   "source": [
    "sp = SparkSession.builder\\\n",
    "    .appName(\"rent_predictions\")\\\n",
    "    .getOrCreate() "
   ]
  },
  {
   "cell_type": "code",
   "execution_count": 7,
   "id": "816d98a8-f833-45ce-8221-bf5b61371b89",
   "metadata": {},
   "outputs": [],
   "source": [
    "spp = sp.read.csv(\"House_Rent_Dataset.csv\",header = True,inferSchema=True)"
   ]
  },
  {
   "cell_type": "code",
   "execution_count": 8,
   "id": "54741588-92f6-4b48-9f21-380af93251cc",
   "metadata": {
    "scrolled": true
   },
   "outputs": [
    {
     "name": "stdout",
     "output_type": "stream",
     "text": [
      "+----------+---+-----+----+---------------+-----------+--------------------+-------+-----------------+----------------+--------+----------------+\n",
      "| Posted On|BHK| Rent|Size|          Floor|  Area Type|       Area Locality|   City|Furnishing Status|Tenant Preferred|Bathroom|Point of Contact|\n",
      "+----------+---+-----+----+---------------+-----------+--------------------+-------+-----------------+----------------+--------+----------------+\n",
      "|2022-05-18|  2|10000|1100|Ground out of 2| Super Area|              Bandel|Kolkata|      Unfurnished|Bachelors/Family|       2|   Contact Owner|\n",
      "|2022-05-13|  2|20000| 800|     1 out of 3| Super Area|Phool Bagan, Kank...|Kolkata|   Semi-Furnished|Bachelors/Family|       1|   Contact Owner|\n",
      "|2022-05-16|  2|17000|1000|     1 out of 3| Super Area|Salt Lake City Se...|Kolkata|   Semi-Furnished|Bachelors/Family|       1|   Contact Owner|\n",
      "|2022-07-04|  2|10000| 800|     1 out of 2| Super Area|         Dumdum Park|Kolkata|      Unfurnished|Bachelors/Family|       1|   Contact Owner|\n",
      "|2022-05-09|  2| 7500| 850|     1 out of 2|Carpet Area|       South Dum Dum|Kolkata|      Unfurnished|       Bachelors|       1|   Contact Owner|\n",
      "+----------+---+-----+----+---------------+-----------+--------------------+-------+-----------------+----------------+--------+----------------+\n",
      "only showing top 5 rows\n",
      "\n"
     ]
    }
   ],
   "source": [
    "spp.show(5)"
   ]
  },
  {
   "cell_type": "code",
   "execution_count": 9,
   "id": "2e5fda33-8ab2-42ad-a4f5-63ad9edbfc47",
   "metadata": {},
   "outputs": [],
   "source": [
    "sph = spp.drop(\"Posted On\")"
   ]
  },
  {
   "cell_type": "code",
   "execution_count": 10,
   "id": "29009eae-a4f4-4659-9dc2-477dd4a139cc",
   "metadata": {},
   "outputs": [
    {
     "name": "stdout",
     "output_type": "stream",
     "text": [
      "+---+-----+----+---------------+-----------+--------------------+-------+-----------------+----------------+--------+----------------+\n",
      "|BHK| Rent|Size|          Floor|  Area Type|       Area Locality|   City|Furnishing Status|Tenant Preferred|Bathroom|Point of Contact|\n",
      "+---+-----+----+---------------+-----------+--------------------+-------+-----------------+----------------+--------+----------------+\n",
      "|  2|10000|1100|Ground out of 2| Super Area|              Bandel|Kolkata|      Unfurnished|Bachelors/Family|       2|   Contact Owner|\n",
      "|  2|20000| 800|     1 out of 3| Super Area|Phool Bagan, Kank...|Kolkata|   Semi-Furnished|Bachelors/Family|       1|   Contact Owner|\n",
      "|  2|17000|1000|     1 out of 3| Super Area|Salt Lake City Se...|Kolkata|   Semi-Furnished|Bachelors/Family|       1|   Contact Owner|\n",
      "|  2|10000| 800|     1 out of 2| Super Area|         Dumdum Park|Kolkata|      Unfurnished|Bachelors/Family|       1|   Contact Owner|\n",
      "|  2| 7500| 850|     1 out of 2|Carpet Area|       South Dum Dum|Kolkata|      Unfurnished|       Bachelors|       1|   Contact Owner|\n",
      "+---+-----+----+---------------+-----------+--------------------+-------+-----------------+----------------+--------+----------------+\n",
      "only showing top 5 rows\n",
      "\n"
     ]
    }
   ],
   "source": [
    "sph.show(5)"
   ]
  },
  {
   "cell_type": "code",
   "execution_count": 11,
   "id": "d6a6a986-09a6-4e69-ad1a-f1fe4dedd6d4",
   "metadata": {},
   "outputs": [
    {
     "name": "stdout",
     "output_type": "stream",
     "text": [
      "+-------+------------------+-----------------+-----------------+--------------------+----------+--------------------+---------+-----------------+----------------+-----------------+----------------+\n",
      "|summary|               BHK|             Rent|             Size|               Floor| Area Type|       Area Locality|     City|Furnishing Status|Tenant Preferred|         Bathroom|Point of Contact|\n",
      "+-------+------------------+-----------------+-----------------+--------------------+----------+--------------------+---------+-----------------+----------------+-----------------+----------------+\n",
      "|  count|              4746|             4746|             4746|                4746|      4746|                4746|     4746|             4746|            4746|             4746|            4746|\n",
      "|   mean|2.0838600927096502|34993.45132743363|967.4907290349768|  1.6666666666666667|      NULL|            352525.5|     NULL|             NULL|            NULL|1.965865992414665|            NULL|\n",
      "| stddev|0.8322558984634483|78106.41293734834|634.2023275120674|  1.1547005383792517|      NULL|    491475.275370491|     NULL|             NULL|            NULL|0.884531665805517|            NULL|\n",
      "|    min|                 1|             1200|               10|                   1|Built Area| Beeramguda, Rama...|Bangalore|        Furnished|       Bachelors|                1|   Contact Agent|\n",
      "|    max|                 6|          3500000|             8000|Upper Basement ou...|Super Area|          whitefield|   Mumbai|      Unfurnished|          Family|               10|   Contact Owner|\n",
      "+-------+------------------+-----------------+-----------------+--------------------+----------+--------------------+---------+-----------------+----------------+-----------------+----------------+\n",
      "\n"
     ]
    }
   ],
   "source": [
    "sph.describe().show()"
   ]
  },
  {
   "cell_type": "markdown",
   "id": "828b5883-1f86-4241-b469-5d5fb258529a",
   "metadata": {},
   "source": [
    "# Linear algothrim"
   ]
  },
  {
   "cell_type": "code",
   "execution_count": 12,
   "id": "b5e6e075-0762-403c-badf-ce8f30bcf86c",
   "metadata": {},
   "outputs": [],
   "source": [
    "from pyspark.ml.regression import LinearRegression\n",
    "from pyspark.ml.feature import VectorAssembler\n",
    "from pyspark.ml.feature import StringIndexer"
   ]
  },
  {
   "cell_type": "code",
   "execution_count": 13,
   "id": "0f55fe11-d542-4574-b73f-7ae8e993cfe8",
   "metadata": {},
   "outputs": [],
   "source": [
    "encode = StringIndexer(inputCols=[\"Floor\",\"Area Type\",\"Area Locality\",\"City\",\"Furnishing Status\",\"Tenant Preferred\",\"Point of Contact\"],outputCols=[\"Floor1\",\"Area Type1\",\"Area Locality1\",\"City1\",\"Furnishing Status1\",\"Tenant Preferred1\",\"Point of Contact1\"])"
   ]
  },
  {
   "cell_type": "code",
   "execution_count": 14,
   "id": "babfa7b4-9ff4-4b03-86e6-9c61b1ef4dc6",
   "metadata": {},
   "outputs": [
    {
     "name": "stdout",
     "output_type": "stream",
     "text": [
      "+---+-----+----+---------------+-----------+--------------------+-------+-----------------+----------------+--------+----------------+------+----------+--------------+-----+------------------+-----------------+-----------------+\n",
      "|BHK| Rent|Size|          Floor|  Area Type|       Area Locality|   City|Furnishing Status|Tenant Preferred|Bathroom|Point of Contact|Floor1|Area Type1|Area Locality1|City1|Furnishing Status1|Tenant Preferred1|Point of Contact1|\n",
      "+---+-----+----+---------------+-----------+--------------------+-------+-----------------+----------------+--------+----------------+------+----------+--------------+-----+------------------+-----------------+-----------------+\n",
      "|  2|10000|1100|Ground out of 2| Super Area|              Bandel|Kolkata|      Unfurnished|Bachelors/Family|       2|   Contact Owner|   1.0|       0.0|         472.0|  5.0|               1.0|              0.0|              0.0|\n",
      "|  2|20000| 800|     1 out of 3| Super Area|Phool Bagan, Kank...|Kolkata|   Semi-Furnished|Bachelors/Family|       1|   Contact Owner|   4.0|       0.0|         671.0|  5.0|               0.0|              0.0|              0.0|\n",
      "|  2|17000|1000|     1 out of 3| Super Area|Salt Lake City Se...|Kolkata|   Semi-Furnished|Bachelors/Family|       1|   Contact Owner|   4.0|       0.0|          13.0|  5.0|               0.0|              0.0|              0.0|\n",
      "|  2|10000| 800|     1 out of 2| Super Area|         Dumdum Park|Kolkata|      Unfurnished|Bachelors/Family|       1|   Contact Owner|   0.0|       0.0|         516.0|  5.0|               1.0|              0.0|              0.0|\n",
      "|  2| 7500| 850|     1 out of 2|Carpet Area|       South Dum Dum|Kolkata|      Unfurnished|       Bachelors|       1|   Contact Owner|   0.0|       1.0|        1980.0|  5.0|               1.0|              1.0|              0.0|\n",
      "+---+-----+----+---------------+-----------+--------------------+-------+-----------------+----------------+--------+----------------+------+----------+--------------+-----+------------------+-----------------+-----------------+\n",
      "only showing top 5 rows\n",
      "\n"
     ]
    }
   ],
   "source": [
    "sph = encode.fit(sph).transform(sph)\n",
    "sph.show(5)"
   ]
  },
  {
   "cell_type": "code",
   "execution_count": 15,
   "id": "b725fa50-62e1-44de-bb20-c905ec1d44aa",
   "metadata": {},
   "outputs": [],
   "source": [
    "vec = VectorAssembler(inputCols=[\"Floor1\",\"Area Type1\",\"Area Locality1\",\"City1\",\"Furnishing Status1\",\"Tenant Preferred1\",\"Point of Contact1\"],outputCol= \"indepent_col\")"
   ]
  },
  {
   "cell_type": "code",
   "execution_count": 16,
   "id": "36ad9294-aadf-4acb-8e0d-8502d39704e7",
   "metadata": {},
   "outputs": [
    {
     "name": "stdout",
     "output_type": "stream",
     "text": [
      "+---+-----+----+---------------+-----------+--------------------+-------+-----------------+----------------+--------+----------------+------+----------+--------------+-----+------------------+-----------------+-----------------+--------------------+\n",
      "|BHK| Rent|Size|          Floor|  Area Type|       Area Locality|   City|Furnishing Status|Tenant Preferred|Bathroom|Point of Contact|Floor1|Area Type1|Area Locality1|City1|Furnishing Status1|Tenant Preferred1|Point of Contact1|        indepent_col|\n",
      "+---+-----+----+---------------+-----------+--------------------+-------+-----------------+----------------+--------+----------------+------+----------+--------------+-----+------------------+-----------------+-----------------+--------------------+\n",
      "|  2|10000|1100|Ground out of 2| Super Area|              Bandel|Kolkata|      Unfurnished|Bachelors/Family|       2|   Contact Owner|   1.0|       0.0|         472.0|  5.0|               1.0|              0.0|              0.0|[1.0,0.0,472.0,5....|\n",
      "|  2|20000| 800|     1 out of 3| Super Area|Phool Bagan, Kank...|Kolkata|   Semi-Furnished|Bachelors/Family|       1|   Contact Owner|   4.0|       0.0|         671.0|  5.0|               0.0|              0.0|              0.0|(7,[0,2,3],[4.0,6...|\n",
      "|  2|17000|1000|     1 out of 3| Super Area|Salt Lake City Se...|Kolkata|   Semi-Furnished|Bachelors/Family|       1|   Contact Owner|   4.0|       0.0|          13.0|  5.0|               0.0|              0.0|              0.0|(7,[0,2,3],[4.0,1...|\n",
      "|  2|10000| 800|     1 out of 2| Super Area|         Dumdum Park|Kolkata|      Unfurnished|Bachelors/Family|       1|   Contact Owner|   0.0|       0.0|         516.0|  5.0|               1.0|              0.0|              0.0|(7,[2,3,4],[516.0...|\n",
      "|  2| 7500| 850|     1 out of 2|Carpet Area|       South Dum Dum|Kolkata|      Unfurnished|       Bachelors|       1|   Contact Owner|   0.0|       1.0|        1980.0|  5.0|               1.0|              1.0|              0.0|[0.0,1.0,1980.0,5...|\n",
      "+---+-----+----+---------------+-----------+--------------------+-------+-----------------+----------------+--------+----------------+------+----------+--------------+-----+------------------+-----------------+-----------------+--------------------+\n",
      "only showing top 5 rows\n",
      "\n"
     ]
    }
   ],
   "source": [
    "sph = vec.transform(sph)\n",
    "sph.show(5)"
   ]
  },
  {
   "cell_type": "code",
   "execution_count": 17,
   "id": "cd181209-7d11-409b-ad68-4e3ca2931414",
   "metadata": {},
   "outputs": [
    {
     "name": "stdout",
     "output_type": "stream",
     "text": [
      "+--------------------+-----+\n",
      "|        indepent_col| Rent|\n",
      "+--------------------+-----+\n",
      "|[1.0,0.0,472.0,5....|10000|\n",
      "|(7,[0,2,3],[4.0,6...|20000|\n",
      "|(7,[0,2,3],[4.0,1...|17000|\n",
      "|(7,[2,3,4],[516.0...|10000|\n",
      "+--------------------+-----+\n",
      "only showing top 4 rows\n",
      "\n"
     ]
    }
   ],
   "source": [
    "data = sph.select(\"indepent_col\",\"Rent\")\n",
    "data.show(4)"
   ]
  },
  {
   "cell_type": "code",
   "execution_count": 18,
   "id": "c6d9e0ce-acf1-4096-b0f0-5df586c406d0",
   "metadata": {},
   "outputs": [],
   "source": [
    "train,test = data.randomSplit([0.8,0.2])"
   ]
  },
  {
   "cell_type": "code",
   "execution_count": 19,
   "id": "ea9d85e0-4628-4b99-b556-e874f7f74fa6",
   "metadata": {},
   "outputs": [],
   "source": [
    "model = LinearRegression(featuresCol=\"indepent_col\",labelCol=\"Rent\")\n",
    "model = model.fit(train)"
   ]
  },
  {
   "cell_type": "code",
   "execution_count": 20,
   "id": "710fe822-425d-4703-b576-bf2804dc6851",
   "metadata": {},
   "outputs": [
    {
     "data": {
      "text/plain": [
       "DenseVector([146.1526, 5133.8031, 0.6821, -4796.3089, 419.7323, -874.6815, 38019.5563])"
      ]
     },
     "execution_count": 20,
     "metadata": {},
     "output_type": "execute_result"
    }
   ],
   "source": [
    "model.coefficients"
   ]
  },
  {
   "cell_type": "code",
   "execution_count": 21,
   "id": "ad8100b9-a22e-46ff-9070-f99b63c796df",
   "metadata": {},
   "outputs": [
    {
     "data": {
      "text/plain": [
       "24516.02432928414"
      ]
     },
     "execution_count": 21,
     "metadata": {},
     "output_type": "execute_result"
    }
   ],
   "source": [
    "model.intercept"
   ]
  },
  {
   "cell_type": "code",
   "execution_count": 22,
   "id": "39ca6d5f-7770-4087-bb93-9e82dcf78c14",
   "metadata": {},
   "outputs": [
    {
     "name": "stdout",
     "output_type": "stream",
     "text": [
      "+--------------------+------+------------------+\n",
      "|        indepent_col|  Rent|        prediction|\n",
      "+--------------------+------+------------------+\n",
      "|(7,[0,1,2],[18.0,...| 24000| 33008.34393618788|\n",
      "|(7,[0,1,2],[40.0,...| 28000| 35613.24835476591|\n",
      "|(7,[0,1,2],[43.0,...| 61000| 36962.27050558006|\n",
      "|(7,[0,1,2],[183.0...| 19500| 57510.26023058848|\n",
      "|(7,[0,1,6],[18.0,...|120000| 70300.13083696444|\n",
      "|(7,[0,1,6],[50.0,...|320000|  74977.0146666625|\n",
      "|(7,[0,2],[3.0,134...| 30000| 25870.50304514267|\n",
      "|(7,[0,2],[6.0,218...| 35000| 26881.90023383616|\n",
      "|(7,[0,2],[14.0,11...| 24000| 26641.96326855101|\n",
      "|(7,[0,2],[14.0,13...| 35000|  26654.9226105314|\n",
      "|(7,[0,2],[17.0,21...| 65000| 28499.12803912252|\n",
      "|(7,[0,2],[29.0,96...|  9400|29410.602246534007|\n",
      "|(7,[0,2],[34.0,18...| 31000|30770.234466288464|\n",
      "|(7,[0,2],[38.0,21...|  8000| 31523.31639074578|\n",
      "|(7,[0,2],[92.0,17...| 32000| 38079.38148812008|\n",
      "|(7,[0,2,3],[1.0,7...| 10000|15074.333694749377|\n",
      "|(7,[0,2,3],[1.0,2...| 30000| 694.2739900065026|\n",
      "|(7,[0,2,3],[1.0,2...|  6500|   19882.237769782|\n",
      "|(7,[0,2,3],[1.0,5...| 50000| 19901.33574743731|\n",
      "|(7,[0,2,3],[1.0,7...| 12000|19915.659230678793|\n",
      "+--------------------+------+------------------+\n",
      "only showing top 20 rows\n",
      "\n"
     ]
    }
   ],
   "source": [
    "pred = model.evaluate(test)\n",
    "pred.predictions.show()"
   ]
  },
  {
   "cell_type": "code",
   "execution_count": 23,
   "id": "91ccc29a-4db0-4c68-8aa1-59634487d1c3",
   "metadata": {},
   "outputs": [
    {
     "name": "stdout",
     "output_type": "stream",
     "text": [
      "rmse 48640.272448621705\n",
      "meanAbsoluteError 22576.55929452751\n",
      "meaanSqaurederror 2365876103.8761477\n",
      "r sqaure 0.2896255633313961\n"
     ]
    }
   ],
   "source": [
    "print(\"rmse\",pred.rootMeanSquaredError)\n",
    "print(\"meanAbsoluteError\",pred.meanAbsoluteError)\n",
    "print(\"meaanSqaurederror\",pred.meanSquaredError)\n",
    "print(\"r sqaure\",pred.r2)"
   ]
  },
  {
   "cell_type": "code",
   "execution_count": 24,
   "id": "5a2609d9-b2ff-4714-8ae4-d4f100da02ae",
   "metadata": {},
   "outputs": [
    {
     "data": {
      "text/plain": [
       "<Axes: >"
      ]
     },
     "execution_count": 24,
     "metadata": {},
     "output_type": "execute_result"
    },
    {
     "data": {
      "image/png": "[encoded data removed]",
      "text/plain": [
       "<Figure size 640x480 with 1 Axes>"
      ]
     },
     "metadata": {},
     "output_type": "display_data"
    }
   ],
   "source": [
    "pd = sph.toPandas()\n",
    "pd.boxplot(\"Rent\")"
   ]
  },
  {
   "cell_type": "code",
   "execution_count": 25,
   "id": "5798d2c1-c7b7-41b1-a203-337234cbfd7f",
   "metadata": {},
   "outputs": [
    {
     "data": {
      "text/html": [
       "<div>\n",
       "<style scoped>\n",
       "    .dataframe tbody tr th:only-of-type {\n",
       "        vertical-align: middle;\n",
       "    }\n",
       "\n",
       "    .dataframe tbody tr th {\n",
       "        vertical-align: top;\n",
       "    }\n",
       "\n",
       "    .dataframe thead th {\n",
       "        text-align: right;\n",
       "    }\n",
       "</style>\n",
       "<table border=\"1\" class=\"dataframe\">\n",
       "  <thead>\n",
       "    <tr style=\"text-align: right;\">\n",
       "      <th></th>\n",
       "      <th>BHK</th>\n",
       "      <th>Rent</th>\n",
       "      <th>Size</th>\n",
       "      <th>Floor</th>\n",
       "      <th>Area Type</th>\n",
       "      <th>Area Locality</th>\n",
       "      <th>City</th>\n",
       "      <th>Furnishing Status</th>\n",
       "      <th>Tenant Preferred</th>\n",
       "      <th>Bathroom</th>\n",
       "      <th>Point of Contact</th>\n",
       "      <th>Floor1</th>\n",
       "      <th>Area Type1</th>\n",
       "      <th>Area Locality1</th>\n",
       "      <th>City1</th>\n",
       "      <th>Furnishing Status1</th>\n",
       "      <th>Tenant Preferred1</th>\n",
       "      <th>Point of Contact1</th>\n",
       "      <th>indepent_col</th>\n",
       "    </tr>\n",
       "  </thead>\n",
       "  <tbody>\n",
       "    <tr>\n",
       "      <th>0</th>\n",
       "      <td>2</td>\n",
       "      <td>10000</td>\n",
       "      <td>1100</td>\n",
       "      <td>Ground out of 2</td>\n",
       "      <td>Super Area</td>\n",
       "      <td>Bandel</td>\n",
       "      <td>Kolkata</td>\n",
       "      <td>Unfurnished</td>\n",
       "      <td>Bachelors/Family</td>\n",
       "      <td>2</td>\n",
       "      <td>Contact Owner</td>\n",
       "      <td>1.0</td>\n",
       "      <td>0.0</td>\n",
       "      <td>472.0</td>\n",
       "      <td>5.0</td>\n",
       "      <td>1.0</td>\n",
       "      <td>0.0</td>\n",
       "      <td>0.0</td>\n",
       "      <td>[1.0, 0.0, 472.0, 5.0, 1.0, 0.0, 0.0]</td>\n",
       "    </tr>\n",
       "    <tr>\n",
       "      <th>1</th>\n",
       "      <td>2</td>\n",
       "      <td>20000</td>\n",
       "      <td>800</td>\n",
       "      <td>1 out of 3</td>\n",
       "      <td>Super Area</td>\n",
       "      <td>Phool Bagan, Kankurgachi</td>\n",
       "      <td>Kolkata</td>\n",
       "      <td>Semi-Furnished</td>\n",
       "      <td>Bachelors/Family</td>\n",
       "      <td>1</td>\n",
       "      <td>Contact Owner</td>\n",
       "      <td>4.0</td>\n",
       "      <td>0.0</td>\n",
       "      <td>671.0</td>\n",
       "      <td>5.0</td>\n",
       "      <td>0.0</td>\n",
       "      <td>0.0</td>\n",
       "      <td>0.0</td>\n",
       "      <td>(4.0, 0.0, 671.0, 5.0, 0.0, 0.0, 0.0)</td>\n",
       "    </tr>\n",
       "    <tr>\n",
       "      <th>2</th>\n",
       "      <td>2</td>\n",
       "      <td>17000</td>\n",
       "      <td>1000</td>\n",
       "      <td>1 out of 3</td>\n",
       "      <td>Super Area</td>\n",
       "      <td>Salt Lake City Sector 2</td>\n",
       "      <td>Kolkata</td>\n",
       "      <td>Semi-Furnished</td>\n",
       "      <td>Bachelors/Family</td>\n",
       "      <td>1</td>\n",
       "      <td>Contact Owner</td>\n",
       "      <td>4.0</td>\n",
       "      <td>0.0</td>\n",
       "      <td>13.0</td>\n",
       "      <td>5.0</td>\n",
       "      <td>0.0</td>\n",
       "      <td>0.0</td>\n",
       "      <td>0.0</td>\n",
       "      <td>(4.0, 0.0, 13.0, 5.0, 0.0, 0.0, 0.0)</td>\n",
       "    </tr>\n",
       "    <tr>\n",
       "      <th>3</th>\n",
       "      <td>2</td>\n",
       "      <td>10000</td>\n",
       "      <td>800</td>\n",
       "      <td>1 out of 2</td>\n",
       "      <td>Super Area</td>\n",
       "      <td>Dumdum Park</td>\n",
       "      <td>Kolkata</td>\n",
       "      <td>Unfurnished</td>\n",
       "      <td>Bachelors/Family</td>\n",
       "      <td>1</td>\n",
       "      <td>Contact Owner</td>\n",
       "      <td>0.0</td>\n",
       "      <td>0.0</td>\n",
       "      <td>516.0</td>\n",
       "      <td>5.0</td>\n",
       "      <td>1.0</td>\n",
       "      <td>0.0</td>\n",
       "      <td>0.0</td>\n",
       "      <td>(0.0, 0.0, 516.0, 5.0, 1.0, 0.0, 0.0)</td>\n",
       "    </tr>\n",
       "    <tr>\n",
       "      <th>4</th>\n",
       "      <td>2</td>\n",
       "      <td>7500</td>\n",
       "      <td>850</td>\n",
       "      <td>1 out of 2</td>\n",
       "      <td>Carpet Area</td>\n",
       "      <td>South Dum Dum</td>\n",
       "      <td>Kolkata</td>\n",
       "      <td>Unfurnished</td>\n",
       "      <td>Bachelors</td>\n",
       "      <td>1</td>\n",
       "      <td>Contact Owner</td>\n",
       "      <td>0.0</td>\n",
       "      <td>1.0</td>\n",
       "      <td>1980.0</td>\n",
       "      <td>5.0</td>\n",
       "      <td>1.0</td>\n",
       "      <td>1.0</td>\n",
       "      <td>0.0</td>\n",
       "      <td>[0.0, 1.0, 1980.0, 5.0, 1.0, 1.0, 0.0]</td>\n",
       "    </tr>\n",
       "  </tbody>\n",
       "</table>\n",
       "</div>"
      ],
      "text/plain": [
       "   BHK   Rent  Size            Floor    Area Type             Area Locality  \\\n",
       "0    2  10000  1100  Ground out of 2   Super Area                    Bandel   \n",
       "1    2  20000   800       1 out of 3   Super Area  Phool Bagan, Kankurgachi   \n",
       "2    2  17000  1000       1 out of 3   Super Area   Salt Lake City Sector 2   \n",
       "3    2  10000   800       1 out of 2   Super Area               Dumdum Park   \n",
       "4    2   7500   850       1 out of 2  Carpet Area             South Dum Dum   \n",
       "\n",
       "      City Furnishing Status  Tenant Preferred  Bathroom Point of Contact  \\\n",
       "0  Kolkata       Unfurnished  Bachelors/Family         2    Contact Owner   \n",
       "1  Kolkata    Semi-Furnished  Bachelors/Family         1    Contact Owner   \n",
       "2  Kolkata    Semi-Furnished  Bachelors/Family         1    Contact Owner   \n",
       "3  Kolkata       Unfurnished  Bachelors/Family         1    Contact Owner   \n",
       "4  Kolkata       Unfurnished         Bachelors         1    Contact Owner   \n",
       "\n",
       "   Floor1  Area Type1  Area Locality1  City1  Furnishing Status1  \\\n",
       "0     1.0         0.0           472.0    5.0                 1.0   \n",
       "1     4.0         0.0           671.0    5.0                 0.0   \n",
       "2     4.0         0.0            13.0    5.0                 0.0   \n",
       "3     0.0         0.0           516.0    5.0                 1.0   \n",
       "4     0.0         1.0          1980.0    5.0                 1.0   \n",
       "\n",
       "   Tenant Preferred1  Point of Contact1  \\\n",
       "0                0.0                0.0   \n",
       "1                0.0                0.0   \n",
       "2                0.0                0.0   \n",
       "3                0.0                0.0   \n",
       "4                1.0                0.0   \n",
       "\n",
       "                             indepent_col  \n",
       "0   [1.0, 0.0, 472.0, 5.0, 1.0, 0.0, 0.0]  \n",
       "1   (4.0, 0.0, 671.0, 5.0, 0.0, 0.0, 0.0)  \n",
       "2    (4.0, 0.0, 13.0, 5.0, 0.0, 0.0, 0.0)  \n",
       "3   (0.0, 0.0, 516.0, 5.0, 1.0, 0.0, 0.0)  \n",
       "4  [0.0, 1.0, 1980.0, 5.0, 1.0, 1.0, 0.0]  "
      ]
     },
     "execution_count": 25,
     "metadata": {},
     "output_type": "execute_result"
    }
   ],
   "source": [
    "pd.head()"
   ]
  },
  {
   "cell_type": "code",
   "execution_count": 26,
   "id": "4b68f80d-dcc7-4aab-a8f9-fca37841e5f1",
   "metadata": {},
   "outputs": [
    {
     "data": {
      "text/plain": [
       "<Axes: >"
      ]
     },
     "execution_count": 26,
     "metadata": {},
     "output_type": "execute_result"
    }
   ],
   "source": [
    "pd.boxplot(column=\"Rent\")"
   ]
  },
  {
   "cell_type": "code",
   "execution_count": 27,
   "id": "0244270a-fb33-49cb-8d42-6891ff07aa78",
   "metadata": {},
   "outputs": [],
   "source": [
    "import matplotlib.pyplot as plt"
   ]
  },
  {
   "cell_type": "code",
   "execution_count": 39,
   "id": "d512c51c-09f0-4b70-8458-9b7a330cbf88",
   "metadata": {},
   "outputs": [
    {
     "data": {
      "image/png": "[encoded data removed]",
      "text/plain": [
       "<Figure size 640x480 with 1 Axes>"
      ]
     },
     "metadata": {},
     "output_type": "display_data"
    }
   ],
   "source": [
    "plt.barh(pd['Rent'], pd['Size'])\n",
    "\n",
    "# Add labels and title\n",
    "plt.xlabel('Rent')\n",
    "plt.ylabel('Size')\n",
    "plt.title('Scatter Plot of Rent vs. Size')\n",
    "\n",
    "# Show the plot\n",
    "plt.show()\n"
   ]
  },
  {
   "cell_type": "code",
   "execution_count": null,
   "id": "5a38f12e-3798-4052-ab5c-d102bb1c319e",
   "metadata": {},
   "outputs": [],
   "source": []
  },
  {
   "cell_type": "code",
   "execution_count": null,
   "id": "9b876d77-a39b-4c18-b663-c577dba3b0a6",
   "metadata": {},
   "outputs": [],
   "source": []
  },
  {
   "cell_type": "code",
   "execution_count": null,
   "id": "00950dc9-3241-4ace-a685-b05a37cd3c71",
   "metadata": {},
   "outputs": [],
   "source": []
  },
  {
   "cell_type": "code",
   "execution_count": null,
   "id": "b1ac8bb2-8943-4ddd-97df-ce33b812824a",
   "metadata": {},
   "outputs": [],
   "source": []
  },
  {
   "cell_type": "code",
   "execution_count": null,
   "id": "70b7667d-8049-4384-aa74-8fb1eebd666d",
   "metadata": {},
   "outputs": [],
   "source": []
  },
  {
   "cell_type": "code",
   "execution_count": null,
   "id": "c2457d43-3646-4e34-9e73-64d3e2ece0fd",
   "metadata": {},
   "outputs": [],
   "source": []
  },
  {
   "cell_type": "code",
   "execution_count": null,
   "id": "6256b8d5-8fab-4334-99eb-aca810d9312f",
   "metadata": {},
   "outputs": [],
   "source": []
  },
  {
   "cell_type": "code",
   "execution_count": null,
   "id": "398fa67c-3ba6-403e-bb94-a1a5496a7553",
   "metadata": {},
   "outputs": [],
   "source": []
  },
  {
   "cell_type": "code",
   "execution_count": null,
   "id": "a1e957a8-2ed1-4efa-aac2-a6ab5ada1e68",
   "metadata": {},
   "outputs": [],
   "source": []
  },
  {
   "cell_type": "code",
   "execution_count": null,
   "id": "0b09b317-6daf-457d-9b8a-da24f0653eb7",
   "metadata": {},
   "outputs": [],
   "source": []
  },
  {
   "cell_type": "code",
   "execution_count": null,
   "id": "7af2bc57-f57c-4d48-afdb-9303edd88dac",
   "metadata": {},
   "outputs": [],
   "source": []
  },
  {
   "cell_type": "code",
   "execution_count": null,
   "id": "a6ad7bb4-ac95-4a1e-b65e-f763ea2b8de3",
   "metadata": {},
   "outputs": [],
   "source": []
  }
 ],
 "metadata": {
  "kernelspec": {
   "display_name": "Python 3 (ipykernel)",
   "language": "python",
   "name": "python3"
  },
  "language_info": {
   "codemirror_mode": {
    "name": "ipython",
    "version": 3
   },
   "file_extension": ".py",
   "mimetype": "text/x-python",
   "name": "python",
   "nbconvert_exporter": "python",
   "pygments_lexer": "ipython3",
   "version": "3.11.7"
  }
 },
 "nbformat": 4,
 "nbformat_minor": 5
}
