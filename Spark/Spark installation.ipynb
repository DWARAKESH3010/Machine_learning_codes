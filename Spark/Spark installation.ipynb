{
 "cells": [
  {
   "cell_type": "code",
   "execution_count": 1,
   "id": "5bf08fe6-ad3c-4eb2-9ea6-1cd04d1bbdbf",
   "metadata": {},
   "outputs": [
    {
     "name": "stdout",
     "output_type": "stream",
     "text": [
      "Requirement already satisfied: pyspark in c:\\users\\hp\\anaconda3\\lib\\site-packages (3.5.2)\n",
      "Requirement already satisfied: py4j==0.10.9.7 in c:\\users\\hp\\anaconda3\\lib\\site-packages (from pyspark) (0.10.9.7)\n"
     ]
    }
   ],
   "source": [
    "!pip install pyspark"
   ]
  },
  {
   "cell_type": "code",
   "execution_count": 2,
   "id": "2be83230-6053-4f5a-a2bb-c14dcf1f2b5c",
   "metadata": {},
   "outputs": [],
   "source": [
    "from pyspark.sql import SparkSession\n",
    "import pandas as pd"
   ]
  },
  {
   "cell_type": "code",
   "execution_count": 3,
   "id": "3e8dd4e5-39e5-4c91-afad-f612b4ed4d06",
   "metadata": {},
   "outputs": [],
   "source": [
    "spark = SparkSession.builder \\\n",
    "    .appName(\"practices\") \\\n",
    "    .getOrCreate()"
   ]
  },
  {
   "cell_type": "code",
   "execution_count": 4,
   "id": "6f574f9e-e9d3-42a6-bc34-09189c090d2f",
   "metadata": {},
   "outputs": [
    {
     "data": {
      "text/html": [
       "\n",
       "            <div>\n",
       "                <p><b>SparkSession - in-memory</b></p>\n",
       "                \n",
       "        <div>\n",
       "            <p><b>SparkContext</b></p>\n",
       "\n",
       "            <p><a href=\"http://DESKTOP-CO3RME2:4040\">Spark UI</a></p>\n",
       "\n",
       "            <dl>\n",
       "              <dt>Version</dt>\n",
       "                <dd><code>v3.5.2</code></dd>\n",
       "              <dt>Master</dt>\n",
       "                <dd><code>local[*]</code></dd>\n",
       "              <dt>AppName</dt>\n",
       "                <dd><code>practices</code></dd>\n",
       "            </dl>\n",
       "        </div>\n",
       "        \n",
       "            </div>\n",
       "        "
      ],
      "text/plain": [
       "<pyspark.sql.session.SparkSession at 0x1dff0e59d10>"
      ]
     },
     "execution_count": 4,
     "metadata": {},
     "output_type": "execute_result"
    }
   ],
   "source": [
    "spark"
   ]
  },
  {
   "cell_type": "code",
   "execution_count": 5,
   "id": "3473b383-e5c1-4c09-b65e-10edde2ca1d2",
   "metadata": {},
   "outputs": [
    {
     "name": "stdout",
     "output_type": "stream",
     "text": [
      "3.5.2\n"
     ]
    }
   ],
   "source": [
    "print(spark.version)"
   ]
  },
  {
   "cell_type": "code",
   "execution_count": 6,
   "id": "e99aa794-4328-455a-8060-e27017a74f02",
   "metadata": {},
   "outputs": [
    {
     "data": {
      "text/plain": [
       "pandas.core.frame.DataFrame"
      ]
     },
     "execution_count": 6,
     "metadata": {},
     "output_type": "execute_result"
    }
   ],
   "source": [
    "type(pd.read_csv(\"Chennai house data.csv\")) "
   ]
  },
  {
   "cell_type": "markdown",
   "id": "41191311-319c-4039-b34c-a4b650279faa",
   "metadata": {},
   "source": [
    "# reading csv and storig the columns in columns box"
   ]
  },
  {
   "cell_type": "code",
   "execution_count": 37,
   "id": "5e78de1a-6d43-4cb8-bc9a-884b51fe3c76",
   "metadata": {},
   "outputs": [
    {
     "data": {
      "text/plain": [
       "pyspark.sql.dataframe.DataFrame"
      ]
     },
     "execution_count": 37,
     "metadata": {},
     "output_type": "execute_result"
    }
   ],
   "source": [
    "df_spark = spark.read.option(\"Header\",\"True\").csv(\"Chennai house data.csv\",inferSchema=True)\n",
    "type(df_spark)"
   ]
  },
  {
   "cell_type": "code",
   "execution_count": 38,
   "id": "d977244a-94ff-479f-8fca-a5dc12fdca32",
   "metadata": {},
   "outputs": [
    {
     "name": "stdout",
     "output_type": "stream",
     "text": [
      "+-----+----+------------------+---+--------+----+----------+--------------------+\n",
      "|price|area|            status|bhk|bathroom| age|  location|             builder|\n",
      "+-----+----+------------------+---+--------+----+----------+--------------------+\n",
      "|37.49| 872|     Ready to move|  2|    NULL|   1| Sembakkam|       MP Developers|\n",
      "|93.54|1346|Under Construction|  3|       2|NULL|  Selaiyur|       DAC Promoters|\n",
      "|151.0|2225|Under Construction|  3|    NULL|   0| Mogappair|Casagrand Builder...|\n",
      "| 49.0|1028|     Ready to move|  2|       2|   3|  Ambattur|Dugar Housing Bui...|\n",
      "|42.28| 588|Under Construction|  2|       1|   0|Pallavaram|Radiance Realty D...|\n",
      "+-----+----+------------------+---+--------+----+----------+--------------------+\n",
      "only showing top 5 rows\n",
      "\n"
     ]
    }
   ],
   "source": [
    "df_spark.show(5)"
   ]
  },
  {
   "cell_type": "code",
   "execution_count": 39,
   "id": "da8e0c6f-ea25-447e-95e6-92388c342f2e",
   "metadata": {},
   "outputs": [
    {
     "name": "stdout",
     "output_type": "stream",
     "text": [
      "root\n",
      " |-- price: double (nullable = true)\n",
      " |-- area: integer (nullable = true)\n",
      " |-- status: string (nullable = true)\n",
      " |-- bhk: integer (nullable = true)\n",
      " |-- bathroom: integer (nullable = true)\n",
      " |-- age: integer (nullable = true)\n",
      " |-- location: string (nullable = true)\n",
      " |-- builder: string (nullable = true)\n",
      "\n"
     ]
    }
   ],
   "source": [
    "df_spark.printSchema()    #like df.info()"
   ]
  },
  {
   "cell_type": "markdown",
   "id": "a5ba6f0b-6fc8-459a-b57f-673ff86e4233",
   "metadata": {},
   "source": [
    "# Another way to read the dataset"
   ]
  },
  {
   "cell_type": "code",
   "execution_count": 40,
   "id": "b1b01635-70da-405c-8734-3e5c24a29988",
   "metadata": {},
   "outputs": [],
   "source": [
    "df_spark = spark.read.csv(\"Chennai house data.csv\",header = True, inferSchema = True)"
   ]
  },
  {
   "cell_type": "code",
   "execution_count": 41,
   "id": "d18d4cea-6a06-4f57-92d5-876424380c81",
   "metadata": {},
   "outputs": [
    {
     "name": "stdout",
     "output_type": "stream",
     "text": [
      "+-----+----+------------------+---+--------+----+----------+--------------------+\n",
      "|price|area|            status|bhk|bathroom| age|  location|             builder|\n",
      "+-----+----+------------------+---+--------+----+----------+--------------------+\n",
      "|37.49| 872|     Ready to move|  2|    NULL|   1| Sembakkam|       MP Developers|\n",
      "|93.54|1346|Under Construction|  3|       2|NULL|  Selaiyur|       DAC Promoters|\n",
      "|151.0|2225|Under Construction|  3|    NULL|   0| Mogappair|Casagrand Builder...|\n",
      "| 49.0|1028|     Ready to move|  2|       2|   3|  Ambattur|Dugar Housing Bui...|\n",
      "|42.28| 588|Under Construction|  2|       1|   0|Pallavaram|Radiance Realty D...|\n",
      "+-----+----+------------------+---+--------+----+----------+--------------------+\n",
      "only showing top 5 rows\n",
      "\n"
     ]
    }
   ],
   "source": [
    "df_spark.show(5)"
   ]
  },
  {
   "cell_type": "code",
   "execution_count": 42,
   "id": "bae9b089-6bd0-4041-a99c-ef69e62763c1",
   "metadata": {},
   "outputs": [
    {
     "name": "stdout",
     "output_type": "stream",
     "text": [
      "root\n",
      " |-- price: double (nullable = true)\n",
      " |-- area: integer (nullable = true)\n",
      " |-- status: string (nullable = true)\n",
      " |-- bhk: integer (nullable = true)\n",
      " |-- bathroom: integer (nullable = true)\n",
      " |-- age: integer (nullable = true)\n",
      " |-- location: string (nullable = true)\n",
      " |-- builder: string (nullable = true)\n",
      "\n"
     ]
    }
   ],
   "source": [
    "df_spark.printSchema()    "
   ]
  },
  {
   "cell_type": "markdown",
   "id": "57cf09cb-e9fb-4efa-bd63-ae64e347d4bd",
   "metadata": {},
   "source": [
    "# what is dataframe ?\n",
    "dataframe is one kind of the data structure, we can perform various type of operation in the dataframe"
   ]
  },
  {
   "cell_type": "code",
   "execution_count": 43,
   "id": "58775430-d2a3-4465-80e3-78bc6619c738",
   "metadata": {},
   "outputs": [
    {
     "data": {
      "text/plain": [
       "['price', 'area', 'status', 'bhk', 'bathroom', 'age', 'location', 'builder']"
      ]
     },
     "execution_count": 43,
     "metadata": {},
     "output_type": "execute_result"
    }
   ],
   "source": [
    "df_spark.columns"
   ]
  },
  {
   "cell_type": "code",
   "execution_count": 44,
   "id": "bc311245-8315-4278-b685-492b80fa1f6d",
   "metadata": {},
   "outputs": [
    {
     "name": "stdout",
     "output_type": "stream",
     "text": [
      "+-----+----+\n",
      "|price|area|\n",
      "+-----+----+\n",
      "|37.49| 872|\n",
      "|93.54|1346|\n",
      "|151.0|2225|\n",
      "| 49.0|1028|\n",
      "|42.28| 588|\n",
      "+-----+----+\n",
      "only showing top 5 rows\n",
      "\n",
      "+----------+\n",
      "|  location|\n",
      "+----------+\n",
      "| Sembakkam|\n",
      "|  Selaiyur|\n",
      "| Mogappair|\n",
      "|  Ambattur|\n",
      "|Pallavaram|\n",
      "+----------+\n",
      "only showing top 5 rows\n",
      "\n"
     ]
    }
   ],
   "source": [
    "df_spark.select(\"price\",\"area\").show(5)           #select is used for the specify columns to select\n",
    "df_spark.select(\"location\").show(5)"
   ]
  },
  {
   "cell_type": "code",
   "execution_count": 45,
   "id": "1af80634-03fc-4ff3-8bcc-55f5240b45af",
   "metadata": {},
   "outputs": [
    {
     "data": {
      "text/plain": [
       "[('price', 'double'),\n",
       " ('area', 'int'),\n",
       " ('status', 'string'),\n",
       " ('bhk', 'int'),\n",
       " ('bathroom', 'int'),\n",
       " ('age', 'int'),\n",
       " ('location', 'string'),\n",
       " ('builder', 'string')]"
      ]
     },
     "execution_count": 45,
     "metadata": {},
     "output_type": "execute_result"
    }
   ],
   "source": [
    "df_spark.dtypes"
   ]
  },
  {
   "cell_type": "code",
   "execution_count": 46,
   "id": "efc64de5-609d-4ee3-880c-0dd3acc6ac1c",
   "metadata": {},
   "outputs": [
    {
     "name": "stdout",
     "output_type": "stream",
     "text": [
      "+-------+------------------+------------------+------------------+------------------+------------------+------------------+-------------+------------+\n",
      "|summary|             price|              area|            status|               bhk|          bathroom|               age|     location|     builder|\n",
      "+-------+------------------+------------------+------------------+------------------+------------------+------------------+-------------+------------+\n",
      "|  count|              2620|              2620|              2620|              2620|              1403|              1729|         2620|        2620|\n",
      "|   mean| 93.83468320610666|1282.9251908396946|              NULL|2.4438931297709923| 2.359230220955096|1.3551185656448814|         NULL|        NULL|\n",
      "| stddev|113.60934931337222| 692.5663187698266|              NULL|0.8119836251037046|0.8449514283614394|2.1026819845567295|         NULL|        NULL|\n",
      "|    min|             12.83|               300|     Ready to move|                 1|                 1|                 0|    Adambakam|24K Realtors|\n",
      "|    max|            1422.0|              6700|Under Construction|                 8|                 7|                32|tambaram west|    viswaraj|\n",
      "+-------+------------------+------------------+------------------+------------------+------------------+------------------+-------------+------------+\n",
      "\n"
     ]
    }
   ],
   "source": [
    "df_spark.describe().show(5)"
   ]
  },
  {
   "cell_type": "markdown",
   "id": "3a53805e-c541-4a94-8130-860cfc7e7eb4",
   "metadata": {},
   "source": [
    "# adding the columns"
   ]
  },
  {
   "cell_type": "code",
   "execution_count": 47,
   "id": "aa5824e1-9e60-436f-8e7d-70651da26af4",
   "metadata": {},
   "outputs": [
    {
     "name": "stdout",
     "output_type": "stream",
     "text": [
      "+-----+----+------------------+---+--------+----+----------+--------------------+------------------+\n",
      "|price|area|            status|bhk|bathroom| age|  location|             builder|Age after two year|\n",
      "+-----+----+------------------+---+--------+----+----------+--------------------+------------------+\n",
      "|37.49| 872|     Ready to move|  2|    NULL|   1| Sembakkam|       MP Developers|                 3|\n",
      "|93.54|1346|Under Construction|  3|       2|NULL|  Selaiyur|       DAC Promoters|              NULL|\n",
      "|151.0|2225|Under Construction|  3|    NULL|   0| Mogappair|Casagrand Builder...|                 2|\n",
      "| 49.0|1028|     Ready to move|  2|       2|   3|  Ambattur|Dugar Housing Bui...|                 5|\n",
      "|42.28| 588|Under Construction|  2|       1|   0|Pallavaram|Radiance Realty D...|                 2|\n",
      "+-----+----+------------------+---+--------+----+----------+--------------------+------------------+\n",
      "only showing top 5 rows\n",
      "\n"
     ]
    }
   ],
   "source": [
    "# using withColumns\n",
    "\n",
    "dummy = df_spark.withColumn(\"Age after two year\",df_spark[\"age\"]+2)\n",
    "dummy.show(5)"
   ]
  },
  {
   "cell_type": "markdown",
   "id": "54187341-1756-4ecb-a2d7-d2903f840852",
   "metadata": {},
   "source": [
    "# droping column"
   ]
  },
  {
   "cell_type": "code",
   "execution_count": 48,
   "id": "95c72181-59bc-49d6-8502-7942f58fe5ca",
   "metadata": {},
   "outputs": [
    {
     "name": "stdout",
     "output_type": "stream",
     "text": [
      "+-----+----+------------------+---+----+----------+--------------------+\n",
      "|price|area|            status|bhk| age|  location|             builder|\n",
      "+-----+----+------------------+---+----+----------+--------------------+\n",
      "|37.49| 872|     Ready to move|  2|   1| Sembakkam|       MP Developers|\n",
      "|93.54|1346|Under Construction|  3|NULL|  Selaiyur|       DAC Promoters|\n",
      "|151.0|2225|Under Construction|  3|   0| Mogappair|Casagrand Builder...|\n",
      "| 49.0|1028|     Ready to move|  2|   3|  Ambattur|Dugar Housing Bui...|\n",
      "|42.28| 588|Under Construction|  2|   0|Pallavaram|Radiance Realty D...|\n",
      "+-----+----+------------------+---+----+----------+--------------------+\n",
      "only showing top 5 rows\n",
      "\n"
     ]
    }
   ],
   "source": [
    "df_spark = df_spark.drop(\"Age after two year\",\"bathroom\")\n",
    "df_spark.show(5)"
   ]
  },
  {
   "cell_type": "markdown",
   "id": "f867c482-a149-4245-b163-fab558e28c8d",
   "metadata": {},
   "source": [
    "# renaming the columns"
   ]
  },
  {
   "cell_type": "code",
   "execution_count": 49,
   "id": "69183928-e4d6-45cf-8888-9809c8601db5",
   "metadata": {},
   "outputs": [
    {
     "name": "stdout",
     "output_type": "stream",
     "text": [
      "+-----+----+------------------+---+----+----------+--------------------+\n",
      "|Price|area|            status|bhk| age|  location|             builder|\n",
      "+-----+----+------------------+---+----+----------+--------------------+\n",
      "|37.49| 872|     Ready to move|  2|   1| Sembakkam|       MP Developers|\n",
      "|93.54|1346|Under Construction|  3|NULL|  Selaiyur|       DAC Promoters|\n",
      "|151.0|2225|Under Construction|  3|   0| Mogappair|Casagrand Builder...|\n",
      "| 49.0|1028|     Ready to move|  2|   3|  Ambattur|Dugar Housing Bui...|\n",
      "|42.28| 588|Under Construction|  2|   0|Pallavaram|Radiance Realty D...|\n",
      "+-----+----+------------------+---+----+----------+--------------------+\n",
      "only showing top 5 rows\n",
      "\n"
     ]
    }
   ],
   "source": [
    "df_spark.withColumnRenamed(\"price\",\"Price\").show(5)"
   ]
  },
  {
   "cell_type": "markdown",
   "id": "a6761a49-23e1-4567-9835-393a0171fd76",
   "metadata": {},
   "source": [
    "# Handling missing value"
   ]
  },
  {
   "cell_type": "code",
   "execution_count": 50,
   "id": "4c380f58-1842-4a04-9321-41d273203874",
   "metadata": {},
   "outputs": [
    {
     "name": "stdout",
     "output_type": "stream",
     "text": [
      "+-----+----+------------------+---+---+-------------+--------------------+\n",
      "|price|area|            status|bhk|age|     location|             builder|\n",
      "+-----+----+------------------+---+---+-------------+--------------------+\n",
      "|37.49| 872|     Ready to move|  2|  1|    Sembakkam|       MP Developers|\n",
      "|93.54|1346|Under Construction|  3|  1|     Selaiyur|       DAC Promoters|\n",
      "|151.0|2225|Under Construction|  3|  0|    Mogappair|Casagrand Builder...|\n",
      "| 49.0|1028|     Ready to move|  2|  3|     Ambattur|Dugar Housing Bui...|\n",
      "|42.28| 588|Under Construction|  2|  0|   Pallavaram|Radiance Realty D...|\n",
      "|188.0|2221|Under Construction|  3|  0|Virugambakkam|Traventure Homes ...|\n",
      "| 38.0| 885|Under Construction|  3|  0|Thirumazhisai|           Urbanrise|\n",
      "|72.99| 936|     Ready to move|  3|  6|   Moolakadai|Navin Housing Pro...|\n",
      "|125.0|2275|     Ready to move|  4|  1|Ottiyambakkam|Jones foundation ...|\n",
      "|24.56| 622|Under Construction|  2|  0|Perungalathur|          Isha Homes|\n",
      "|67.87|1305|Under Construction|  3|  0|Gerugambakkam|Kochar Homes Pvt Ltd|\n",
      "|240.0|1500|     Ready to move|  3|  1|   Anna Nagar|Pushkar Propertie...|\n",
      "|407.0|2200|Under Construction|  3|  0|  Gopalapuram|Pushkar Propertie...|\n",
      "|51.46| 919|Under Construction|  2|  0|       Pammal|    Asset Tree Homes|\n",
      "|69.47| 965|Under Construction|  2|  0|        Porur|Urban Tree Infras...|\n",
      "+-----+----+------------------+---+---+-------------+--------------------+\n",
      "only showing top 15 rows\n",
      "\n"
     ]
    }
   ],
   "source": [
    "from pyspark.ml.feature import Imputer\n",
    "imputer = Imputer(\n",
    "    inputCols = [\"age\"],\n",
    "    outputCols = [\"age\"]).setStrategy(\"mean\")\n",
    "\n",
    "\n",
    "df = imputer.fit(df_spark).transform(df_spark)\n",
    "df.show(15)"
   ]
  },
  {
   "cell_type": "code",
   "execution_count": 52,
   "id": "d9017884-b020-4030-9e21-88f6947eefaf",
   "metadata": {},
   "outputs": [
    {
     "name": "stdout",
     "output_type": "stream",
     "text": [
      "+-------+------------------+------------------+------------------+------------------+------------------+-------------+------------+\n",
      "|summary|             price|              area|            status|               bhk|               age|     location|     builder|\n",
      "+-------+------------------+------------------+------------------+------------------+------------------+-------------+------------+\n",
      "|  count|              2620|              2620|              2620|              2620|              2620|         2620|        2620|\n",
      "|   mean| 93.83468320610666|1282.9251908396946|              NULL|2.4438931297709923| 1.234351145038168|         NULL|        NULL|\n",
      "| stddev|113.60934931337222| 692.5663187698266|              NULL|0.8119836251037046|1.7162285383748437|         NULL|        NULL|\n",
      "|    min|             12.83|               300|     Ready to move|                 1|                 0|    Adambakam|24K Realtors|\n",
      "|    max|            1422.0|              6700|Under Construction|                 8|                32|tambaram west|    viswaraj|\n",
      "+-------+------------------+------------------+------------------+------------------+------------------+-------------+------------+\n",
      "\n"
     ]
    }
   ],
   "source": [
    "df.describe().show(5)"
   ]
  },
  {
   "cell_type": "code",
   "execution_count": null,
   "id": "977cdf0f-f522-4dd7-bf0b-6da89ba402bc",
   "metadata": {},
   "outputs": [],
   "source": []
  },
  {
   "cell_type": "code",
   "execution_count": null,
   "id": "2eaa907c-8e2e-4029-b61a-5511d5779ad3",
   "metadata": {},
   "outputs": [],
   "source": []
  }
 ],
 "metadata": {
  "kernelspec": {
   "display_name": "Python 3 (ipykernel)",
   "language": "python",
   "name": "python3"
  },
  "language_info": {
   "codemirror_mode": {
    "name": "ipython",
    "version": 3
   },
   "file_extension": ".py",
   "mimetype": "text/x-python",
   "name": "python",
   "nbconvert_exporter": "python",
   "pygments_lexer": "ipython3",
   "version": "3.11.7"
  }
 },
 "nbformat": 4,
 "nbformat_minor": 5
}
