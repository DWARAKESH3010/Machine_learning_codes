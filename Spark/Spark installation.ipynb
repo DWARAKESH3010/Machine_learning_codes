{
 "cells": [
  {
   "cell_type": "code",
   "execution_count": 1,
   "id": "5bf08fe6-ad3c-4eb2-9ea6-1cd04d1bbdbf",
   "metadata": {},
   "outputs": [
    {
     "name": "stdout",
     "output_type": "stream",
     "text": [
      "Requirement already satisfied: pyspark in c:\\users\\hp\\anaconda3\\lib\\site-packages (3.5.2)\n",
      "Requirement already satisfied: py4j==0.10.9.7 in c:\\users\\hp\\anaconda3\\lib\\site-packages (from pyspark) (0.10.9.7)\n"
     ]
    }
   ],
   "source": [
    "!pip install pyspark"
   ]
  },
  {
   "cell_type": "code",
   "execution_count": 2,
   "id": "2be83230-6053-4f5a-a2bb-c14dcf1f2b5c",
   "metadata": {},
   "outputs": [],
   "source": [
    "from pyspark.sql import SparkSession\n",
    "import pandas as pd"
   ]
  },
  {
   "cell_type": "code",
   "execution_count": 3,
   "id": "3e8dd4e5-39e5-4c91-afad-f612b4ed4d06",
   "metadata": {},
   "outputs": [],
   "source": [
    "spark = SparkSession.builder \\\n",
    "    .appName(\"practices\") \\\n",
    "    .getOrCreate()"
   ]
  },
  {
   "cell_type": "code",
   "execution_count": 4,
   "id": "6f574f9e-e9d3-42a6-bc34-09189c090d2f",
   "metadata": {},
   "outputs": [
    {
     "data": {
      "text/html": [
       "\n",
       "            <div>\n",
       "                <p><b>SparkSession - in-memory</b></p>\n",
       "                \n",
       "        <div>\n",
       "            <p><b>SparkContext</b></p>\n",
       "\n",
       "            <p><a href=\"http://DESKTOP-CO3RME2:4040\">Spark UI</a></p>\n",
       "\n",
       "            <dl>\n",
       "              <dt>Version</dt>\n",
       "                <dd><code>v3.5.2</code></dd>\n",
       "              <dt>Master</dt>\n",
       "                <dd><code>local[*]</code></dd>\n",
       "              <dt>AppName</dt>\n",
       "                <dd><code>practices</code></dd>\n",
       "            </dl>\n",
       "        </div>\n",
       "        \n",
       "            </div>\n",
       "        "
      ],
      "text/plain": [
       "<pyspark.sql.session.SparkSession at 0x2a686d9ad90>"
      ]
     },
     "execution_count": 4,
     "metadata": {},
     "output_type": "execute_result"
    }
   ],
   "source": [
    "spark"
   ]
  },
  {
   "cell_type": "code",
   "execution_count": 5,
   "id": "3473b383-e5c1-4c09-b65e-10edde2ca1d2",
   "metadata": {},
   "outputs": [
    {
     "name": "stdout",
     "output_type": "stream",
     "text": [
      "3.5.2\n"
     ]
    }
   ],
   "source": [
    "print(spark.version)"
   ]
  },
  {
   "cell_type": "code",
   "execution_count": 6,
   "id": "e99aa794-4328-455a-8060-e27017a74f02",
   "metadata": {},
   "outputs": [
    {
     "data": {
      "text/plain": [
       "pandas.core.frame.DataFrame"
      ]
     },
     "execution_count": 6,
     "metadata": {},
     "output_type": "execute_result"
    }
   ],
   "source": [
    "type(pd.read_csv(\"Chennai house data.csv\")) "
   ]
  },
  {
   "cell_type": "markdown",
   "id": "41191311-319c-4039-b34c-a4b650279faa",
   "metadata": {},
   "source": [
    "# reading csv and storig the columns in columns box"
   ]
  },
  {
   "cell_type": "code",
   "execution_count": 7,
   "id": "5e78de1a-6d43-4cb8-bc9a-884b51fe3c76",
   "metadata": {},
   "outputs": [
    {
     "data": {
      "text/plain": [
       "pyspark.sql.dataframe.DataFrame"
      ]
     },
     "execution_count": 7,
     "metadata": {},
     "output_type": "execute_result"
    }
   ],
   "source": [
    "df_spark = spark.read.option(\"Header\",\"True\").csv(\"Chennai house data.csv\",inferSchema=True)\n",
    "type(df_spark)"
   ]
  },
  {
   "cell_type": "code",
   "execution_count": 8,
   "id": "d977244a-94ff-479f-8fca-a5dc12fdca32",
   "metadata": {},
   "outputs": [
    {
     "name": "stdout",
     "output_type": "stream",
     "text": [
      "+-----+----+------------------+---+--------+----+----------+--------------------+\n",
      "|price|area|            status|bhk|bathroom| age|  location|             builder|\n",
      "+-----+----+------------------+---+--------+----+----------+--------------------+\n",
      "|37.49| 872|     Ready to move|  2|    NULL|   1| Sembakkam|       MP Developers|\n",
      "|93.54|1346|Under Construction|  3|       2|NULL|  Selaiyur|       DAC Promoters|\n",
      "|151.0|2225|Under Construction|  3|    NULL|   0| Mogappair|Casagrand Builder...|\n",
      "| 49.0|1028|     Ready to move|  2|       2|   3|  Ambattur|Dugar Housing Bui...|\n",
      "|42.28| 588|Under Construction|  2|       1|   0|Pallavaram|Radiance Realty D...|\n",
      "+-----+----+------------------+---+--------+----+----------+--------------------+\n",
      "only showing top 5 rows\n",
      "\n"
     ]
    }
   ],
   "source": [
    "df_spark.show(5)"
   ]
  },
  {
   "cell_type": "code",
   "execution_count": 9,
   "id": "da8e0c6f-ea25-447e-95e6-92388c342f2e",
   "metadata": {},
   "outputs": [
    {
     "name": "stdout",
     "output_type": "stream",
     "text": [
      "root\n",
      " |-- price: double (nullable = true)\n",
      " |-- area: integer (nullable = true)\n",
      " |-- status: string (nullable = true)\n",
      " |-- bhk: integer (nullable = true)\n",
      " |-- bathroom: integer (nullable = true)\n",
      " |-- age: integer (nullable = true)\n",
      " |-- location: string (nullable = true)\n",
      " |-- builder: string (nullable = true)\n",
      "\n"
     ]
    }
   ],
   "source": [
    "df_spark.printSchema()    #like df.info()"
   ]
  },
  {
   "cell_type": "markdown",
   "id": "a5ba6f0b-6fc8-459a-b57f-673ff86e4233",
   "metadata": {},
   "source": [
    "# Another way to read the dataset"
   ]
  },
  {
   "cell_type": "code",
   "execution_count": 10,
   "id": "b1b01635-70da-405c-8734-3e5c24a29988",
   "metadata": {},
   "outputs": [],
   "source": [
    "df_spark = spark.read.csv(\"Chennai house data.csv\",header = True, inferSchema = True)"
   ]
  },
  {
   "cell_type": "code",
   "execution_count": 11,
   "id": "d18d4cea-6a06-4f57-92d5-876424380c81",
   "metadata": {},
   "outputs": [
    {
     "name": "stdout",
     "output_type": "stream",
     "text": [
      "+-----+----+------------------+---+--------+----+----------+--------------------+\n",
      "|price|area|            status|bhk|bathroom| age|  location|             builder|\n",
      "+-----+----+------------------+---+--------+----+----------+--------------------+\n",
      "|37.49| 872|     Ready to move|  2|    NULL|   1| Sembakkam|       MP Developers|\n",
      "|93.54|1346|Under Construction|  3|       2|NULL|  Selaiyur|       DAC Promoters|\n",
      "|151.0|2225|Under Construction|  3|    NULL|   0| Mogappair|Casagrand Builder...|\n",
      "| 49.0|1028|     Ready to move|  2|       2|   3|  Ambattur|Dugar Housing Bui...|\n",
      "|42.28| 588|Under Construction|  2|       1|   0|Pallavaram|Radiance Realty D...|\n",
      "+-----+----+------------------+---+--------+----+----------+--------------------+\n",
      "only showing top 5 rows\n",
      "\n"
     ]
    }
   ],
   "source": [
    "df_spark.show(5)"
   ]
  },
  {
   "cell_type": "code",
   "execution_count": 12,
   "id": "bae9b089-6bd0-4041-a99c-ef69e62763c1",
   "metadata": {},
   "outputs": [
    {
     "name": "stdout",
     "output_type": "stream",
     "text": [
      "root\n",
      " |-- price: double (nullable = true)\n",
      " |-- area: integer (nullable = true)\n",
      " |-- status: string (nullable = true)\n",
      " |-- bhk: integer (nullable = true)\n",
      " |-- bathroom: integer (nullable = true)\n",
      " |-- age: integer (nullable = true)\n",
      " |-- location: string (nullable = true)\n",
      " |-- builder: string (nullable = true)\n",
      "\n"
     ]
    }
   ],
   "source": [
    "df_spark.printSchema()    "
   ]
  },
  {
   "cell_type": "markdown",
   "id": "57cf09cb-e9fb-4efa-bd63-ae64e347d4bd",
   "metadata": {},
   "source": [
    "# what is dataframe ?\n",
    "dataframe is one kind of the data structure, we can perform various type of operation in the dataframe"
   ]
  },
  {
   "cell_type": "code",
   "execution_count": 13,
   "id": "58775430-d2a3-4465-80e3-78bc6619c738",
   "metadata": {},
   "outputs": [
    {
     "data": {
      "text/plain": [
       "['price', 'area', 'status', 'bhk', 'bathroom', 'age', 'location', 'builder']"
      ]
     },
     "execution_count": 13,
     "metadata": {},
     "output_type": "execute_result"
    }
   ],
   "source": [
    "df_spark.columns"
   ]
  },
  {
   "cell_type": "code",
   "execution_count": 14,
   "id": "bc311245-8315-4278-b685-492b80fa1f6d",
   "metadata": {},
   "outputs": [
    {
     "name": "stdout",
     "output_type": "stream",
     "text": [
      "+-----+----+\n",
      "|price|area|\n",
      "+-----+----+\n",
      "|37.49| 872|\n",
      "|93.54|1346|\n",
      "|151.0|2225|\n",
      "| 49.0|1028|\n",
      "|42.28| 588|\n",
      "+-----+----+\n",
      "only showing top 5 rows\n",
      "\n",
      "+----------+\n",
      "|  location|\n",
      "+----------+\n",
      "| Sembakkam|\n",
      "|  Selaiyur|\n",
      "| Mogappair|\n",
      "|  Ambattur|\n",
      "|Pallavaram|\n",
      "+----------+\n",
      "only showing top 5 rows\n",
      "\n"
     ]
    }
   ],
   "source": [
    "df_spark.select(\"price\",\"area\").show(5)           #select is used for the specify columns to select\n",
    "df_spark.select(\"location\").show(5)"
   ]
  },
  {
   "cell_type": "code",
   "execution_count": 15,
   "id": "1af80634-03fc-4ff3-8bcc-55f5240b45af",
   "metadata": {},
   "outputs": [
    {
     "data": {
      "text/plain": [
       "[('price', 'double'),\n",
       " ('area', 'int'),\n",
       " ('status', 'string'),\n",
       " ('bhk', 'int'),\n",
       " ('bathroom', 'int'),\n",
       " ('age', 'int'),\n",
       " ('location', 'string'),\n",
       " ('builder', 'string')]"
      ]
     },
     "execution_count": 15,
     "metadata": {},
     "output_type": "execute_result"
    }
   ],
   "source": [
    "df_spark.dtypes"
   ]
  },
  {
   "cell_type": "code",
   "execution_count": 16,
   "id": "efc64de5-609d-4ee3-880c-0dd3acc6ac1c",
   "metadata": {},
   "outputs": [
    {
     "name": "stdout",
     "output_type": "stream",
     "text": [
      "+-------+------------------+------------------+------------------+------------------+------------------+------------------+-------------+------------+\n",
      "|summary|             price|              area|            status|               bhk|          bathroom|               age|     location|     builder|\n",
      "+-------+------------------+------------------+------------------+------------------+------------------+------------------+-------------+------------+\n",
      "|  count|              2620|              2620|              2620|              2620|              1403|              1729|         2620|        2620|\n",
      "|   mean| 93.83468320610666|1282.9251908396946|              NULL|2.4438931297709923| 2.359230220955096|1.3551185656448814|         NULL|        NULL|\n",
      "| stddev|113.60934931337222| 692.5663187698266|              NULL|0.8119836251037046|0.8449514283614394|2.1026819845567295|         NULL|        NULL|\n",
      "|    min|             12.83|               300|     Ready to move|                 1|                 1|                 0|    Adambakam|24K Realtors|\n",
      "|    max|            1422.0|              6700|Under Construction|                 8|                 7|                32|tambaram west|    viswaraj|\n",
      "+-------+------------------+------------------+------------------+------------------+------------------+------------------+-------------+------------+\n",
      "\n"
     ]
    }
   ],
   "source": [
    "df_spark.describe().show(5)"
   ]
  },
  {
   "cell_type": "markdown",
   "id": "3a53805e-c541-4a94-8130-860cfc7e7eb4",
   "metadata": {},
   "source": [
    "# adding the columns"
   ]
  },
  {
   "cell_type": "code",
   "execution_count": 17,
   "id": "aa5824e1-9e60-436f-8e7d-70651da26af4",
   "metadata": {},
   "outputs": [
    {
     "name": "stdout",
     "output_type": "stream",
     "text": [
      "+-----+----+------------------+---+--------+----+----------+--------------------+------------------+\n",
      "|price|area|            status|bhk|bathroom| age|  location|             builder|Age after two year|\n",
      "+-----+----+------------------+---+--------+----+----------+--------------------+------------------+\n",
      "|37.49| 872|     Ready to move|  2|    NULL|   1| Sembakkam|       MP Developers|                 3|\n",
      "|93.54|1346|Under Construction|  3|       2|NULL|  Selaiyur|       DAC Promoters|              NULL|\n",
      "|151.0|2225|Under Construction|  3|    NULL|   0| Mogappair|Casagrand Builder...|                 2|\n",
      "| 49.0|1028|     Ready to move|  2|       2|   3|  Ambattur|Dugar Housing Bui...|                 5|\n",
      "|42.28| 588|Under Construction|  2|       1|   0|Pallavaram|Radiance Realty D...|                 2|\n",
      "+-----+----+------------------+---+--------+----+----------+--------------------+------------------+\n",
      "only showing top 5 rows\n",
      "\n"
     ]
    }
   ],
   "source": [
    "# using withColumns\n",
    "\n",
    "dummy = df_spark.withColumn(\"Age after two year\",df_spark[\"age\"]+2)\n",
    "dummy.show(5)"
   ]
  },
  {
   "cell_type": "markdown",
   "id": "54187341-1756-4ecb-a2d7-d2903f840852",
   "metadata": {},
   "source": [
    "# droping column"
   ]
  },
  {
   "cell_type": "code",
   "execution_count": 18,
   "id": "95c72181-59bc-49d6-8502-7942f58fe5ca",
   "metadata": {},
   "outputs": [
    {
     "name": "stdout",
     "output_type": "stream",
     "text": [
      "+-----+----+------------------+---+----+----------+--------------------+\n",
      "|price|area|            status|bhk| age|  location|             builder|\n",
      "+-----+----+------------------+---+----+----------+--------------------+\n",
      "|37.49| 872|     Ready to move|  2|   1| Sembakkam|       MP Developers|\n",
      "|93.54|1346|Under Construction|  3|NULL|  Selaiyur|       DAC Promoters|\n",
      "|151.0|2225|Under Construction|  3|   0| Mogappair|Casagrand Builder...|\n",
      "| 49.0|1028|     Ready to move|  2|   3|  Ambattur|Dugar Housing Bui...|\n",
      "|42.28| 588|Under Construction|  2|   0|Pallavaram|Radiance Realty D...|\n",
      "+-----+----+------------------+---+----+----------+--------------------+\n",
      "only showing top 5 rows\n",
      "\n"
     ]
    }
   ],
   "source": [
    "df_spark = df_spark.drop(\"Age after two year\",\"bathroom\")\n",
    "df_spark.show(5)"
   ]
  },
  {
   "cell_type": "markdown",
   "id": "f867c482-a149-4245-b163-fab558e28c8d",
   "metadata": {},
   "source": [
    "# renaming the columns"
   ]
  },
  {
   "cell_type": "code",
   "execution_count": 19,
   "id": "69183928-e4d6-45cf-8888-9809c8601db5",
   "metadata": {},
   "outputs": [
    {
     "name": "stdout",
     "output_type": "stream",
     "text": [
      "+-----+----+------------------+---+----+----------+--------------------+\n",
      "|Price|area|            status|bhk| age|  location|             builder|\n",
      "+-----+----+------------------+---+----+----------+--------------------+\n",
      "|37.49| 872|     Ready to move|  2|   1| Sembakkam|       MP Developers|\n",
      "|93.54|1346|Under Construction|  3|NULL|  Selaiyur|       DAC Promoters|\n",
      "|151.0|2225|Under Construction|  3|   0| Mogappair|Casagrand Builder...|\n",
      "| 49.0|1028|     Ready to move|  2|   3|  Ambattur|Dugar Housing Bui...|\n",
      "|42.28| 588|Under Construction|  2|   0|Pallavaram|Radiance Realty D...|\n",
      "+-----+----+------------------+---+----+----------+--------------------+\n",
      "only showing top 5 rows\n",
      "\n"
     ]
    }
   ],
   "source": [
    "df_spark.withColumnRenamed(\"price\",\"Price\").show(5)"
   ]
  },
  {
   "cell_type": "markdown",
   "id": "a6761a49-23e1-4567-9835-393a0171fd76",
   "metadata": {},
   "source": [
    "# Handling missing value"
   ]
  },
  {
   "cell_type": "code",
   "execution_count": 20,
   "id": "4c380f58-1842-4a04-9321-41d273203874",
   "metadata": {},
   "outputs": [
    {
     "name": "stdout",
     "output_type": "stream",
     "text": [
      "+-----+----+------------------+---+---+-------------+--------------------+\n",
      "|price|area|            status|bhk|age|     location|             builder|\n",
      "+-----+----+------------------+---+---+-------------+--------------------+\n",
      "|37.49| 872|     Ready to move|  2|  1|    Sembakkam|       MP Developers|\n",
      "|93.54|1346|Under Construction|  3|  1|     Selaiyur|       DAC Promoters|\n",
      "|151.0|2225|Under Construction|  3|  0|    Mogappair|Casagrand Builder...|\n",
      "| 49.0|1028|     Ready to move|  2|  3|     Ambattur|Dugar Housing Bui...|\n",
      "|42.28| 588|Under Construction|  2|  0|   Pallavaram|Radiance Realty D...|\n",
      "|188.0|2221|Under Construction|  3|  0|Virugambakkam|Traventure Homes ...|\n",
      "| 38.0| 885|Under Construction|  3|  0|Thirumazhisai|           Urbanrise|\n",
      "|72.99| 936|     Ready to move|  3|  6|   Moolakadai|Navin Housing Pro...|\n",
      "|125.0|2275|     Ready to move|  4|  1|Ottiyambakkam|Jones foundation ...|\n",
      "|24.56| 622|Under Construction|  2|  0|Perungalathur|          Isha Homes|\n",
      "|67.87|1305|Under Construction|  3|  0|Gerugambakkam|Kochar Homes Pvt Ltd|\n",
      "|240.0|1500|     Ready to move|  3|  1|   Anna Nagar|Pushkar Propertie...|\n",
      "|407.0|2200|Under Construction|  3|  0|  Gopalapuram|Pushkar Propertie...|\n",
      "|51.46| 919|Under Construction|  2|  0|       Pammal|    Asset Tree Homes|\n",
      "|69.47| 965|Under Construction|  2|  0|        Porur|Urban Tree Infras...|\n",
      "+-----+----+------------------+---+---+-------------+--------------------+\n",
      "only showing top 15 rows\n",
      "\n"
     ]
    }
   ],
   "source": [
    "from pyspark.ml.feature import Imputer\n",
    "imputer = Imputer(\n",
    "    inputCols = [\"age\"],\n",
    "    outputCols = [\"age\"]).setStrategy(\"mean\")\n",
    "\n",
    "\n",
    "df = imputer.fit(df_spark).transform(df_spark)\n",
    "df.show(15)"
   ]
  },
  {
   "cell_type": "code",
   "execution_count": 21,
   "id": "d9017884-b020-4030-9e21-88f6947eefaf",
   "metadata": {},
   "outputs": [
    {
     "name": "stdout",
     "output_type": "stream",
     "text": [
      "+-------+------------------+------------------+------------------+------------------+------------------+-------------+------------+\n",
      "|summary|             price|              area|            status|               bhk|               age|     location|     builder|\n",
      "+-------+------------------+------------------+------------------+------------------+------------------+-------------+------------+\n",
      "|  count|              2620|              2620|              2620|              2620|              2620|         2620|        2620|\n",
      "|   mean| 93.83468320610666|1282.9251908396946|              NULL|2.4438931297709923| 1.234351145038168|         NULL|        NULL|\n",
      "| stddev|113.60934931337222| 692.5663187698266|              NULL|0.8119836251037046|1.7162285383748437|         NULL|        NULL|\n",
      "|    min|             12.83|               300|     Ready to move|                 1|                 0|    Adambakam|24K Realtors|\n",
      "|    max|            1422.0|              6700|Under Construction|                 8|                32|tambaram west|    viswaraj|\n",
      "+-------+------------------+------------------+------------------+------------------+------------------+-------------+------------+\n",
      "\n"
     ]
    }
   ],
   "source": [
    "df.describe().show(5)"
   ]
  },
  {
   "cell_type": "markdown",
   "id": "6f04576c-4c37-4f5f-9902-3946c9764999",
   "metadata": {},
   "source": [
    "# Filter function"
   ]
  },
  {
   "cell_type": "code",
   "execution_count": 22,
   "id": "2eaa907c-8e2e-4029-b61a-5511d5779ad3",
   "metadata": {},
   "outputs": [
    {
     "name": "stdout",
     "output_type": "stream",
     "text": [
      "+------+----+-------------+---+---+----------+--------------------+\n",
      "| price|area|       status|bhk|age|  location|             builder|\n",
      "+------+----+-------------+---+---+----------+--------------------+\n",
      "|1397.0|6500|Ready to move|  5|  2|Royapettah|        Vinay Asrani|\n",
      "|1397.0|6498|Ready to move|  5|  2|Royapettah|        Vinay Asrani|\n",
      "|1422.0|6617|Ready to move|  5|  2|Royapettah|        Vinay Asrani|\n",
      "|1050.0|4200|Ready to move|  6|  1|   T Nagar|Shree sakthivel r...|\n",
      "+------+----+-------------+---+---+----------+--------------------+\n",
      "\n"
     ]
    }
   ],
   "source": [
    "df.filter(\"price >= 1000\").show()"
   ]
  },
  {
   "cell_type": "code",
   "execution_count": 23,
   "id": "ec197055-86c5-4943-85ad-9ebd2a4dfe29",
   "metadata": {},
   "outputs": [
    {
     "name": "stdout",
     "output_type": "stream",
     "text": [
      "+--------+\n",
      "|location|\n",
      "+--------+\n",
      "| T Nagar|\n",
      "+--------+\n",
      "\n"
     ]
    }
   ],
   "source": [
    "df.filter((df[\"price\"] >= 1000) & (df[\"bhk\"] >= 6)).select(\"location\").show()"
   ]
  },
  {
   "cell_type": "code",
   "execution_count": 24,
   "id": "2730efc1-a7c7-4961-b0e5-9078542a5fea",
   "metadata": {},
   "outputs": [
    {
     "name": "stdout",
     "output_type": "stream",
     "text": [
      "+--------------+\n",
      "|      location|\n",
      "+--------------+\n",
      "|     Sembakkam|\n",
      "|      Selaiyur|\n",
      "|     Mogappair|\n",
      "|      Ambattur|\n",
      "|    Pallavaram|\n",
      "| Virugambakkam|\n",
      "| Thirumazhisai|\n",
      "|    Moolakadai|\n",
      "| Ottiyambakkam|\n",
      "| Perungalathur|\n",
      "| Gerugambakkam|\n",
      "|    Anna Nagar|\n",
      "|   Gopalapuram|\n",
      "|        Pammal|\n",
      "|         Porur|\n",
      "|      Navallur|\n",
      "| Thirumazhisai|\n",
      "|    Anna Nagar|\n",
      "|Sholinganallur|\n",
      "|     Vanagaram|\n",
      "+--------------+\n",
      "only showing top 20 rows\n",
      "\n"
     ]
    }
   ],
   "source": [
    "df.select(\"location\").show()"
   ]
  },
  {
   "cell_type": "markdown",
   "id": "60574779-812c-4f14-821f-ab4e82627f0e",
   "metadata": {},
   "source": [
    "# GroupBy function"
   ]
  },
  {
   "cell_type": "code",
   "execution_count": 25,
   "id": "ff9b9111-838c-445c-88d1-77873e1f37f9",
   "metadata": {},
   "outputs": [
    {
     "name": "stdout",
     "output_type": "stream",
     "text": [
      "+----------+----------+---------+--------+--------+\n",
      "|  location|min(price)|min(area)|min(bhk)|min(age)|\n",
      "+----------+----------+---------+--------+--------+\n",
      "|Royapettah|      83.0|      600|       1|       0|\n",
      "+----------+----------+---------+--------+--------+\n",
      "\n"
     ]
    }
   ],
   "source": [
    "df.groupBy(\"location\").min().filter(df[\"location\"] == \"Royapettah\").show()"
   ]
  },
  {
   "cell_type": "code",
   "execution_count": 26,
   "id": "f6ba0b7e-094c-4898-8ae9-820c1507d6b0",
   "metadata": {},
   "outputs": [
    {
     "name": "stdout",
     "output_type": "stream",
     "text": [
      "+----------+----------+---------+--------+--------+\n",
      "|  location|max(price)|max(area)|max(bhk)|max(age)|\n",
      "+----------+----------+---------+--------+--------+\n",
      "|Royapettah|    1422.0|     6617|       8|       6|\n",
      "+----------+----------+---------+--------+--------+\n",
      "\n"
     ]
    }
   ],
   "source": [
    "df.groupBy(\"location\").max().filter(df[\"location\"] == \"Royapettah\").show()"
   ]
  },
  {
   "cell_type": "code",
   "execution_count": 27,
   "id": "c7643dee-862d-485a-8763-66d66d34fe9b",
   "metadata": {},
   "outputs": [
    {
     "name": "stdout",
     "output_type": "stream",
     "text": [
      "+----------+-----+\n",
      "|  location|count|\n",
      "+----------+-----+\n",
      "|Royapettah|   24|\n",
      "+----------+-----+\n",
      "\n"
     ]
    }
   ],
   "source": [
    "df.groupBy(\"location\").count().filter(df[\"location\"] == \"Royapettah\").show()"
   ]
  },
  {
   "cell_type": "markdown",
   "id": "62a75d01-7070-438e-8014-70bcbe7e0ff4",
   "metadata": {},
   "source": [
    "# aggregate"
   ]
  },
  {
   "cell_type": "code",
   "execution_count": 28,
   "id": "5771162d-1f4e-42ca-a5e1-71d5676465f1",
   "metadata": {},
   "outputs": [
    {
     "name": "stdout",
     "output_type": "stream",
     "text": [
      "+------------------+\n",
      "|        sum(price)|\n",
      "+------------------+\n",
      "|245846.86999999944|\n",
      "+------------------+\n",
      "\n"
     ]
    }
   ],
   "source": [
    "df.agg({\"price\":\"sum\"}).show()"
   ]
  },
  {
   "cell_type": "markdown",
   "id": "3aa3d7dc-d47c-462d-888f-09c9735d1cea",
   "metadata": {},
   "source": [
    "# basic linear model"
   ]
  },
  {
   "cell_type": "code",
   "execution_count": 29,
   "id": "4b2b1b8c-6763-41eb-a651-283af921aa5f",
   "metadata": {},
   "outputs": [],
   "source": [
    "from pyspark.ml.regression import LinearRegression\n",
    "from pyspark.ml.feature import VectorAssembler"
   ]
  },
  {
   "cell_type": "code",
   "execution_count": 30,
   "id": "e7ed07a4-c9b2-4834-a5f0-b2156fbc31bc",
   "metadata": {},
   "outputs": [],
   "source": [
    "assemble = VectorAssembler(inputCols=[\"area\",\"bhk\",\"age\",],outputCol=\"inputcolumns\")"
   ]
  },
  {
   "cell_type": "code",
   "execution_count": 31,
   "id": "737afd75-005b-49bf-8706-dd7229f1fba2",
   "metadata": {},
   "outputs": [
    {
     "name": "stdout",
     "output_type": "stream",
     "text": [
      "+-----+----+------------------+---+---+----------+--------------------+----------------+\n",
      "|price|area|            status|bhk|age|  location|             builder|    inputcolumns|\n",
      "+-----+----+------------------+---+---+----------+--------------------+----------------+\n",
      "|37.49| 872|     Ready to move|  2|  1| Sembakkam|       MP Developers| [872.0,2.0,1.0]|\n",
      "|93.54|1346|Under Construction|  3|  1|  Selaiyur|       DAC Promoters|[1346.0,3.0,1.0]|\n",
      "|151.0|2225|Under Construction|  3|  0| Mogappair|Casagrand Builder...|[2225.0,3.0,0.0]|\n",
      "| 49.0|1028|     Ready to move|  2|  3|  Ambattur|Dugar Housing Bui...|[1028.0,2.0,3.0]|\n",
      "|42.28| 588|Under Construction|  2|  0|Pallavaram|Radiance Realty D...| [588.0,2.0,0.0]|\n",
      "+-----+----+------------------+---+---+----------+--------------------+----------------+\n",
      "only showing top 5 rows\n",
      "\n"
     ]
    }
   ],
   "source": [
    "output = assemble.transform(df)\n",
    "output.show(5)"
   ]
  },
  {
   "cell_type": "code",
   "execution_count": 32,
   "id": "c9b30481-8f9f-46ec-97ca-b828bdc64b75",
   "metadata": {},
   "outputs": [
    {
     "name": "stdout",
     "output_type": "stream",
     "text": [
      "+----------------+-----+\n",
      "|    inputcolumns|price|\n",
      "+----------------+-----+\n",
      "| [872.0,2.0,1.0]|37.49|\n",
      "|[1346.0,3.0,1.0]|93.54|\n",
      "|[2225.0,3.0,0.0]|151.0|\n",
      "|[1028.0,2.0,3.0]| 49.0|\n",
      "| [588.0,2.0,0.0]|42.28|\n",
      "+----------------+-----+\n",
      "only showing top 5 rows\n",
      "\n"
     ]
    }
   ],
   "source": [
    "final = output.select(\"inputcolumns\",\"price\")\n",
    "final.show(5)"
   ]
  },
  {
   "cell_type": "code",
   "execution_count": 33,
   "id": "e734289f-31f7-4ec5-8830-35ba0997a17f",
   "metadata": {},
   "outputs": [],
   "source": [
    "train_data,test_data = final.randomSplit([0.8,0.2])\n",
    "lr = LinearRegression(featuresCol=\"inputcolumns\",labelCol=\"price\")\n",
    "lr_model = lr.fit(train_data)"
   ]
  },
  {
   "cell_type": "code",
   "execution_count": 34,
   "id": "ebdf81a3-f737-451b-89d1-417b496efc50",
   "metadata": {},
   "outputs": [
    {
     "name": "stdout",
     "output_type": "stream",
     "text": [
      "Coefficients:  [0.14404618289920648,-9.600433650167268,-0.699471245918533]\n",
      "Intercept:  -66.22047119997866\n"
     ]
    }
   ],
   "source": [
    "print(\"Coefficients: \", lr_model.coefficients)\n",
    "print(\"Intercept: \", lr_model.intercept)"
   ]
  },
  {
   "cell_type": "code",
   "execution_count": 35,
   "id": "f6f437a4-ffe9-46dc-aac6-07d570b2cd5d",
   "metadata": {},
   "outputs": [
    {
     "name": "stdout",
     "output_type": "stream",
     "text": [
      "+---------------+-----+-------------------+\n",
      "|   inputcolumns|price|         prediction|\n",
      "+---------------+-----+-------------------+\n",
      "|[338.0,1.0,0.0]|15.04|-27.133295030214136|\n",
      "|[391.0,1.0,0.0]|12.83|-19.498847336556196|\n",
      "|[500.0,1.0,1.0]| 22.0|-4.4972846464612175|\n",
      "|[500.0,1.0,1.0]| 22.0|-4.4972846464612175|\n",
      "|[503.0,1.0,0.0]|23.13| -3.365674851845064|\n",
      "|[509.0,1.0,1.0]| 47.0| -3.200869000368364|\n",
      "|[510.0,1.0,0.0]|20.14|-2.3573515715506304|\n",
      "|[510.0,1.0,1.0]| 38.0| -3.056822817469161|\n",
      "|[520.0,1.0,3.0]|18.49|-3.0153034803141523|\n",
      "|[540.0,1.0,1.0]|23.22| 1.2645626695070291|\n",
      "|[550.0,1.0,3.0]| 16.5| 1.3060820066620522|\n",
      "|[571.0,2.0,1.0]| 26.0| -3.870439310784832|\n",
      "|[583.0,1.0,1.0]|25.06|  7.458548534172905|\n",
      "|[585.0,1.0,1.0]|47.07|  7.746640899971339|\n",
      "|[586.0,1.0,1.0]| 28.0|  7.890687082870528|\n",
      "|[586.0,1.0,1.0]| 28.0|  7.890687082870528|\n",
      "|[586.0,1.0,1.0]| 28.0|  7.890687082870528|\n",
      "|[586.0,1.0,1.0]| 28.0|  7.890687082870528|\n",
      "|[588.0,2.0,0.0]|42.28|-0.7221829555797825|\n",
      "|[588.0,2.0,0.0]|42.28|-0.7221829555797825|\n",
      "+---------------+-----+-------------------+\n",
      "only showing top 20 rows\n",
      "\n",
      "Root Mean Squared Error (RMSE): 68.22322244708708\n",
      "R^2 on test data: 68.25266445341857 %\n",
      "Mean Absolute Error (MAE): 39.086672005587445\n"
     ]
    }
   ],
   "source": [
    "test_results = lr_model.evaluate(test_data)\n",
    "\n",
    "test_results.predictions.show()\n",
    "print(\"Root Mean Squared Error (RMSE):\", test_results.rootMeanSquaredError)\n",
    "print(\"R^2 on test data:\", (test_results.r2)*100,\"%\")\n",
    "print(\"Mean Absolute Error (MAE):\", test_results.meanAbsoluteError)\n"
   ]
  },
  {
   "cell_type": "code",
   "execution_count": 36,
   "id": "99dd55dc-cca0-448f-ae37-dceb610ef7f4",
   "metadata": {},
   "outputs": [
    {
     "name": "stdout",
     "output_type": "stream",
     "text": [
      "+-------+------------------+------------------+------------------+------------------+------------------+-------------+------------+\n",
      "|summary|             price|              area|            status|               bhk|               age|     location|     builder|\n",
      "+-------+------------------+------------------+------------------+------------------+------------------+-------------+------------+\n",
      "|  count|              2620|              2620|              2620|              2620|              2620|         2620|        2620|\n",
      "|   mean| 93.83468320610666|1282.9251908396946|              NULL|2.4438931297709923| 1.234351145038168|         NULL|        NULL|\n",
      "| stddev|113.60934931337222| 692.5663187698266|              NULL|0.8119836251037046|1.7162285383748437|         NULL|        NULL|\n",
      "|    min|             12.83|               300|     Ready to move|                 1|                 0|    Adambakam|24K Realtors|\n",
      "|    max|            1422.0|              6700|Under Construction|                 8|                32|tambaram west|    viswaraj|\n",
      "+-------+------------------+------------------+------------------+------------------+------------------+-------------+------------+\n",
      "\n"
     ]
    }
   ],
   "source": [
    "df.describe().show()"
   ]
  },
  {
   "cell_type": "markdown",
   "id": "5272a948-ea39-47b9-8aca-34c1e1496ea2",
   "metadata": {},
   "source": [
    "# handling the catorgical value to numerical "
   ]
  },
  {
   "cell_type": "code",
   "execution_count": 37,
   "id": "29721e29-bc7b-4b83-aa3c-85de1de2d869",
   "metadata": {},
   "outputs": [],
   "source": [
    "from pyspark.ml.feature import StringIndexer"
   ]
  },
  {
   "cell_type": "code",
   "execution_count": 38,
   "id": "db3ee0c2-5c1a-408a-bc59-410103c466ca",
   "metadata": {},
   "outputs": [],
   "source": [
    "index = StringIndexer(inputCols=[\"status\",\"location\",\"builder\"],outputCols = [\"status_index\",\"location_index\",\"builder_index\"])"
   ]
  },
  {
   "cell_type": "code",
   "execution_count": 39,
   "id": "3e4ff103-db86-4227-8672-a377de37ca26",
   "metadata": {},
   "outputs": [],
   "source": [
    "df = index.fit(df).transform(df)"
   ]
  },
  {
   "cell_type": "code",
   "execution_count": 40,
   "id": "186d5a0a-841a-438e-82fc-4555a5558e7b",
   "metadata": {},
   "outputs": [
    {
     "name": "stdout",
     "output_type": "stream",
     "text": [
      "+-----+----+------------------+---+---+----------+--------------------+------------+--------------+-------------+\n",
      "|price|area|            status|bhk|age|  location|             builder|status_index|location_index|builder_index|\n",
      "+-----+----+------------------+---+---+----------+--------------------+------------+--------------+-------------+\n",
      "|37.49| 872|     Ready to move|  2|  1| Sembakkam|       MP Developers|         0.0|          10.0|         37.0|\n",
      "|93.54|1346|Under Construction|  3|  1|  Selaiyur|       DAC Promoters|         1.0|           5.0|          7.0|\n",
      "|151.0|2225|Under Construction|  3|  0| Mogappair|Casagrand Builder...|         1.0|          23.0|          6.0|\n",
      "| 49.0|1028|     Ready to move|  2|  3|  Ambattur|Dugar Housing Bui...|         0.0|          21.0|        102.0|\n",
      "|42.28| 588|Under Construction|  2|  0|Pallavaram|Radiance Realty D...|         1.0|          18.0|         18.0|\n",
      "+-----+----+------------------+---+---+----------+--------------------+------------+--------------+-------------+\n",
      "only showing top 5 rows\n",
      "\n"
     ]
    }
   ],
   "source": [
    "df.show(5)"
   ]
  },
  {
   "cell_type": "code",
   "execution_count": 41,
   "id": "ec9039b1-54ef-41c6-a658-15307f1e40de",
   "metadata": {},
   "outputs": [],
   "source": [
    "from pyspark.ml.feature import VectorAssembler\n",
    "from pyspark.ml.regression import LinearRegression"
   ]
  },
  {
   "cell_type": "code",
   "execution_count": 42,
   "id": "309abc09-cee9-467e-bfd9-31ab074f1262",
   "metadata": {},
   "outputs": [
    {
     "name": "stdout",
     "output_type": "stream",
     "text": [
      "+-----+----+------------------+---+---+----------+--------------------+------------+--------------+-------------+--------------------+\n",
      "|price|area|            status|bhk|age|  location|             builder|status_index|location_index|builder_index|    independent_cols|\n",
      "+-----+----+------------------+---+---+----------+--------------------+------------+--------------+-------------+--------------------+\n",
      "|37.49| 872|     Ready to move|  2|  1| Sembakkam|       MP Developers|         0.0|          10.0|         37.0|[872.0,0.0,2.0,1....|\n",
      "|93.54|1346|Under Construction|  3|  1|  Selaiyur|       DAC Promoters|         1.0|           5.0|          7.0|[1346.0,1.0,3.0,1...|\n",
      "|151.0|2225|Under Construction|  3|  0| Mogappair|Casagrand Builder...|         1.0|          23.0|          6.0|[2225.0,1.0,3.0,0...|\n",
      "| 49.0|1028|     Ready to move|  2|  3|  Ambattur|Dugar Housing Bui...|         0.0|          21.0|        102.0|[1028.0,0.0,2.0,3...|\n",
      "|42.28| 588|Under Construction|  2|  0|Pallavaram|Radiance Realty D...|         1.0|          18.0|         18.0|[588.0,1.0,2.0,0....|\n",
      "+-----+----+------------------+---+---+----------+--------------------+------------+--------------+-------------+--------------------+\n",
      "only showing top 5 rows\n",
      "\n"
     ]
    }
   ],
   "source": [
    "vec = VectorAssembler(inputCols=[\"area\",\"status_index\",\"bhk\",\"age\",\"builder_index\"],outputCol=\"independent_cols\")\n",
    "final = vec.transform(df)\n",
    "final.show(5)"
   ]
  },
  {
   "cell_type": "code",
   "execution_count": 43,
   "id": "885e2345-d59d-463e-919f-c39f2a4830f3",
   "metadata": {},
   "outputs": [
    {
     "name": "stdout",
     "output_type": "stream",
     "text": [
      "+--------------------+-----+\n",
      "|    independent_cols|price|\n",
      "+--------------------+-----+\n",
      "|[872.0,0.0,2.0,1....|37.49|\n",
      "|[1346.0,1.0,3.0,1...|93.54|\n",
      "|[2225.0,1.0,3.0,0...|151.0|\n",
      "|[1028.0,0.0,2.0,3...| 49.0|\n",
      "|[588.0,1.0,2.0,0....|42.28|\n",
      "+--------------------+-----+\n",
      "only showing top 5 rows\n",
      "\n"
     ]
    }
   ],
   "source": [
    "val = final.select(\"independent_cols\",\"price\")\n",
    "val.show(5)"
   ]
  },
  {
   "cell_type": "code",
   "execution_count": 44,
   "id": "65aa77e0-c042-470f-bb85-51e46425e2ce",
   "metadata": {},
   "outputs": [],
   "source": [
    "train_data,test_data = val.randomSplit([0.8,0.2])"
   ]
  },
  {
   "cell_type": "code",
   "execution_count": 45,
   "id": "c024ab75-08d3-4085-8b6d-591ded2d9e56",
   "metadata": {},
   "outputs": [],
   "source": [
    "model = LinearRegression(featuresCol=\"independent_cols\",labelCol=\"price\")\n",
    "model = model.fit(train_data)\n"
   ]
  },
  {
   "cell_type": "code",
   "execution_count": 46,
   "id": "e5025a13-ecf2-4141-906a-817b8c8c11b1",
   "metadata": {},
   "outputs": [
    {
     "data": {
      "text/plain": [
       "DenseVector([0.1429, -1.5352, -8.6181, -1.0508, 0.2153])"
      ]
     },
     "execution_count": 46,
     "metadata": {},
     "output_type": "execute_result"
    }
   ],
   "source": [
    "model.coefficients"
   ]
  },
  {
   "cell_type": "code",
   "execution_count": 47,
   "id": "4465e6a1-4ae7-4dab-b818-bd35d36461cc",
   "metadata": {},
   "outputs": [
    {
     "data": {
      "text/plain": [
       "-70.94115927315114"
      ]
     },
     "execution_count": 47,
     "metadata": {},
     "output_type": "execute_result"
    }
   ],
   "source": [
    "model.intercept"
   ]
  },
  {
   "cell_type": "code",
   "execution_count": 48,
   "id": "f94ff469-8942-4705-b19c-d1d5876ab20f",
   "metadata": {},
   "outputs": [],
   "source": [
    "pred = model.evaluate(test_data)"
   ]
  },
  {
   "cell_type": "code",
   "execution_count": 49,
   "id": "f0aa1fc8-e1f3-4ca8-9a01-9ffecd1e9009",
   "metadata": {},
   "outputs": [
    {
     "name": "stdout",
     "output_type": "stream",
     "text": [
      "+--------------------+-----+-------------------+\n",
      "|    independent_cols|price|         prediction|\n",
      "+--------------------+-----+-------------------+\n",
      "|[391.0,1.0,1.0,0....|12.83|-12.532976692439377|\n",
      "|[502.0,0.0,1.0,9....| 28.0| -17.30185924063867|\n",
      "|[504.0,1.0,1.0,0....| 19.9|-5.0029494490201785|\n",
      "|[506.0,0.0,2.0,1....| 29.0|-16.942042381142976|\n",
      "|[518.0,0.0,1.0,1....|22.27| 1.3572607464083006|\n",
      "|[541.0,0.0,1.0,1....|23.26| 1.1978277827664812|\n",
      "|[546.0,0.0,1.0,1....|23.47| 1.9121169406515008|\n",
      "|[550.0,0.0,1.0,1....| 52.5|-2.0382282885511955|\n",
      "|[550.0,0.0,1.0,3....| 16.5|0.16661181474214004|\n",
      "|[583.0,0.0,1.0,1....|25.06|  7.197856709000675|\n",
      "|[586.0,0.0,1.0,1....| 28.0| 3.1046536482209746|\n",
      "|[586.0,0.0,1.0,1....| 28.0| 3.1046536482209746|\n",
      "|[586.0,0.0,1.0,1....| 28.0| 3.1046536482209746|\n",
      "|[588.0,1.0,2.0,0....|42.28| -4.850801496548769|\n",
      "|[591.0,0.0,2.0,2....| 42.0| -4.773320111048719|\n",
      "|[594.0,0.0,1.0,3....| 23.0|  4.083806779815205|\n",
      "|[598.0,0.0,2.0,2....|35.58|  8.500078217805097|\n",
      "|[598.0,1.0,1.0,0....|51.37|  12.51681788848984|\n",
      "|[599.0,0.0,1.0,3....| 18.0|  4.798095937700225|\n",
      "|[600.0,0.0,2.0,3....| 22.8|-1.3085661096112347|\n",
      "+--------------------+-----+-------------------+\n",
      "only showing top 20 rows\n",
      "\n"
     ]
    }
   ],
   "source": [
    "pred.predictions.show()"
   ]
  },
  {
   "cell_type": "code",
   "execution_count": 50,
   "id": "d77278f5-3581-4d01-83cb-0c2b305c42ed",
   "metadata": {},
   "outputs": [
    {
     "name": "stdout",
     "output_type": "stream",
     "text": [
      "Root Mean Squared Error (RMSE): 59.21240307526873\n",
      "R^2 on test data: 67.52222259585268 %\n",
      "Mean Absolute Error (MAE): 37.437968723738344\n"
     ]
    }
   ],
   "source": [
    "\n",
    "print(\"Root Mean Squared Error (RMSE):\", pred.rootMeanSquaredError)\n",
    "print(\"R^2 on test data:\", (pred.r2)*100,\"%\")\n",
    "print(\"Mean Absolute Error (MAE):\", pred.meanAbsoluteError)\n"
   ]
  },
  {
   "cell_type": "code",
   "execution_count": 51,
   "id": "863f40c4-bd7d-4f29-a2d6-0839f3cbf06f",
   "metadata": {},
   "outputs": [
    {
     "name": "stdout",
     "output_type": "stream",
     "text": [
      "+--------------------+-----+-------------------+------------------+\n",
      "|    independent_cols|price|         prediction|         residuals|\n",
      "+--------------------+-----+-------------------+------------------+\n",
      "|[391.0,1.0,1.0,0....|12.83|-12.532976692439377|25.362976692439375|\n",
      "|[502.0,0.0,1.0,9....| 28.0| -17.30185924063867| 45.30185924063867|\n",
      "|[504.0,1.0,1.0,0....| 19.9|-5.0029494490201785|24.902949449020177|\n",
      "|[506.0,0.0,2.0,1....| 29.0|-16.942042381142976|45.942042381142976|\n",
      "|[518.0,0.0,1.0,1....|22.27| 1.3572607464083006|  20.9127392535917|\n",
      "|[541.0,0.0,1.0,1....|23.26| 1.1978277827664812| 22.06217221723352|\n",
      "|[546.0,0.0,1.0,1....|23.47| 1.9121169406515008|21.557883059348498|\n",
      "|[550.0,0.0,1.0,1....| 52.5|-2.0382282885511955|54.538228288551196|\n",
      "|[550.0,0.0,1.0,3....| 16.5|0.16661181474214004| 16.33338818525786|\n",
      "|[583.0,0.0,1.0,1....|25.06|  7.197856709000675|17.862143290999324|\n",
      "|[586.0,0.0,1.0,1....| 28.0| 3.1046536482209746|24.895346351779025|\n",
      "|[586.0,0.0,1.0,1....| 28.0| 3.1046536482209746|24.895346351779025|\n",
      "|[586.0,0.0,1.0,1....| 28.0| 3.1046536482209746|24.895346351779025|\n",
      "|[588.0,1.0,2.0,0....|42.28| -4.850801496548769| 47.13080149654877|\n",
      "|[591.0,0.0,2.0,2....| 42.0| -4.773320111048719| 46.77332011104872|\n",
      "|[594.0,0.0,1.0,3....| 23.0|  4.083806779815205|18.916193220184795|\n",
      "|[598.0,0.0,2.0,2....|35.58|  8.500078217805097|  27.0799217821949|\n",
      "|[598.0,1.0,1.0,0....|51.37|  12.51681788848984| 38.85318211151016|\n",
      "|[599.0,0.0,1.0,3....| 18.0|  4.798095937700225|13.201904062299775|\n",
      "|[600.0,0.0,2.0,3....| 22.8|-1.3085661096112347|24.108566109611235|\n",
      "+--------------------+-----+-------------------+------------------+\n",
      "only showing top 20 rows\n",
      "\n"
     ]
    }
   ],
   "source": [
    "residuals = pred.predictions.withColumn(\"residuals\", pred.predictions[\"price\"] - pred.predictions[\"prediction\"])\n",
    "residuals.select(\"independent_cols\", \"price\", \"prediction\", \"residuals\").show()\n"
   ]
  },
  {
   "cell_type": "markdown",
   "id": "956dc5ee-2f6d-4bb6-8983-ca47a57db1ca",
   "metadata": {},
   "source": [
    "# changing into pandas and displaying the chart"
   ]
  },
  {
   "cell_type": "code",
   "execution_count": 52,
   "id": "84b55ffa-e873-4665-bdaa-11ad4475230b",
   "metadata": {},
   "outputs": [
    {
     "data": {
      "image/png": "[encoded data removed]",
      "text/plain": [
       "<Figure size 1000x600 with 1 Axes>"
      ]
     },
     "metadata": {},
     "output_type": "display_data"
    }
   ],
   "source": [
    "import matplotlib.pyplot as plt\n",
    "import seaborn as sns\n",
    "import pandas as pd\n",
    "\n",
    "# Convert Spark DataFrame to Pandas DataFrame\n",
    "predictions_pd = pred.predictions.select(\"price\", \"prediction\").toPandas()\n",
    "\n",
    "# Calculate residuals\n",
    "predictions_pd['residuals'] = predictions_pd['price'] - predictions_pd['prediction']\n",
    "\n",
    "# Plot residuals vs. actual price\n",
    "plt.figure(figsize=(10, 6))\n",
    "sns.scatterplot(x='price', y='residuals', data=predictions_pd)\n",
    "plt.axhline(y=0, color='r', linestyle='--')\n",
    "plt.title('Residuals vs Actual Prices')\n",
    "plt.xlabel('Actual Prices')\n",
    "plt.ylabel('Residuals')\n",
    "plt.show()\n"
   ]
  },
  {
   "cell_type": "markdown",
   "id": "484c8d78-ab0e-43a4-8fe9-633dddb1a8fc",
   "metadata": {},
   "source": [
    "# removing outlier in pandas and convert into spark"
   ]
  },
  {
   "cell_type": "code",
   "execution_count": 53,
   "id": "7b99aa1e-bb4b-4d9e-8394-7b4854a6bcc0",
   "metadata": {},
   "outputs": [],
   "source": [
    "import seaborn as sns\n",
    "import numpy as np\n",
    "df = pd.read_csv(\"Chennai house data.csv\")\n"
   ]
  },
  {
   "cell_type": "code",
   "execution_count": 54,
   "id": "d145ff6d-0d74-4fac-9b58-d346e0042b0b",
   "metadata": {},
   "outputs": [
    {
     "name": "stdout",
     "output_type": "stream",
     "text": [
      "<class 'pandas.core.frame.DataFrame'>\n",
      "RangeIndex: 2620 entries, 0 to 2619\n",
      "Data columns (total 8 columns):\n",
      " #   Column    Non-Null Count  Dtype  \n",
      "---  ------    --------------  -----  \n",
      " 0   price     2620 non-null   float64\n",
      " 1   area      2620 non-null   int64  \n",
      " 2   status    2620 non-null   object \n",
      " 3   bhk       2620 non-null   int64  \n",
      " 4   bathroom  1403 non-null   float64\n",
      " 5   age       1729 non-null   float64\n",
      " 6   location  2620 non-null   object \n",
      " 7   builder   2620 non-null   object \n",
      "dtypes: float64(3), int64(2), object(3)\n",
      "memory usage: 163.9+ KB\n"
     ]
    }
   ],
   "source": [
    "df.info()"
   ]
  },
  {
   "cell_type": "code",
   "execution_count": 55,
   "id": "2e99d939-1497-4dbf-9fc7-d28da1132c44",
   "metadata": {},
   "outputs": [],
   "source": [
    "df = df.drop(columns = \"bathroom\")"
   ]
  },
  {
   "cell_type": "code",
   "execution_count": 56,
   "id": "4eb8c85c-6285-4c99-a879-83629116b512",
   "metadata": {},
   "outputs": [],
   "source": [
    "df[\"age\"].fillna((df[\"age\"].median()),inplace = True)"
   ]
  },
  {
   "cell_type": "code",
   "execution_count": 57,
   "id": "f7af89cf-c389-4964-98ba-eb8c23ce8945",
   "metadata": {},
   "outputs": [
    {
     "name": "stdout",
     "output_type": "stream",
     "text": [
      "<class 'pandas.core.frame.DataFrame'>\n",
      "RangeIndex: 2620 entries, 0 to 2619\n",
      "Data columns (total 7 columns):\n",
      " #   Column    Non-Null Count  Dtype  \n",
      "---  ------    --------------  -----  \n",
      " 0   price     2620 non-null   float64\n",
      " 1   area      2620 non-null   int64  \n",
      " 2   status    2620 non-null   object \n",
      " 3   bhk       2620 non-null   int64  \n",
      " 4   age       2620 non-null   float64\n",
      " 5   location  2620 non-null   object \n",
      " 6   builder   2620 non-null   object \n",
      "dtypes: float64(2), int64(2), object(3)\n",
      "memory usage: 143.4+ KB\n"
     ]
    }
   ],
   "source": [
    "df.info()"
   ]
  },
  {
   "cell_type": "code",
   "execution_count": 58,
   "id": "f324a37e-90ee-4f9c-9d7a-7ea01e4f92e9",
   "metadata": {},
   "outputs": [
    {
     "name": "stdout",
     "output_type": "stream",
     "text": [
      "42.0 90.0 48.0\n",
      "-30.0 162.0\n"
     ]
    }
   ],
   "source": [
    "Q1 = df['price'].quantile(0.25)\n",
    "Q3 = df['price'].quantile(0.75)\n",
    "IQR = Q3 - Q1\n",
    "print(Q1,Q3,IQR)\n",
    "# Define bounds\n",
    "lbound = Q1 - 1.5 * IQR\n",
    "ubound = Q3 + 1.5 * IQR\n",
    "print(lbound,ubound)\n",
    "# Replace outliers with the respective bounds\n",
    "df['price'] = np.where(df['price'] > ubound, ubound,np.where(df['price'] < lbound, lbound, df['price']))\n"
   ]
  },
  {
   "cell_type": "code",
   "execution_count": 59,
   "id": "5b0cdc9f-2e6f-4a21-90cc-900d3389d941",
   "metadata": {},
   "outputs": [
    {
     "data": {
      "text/plain": [
       "<Axes: >"
      ]
     },
     "execution_count": 59,
     "metadata": {},
     "output_type": "execute_result"
    },
    {
     "data": {
      "image/png": "[encoded data removed]",
      "text/plain": [
       "<Figure size 640x480 with 1 Axes>"
      ]
     },
     "metadata": {},
     "output_type": "display_data"
    }
   ],
   "source": [
    "sns.boxplot(df['price'])"
   ]
  },
  {
   "cell_type": "code",
   "execution_count": 60,
   "id": "c3b6f825-7d40-4fe0-b244-783c34862386",
   "metadata": {},
   "outputs": [
    {
     "name": "stdout",
     "output_type": "stream",
     "text": [
      "877.0 1471.25 594.25\n",
      "-14.375 2362.625\n"
     ]
    }
   ],
   "source": [
    "Q1 = df['area'].quantile(0.25)\n",
    "Q3 = df['area'].quantile(0.75)\n",
    "IQR = Q3 - Q1\n",
    "print(Q1,Q3,IQR)\n",
    "# Define bounds\n",
    "lbound = Q1 - 1.5 * IQR\n",
    "ubound = Q3 + 1.5 * IQR\n",
    "print(lbound,ubound)\n",
    "# Replace outliers with the respective bounds\n",
    "df['area'] = np.where(df['area'] > ubound, ubound, \n",
    "                        np.where(df['area'] < lbound, lbound, df['area']))\n"
   ]
  },
  {
   "cell_type": "code",
   "execution_count": 61,
   "id": "41f32da9-4e55-40fc-875e-89d233d8693e",
   "metadata": {},
   "outputs": [
    {
     "data": {
      "text/plain": [
       "<Axes: >"
      ]
     },
     "execution_count": 61,
     "metadata": {},
     "output_type": "execute_result"
    },
    {
     "data": {
      "image/png": "[encoded data removed]",
      "text/plain": [
       "<Figure size 640x480 with 1 Axes>"
      ]
     },
     "metadata": {},
     "output_type": "display_data"
    }
   ],
   "source": [
    "sns.boxplot(df['area'])"
   ]
  },
  {
   "cell_type": "code",
   "execution_count": 62,
   "id": "bb06d23b-0804-4c52-a20b-c34132b90d02",
   "metadata": {},
   "outputs": [
    {
     "name": "stdout",
     "output_type": "stream",
     "text": [
      "2.0 3.0 1.0\n",
      "0.5 4.5\n"
     ]
    }
   ],
   "source": [
    "Q1 = df['bhk'].quantile(0.25)\n",
    "Q3 = df['bhk'].quantile(0.75)\n",
    "IQR = Q3 - Q1\n",
    "print(Q1,Q3,IQR)\n",
    "# Define bounds\n",
    "lbound = Q1 - 1.5 * IQR\n",
    "ubound = Q3 + 1.5 * IQR\n",
    "print(lbound,ubound)\n",
    "# Replace outliers with the respective bounds\n",
    "df['bhk'] = np.where(df['bhk'] > ubound, ubound, \n",
    "                        np.where(df['bhk'] < lbound, lbound, df['bhk']))\n"
   ]
  },
  {
   "cell_type": "code",
   "execution_count": 63,
   "id": "ec6c8fb0-ceb9-49d5-ba3f-51f9ce200ad9",
   "metadata": {},
   "outputs": [
    {
     "data": {
      "text/plain": [
       "<Axes: >"
      ]
     },
     "execution_count": 63,
     "metadata": {},
     "output_type": "execute_result"
    },
    {
     "data": {
      "image/png": "[encoded data removed]",
      "text/plain": [
       "<Figure size 640x480 with 1 Axes>"
      ]
     },
     "metadata": {},
     "output_type": "display_data"
    }
   ],
   "source": [
    "sns.boxplot(df[\"bhk\"])"
   ]
  },
  {
   "cell_type": "code",
   "execution_count": 64,
   "id": "fec351c9-ed99-4217-b061-4715f2c87478",
   "metadata": {},
   "outputs": [
    {
     "name": "stdout",
     "output_type": "stream",
     "text": [
      "<class 'pandas.core.frame.DataFrame'>\n",
      "RangeIndex: 2620 entries, 0 to 2619\n",
      "Data columns (total 7 columns):\n",
      " #   Column    Non-Null Count  Dtype  \n",
      "---  ------    --------------  -----  \n",
      " 0   price     2620 non-null   float64\n",
      " 1   area      2620 non-null   float64\n",
      " 2   status    2620 non-null   object \n",
      " 3   bhk       2620 non-null   float64\n",
      " 4   age       2620 non-null   float64\n",
      " 5   location  2620 non-null   object \n",
      " 6   builder   2620 non-null   object \n",
      "dtypes: float64(4), object(3)\n",
      "memory usage: 143.4+ KB\n"
     ]
    }
   ],
   "source": [
    "df.info()"
   ]
  },
  {
   "cell_type": "code",
   "execution_count": 68,
   "id": "eca6dd4a-ad06-418c-b111-06dc7c6c6fc5",
   "metadata": {},
   "outputs": [],
   "source": [
    "df.to_csv(\"filtered_chennai_housing_dataset\")"
   ]
  },
  {
   "cell_type": "markdown",
   "id": "88c0e12d-cec5-49d8-9201-dc0b705c0a50",
   "metadata": {},
   "source": [
    "# converting into pandas to spark"
   ]
  },
  {
   "cell_type": "code",
   "execution_count": 71,
   "id": "5b7463de-93e3-4566-bad5-bbe730d08088",
   "metadata": {},
   "outputs": [],
   "source": [
    "from pyspark.sql import SparkSession\n",
    "\n",
    "# Initialize Spark session\n",
    "spark = SparkSession.builder \\\n",
    "    .appName(\"p1\") \\\n",
    "    .getOrCreate()\n",
    "# Convert Pandas DataFrame to PySpark DataFrame\n",
    "df_spark = spark.read.csv(\"filtered_chennai_housing_dataset\",header = True, inferSchema= True)\n"
   ]
  },
  {
   "cell_type": "code",
   "execution_count": 72,
   "id": "5e734648-1d67-4d69-ba79-5657b458f0e8",
   "metadata": {},
   "outputs": [
    {
     "name": "stdout",
     "output_type": "stream",
     "text": [
      "+---+-----+------+------------------+---+---+--------------+--------------------+\n",
      "|sno|price|  area|            status|bhk|age|      location|             builder|\n",
      "+---+-----+------+------------------+---+---+--------------+--------------------+\n",
      "|  0|37.49| 872.0|     Ready to move|2.0|1.0|     Sembakkam|       MP Developers|\n",
      "|  1|93.54|1346.0|Under Construction|3.0|0.0|      Selaiyur|       DAC Promoters|\n",
      "|  2|151.0|2225.0|Under Construction|3.0|0.0|     Mogappair|Casagrand Builder...|\n",
      "|  3| 49.0|1028.0|     Ready to move|2.0|3.0|      Ambattur|Dugar Housing Bui...|\n",
      "|  4|42.28| 588.0|Under Construction|2.0|0.0|    Pallavaram|Radiance Realty D...|\n",
      "|  5|162.0|2221.0|Under Construction|3.0|0.0| Virugambakkam|Traventure Homes ...|\n",
      "|  6| 38.0| 885.0|Under Construction|3.0|0.0| Thirumazhisai|           Urbanrise|\n",
      "|  7|72.99| 936.0|     Ready to move|3.0|6.0|    Moolakadai|Navin Housing Pro...|\n",
      "|  8|125.0|2275.0|     Ready to move|4.0|1.0| Ottiyambakkam|Jones foundation ...|\n",
      "|  9|24.56| 622.0|Under Construction|2.0|0.0| Perungalathur|          Isha Homes|\n",
      "| 10|67.87|1305.0|Under Construction|3.0|0.0| Gerugambakkam|Kochar Homes Pvt Ltd|\n",
      "| 11|162.0|1500.0|     Ready to move|3.0|1.0|    Anna Nagar|Pushkar Propertie...|\n",
      "| 12|162.0|2200.0|Under Construction|3.0|0.0|   Gopalapuram|Pushkar Propertie...|\n",
      "| 13|51.46| 919.0|Under Construction|2.0|0.0|        Pammal|    Asset Tree Homes|\n",
      "| 14|69.47| 965.0|Under Construction|2.0|0.0|         Porur|Urban Tree Infras...|\n",
      "| 15|113.0|2343.0|     Ready to move|4.0|5.0|      Navallur|       Olympia Group|\n",
      "| 16| 18.0| 353.0|Under Construction|1.0|0.0| Thirumazhisai|Vijay Raja Homes ...|\n",
      "| 17|162.0|1450.0|Under Construction|3.0|0.0|    Anna Nagar|Kamalam Builder P...|\n",
      "| 18|100.0|1833.0|     Ready to move|3.0|0.0|Sholinganallur|Appaswamy Real Es...|\n",
      "| 19|45.99| 920.0|Under Construction|2.0|0.0|     Vanagaram|           VNR Homes|\n",
      "+---+-----+------+------------------+---+---+--------------+--------------------+\n",
      "only showing top 20 rows\n",
      "\n"
     ]
    }
   ],
   "source": [
    "df_spark.show()\n"
   ]
  },
  {
   "cell_type": "code",
   "execution_count": 73,
   "id": "df76a59a-c00e-4eec-968d-3a47d4119798",
   "metadata": {},
   "outputs": [],
   "source": [
    "from pyspark.ml.feature import VectorAssembler,StringIndexer\n",
    "from pyspark.ml.regression import LinearRegression"
   ]
  },
  {
   "cell_type": "code",
   "execution_count": 74,
   "id": "46a8fcb2-521e-43e0-a1ad-0821fed7e1c8",
   "metadata": {},
   "outputs": [],
   "source": [
    "Stringed  = StringIndexer(inputCols=[\"status\",\"location\",\"builder\"],outputCols=[\"status_filtered\",\"location_filtered\",\"builder_filtered\"])"
   ]
  },
  {
   "cell_type": "code",
   "execution_count": 75,
   "id": "549b4e65-04da-4d8d-aadd-5535ebf97d84",
   "metadata": {},
   "outputs": [],
   "source": [
    "df_value = Stringed.fit(df_spark).transform(df_spark)"
   ]
  },
  {
   "cell_type": "code",
   "execution_count": 76,
   "id": "a3a21c88-100f-4d46-9d57-4a3cc1b738db",
   "metadata": {},
   "outputs": [
    {
     "name": "stdout",
     "output_type": "stream",
     "text": [
      "+---+-----+------+------------------+---+---+--------------+--------------------+---------------+-----------------+----------------+\n",
      "|sno|price|  area|            status|bhk|age|      location|             builder|status_filtered|location_filtered|builder_filtered|\n",
      "+---+-----+------+------------------+---+---+--------------+--------------------+---------------+-----------------+----------------+\n",
      "|  0|37.49| 872.0|     Ready to move|2.0|1.0|     Sembakkam|       MP Developers|            0.0|             10.0|            37.0|\n",
      "|  1|93.54|1346.0|Under Construction|3.0|0.0|      Selaiyur|       DAC Promoters|            1.0|              5.0|             7.0|\n",
      "|  2|151.0|2225.0|Under Construction|3.0|0.0|     Mogappair|Casagrand Builder...|            1.0|             23.0|             6.0|\n",
      "|  3| 49.0|1028.0|     Ready to move|2.0|3.0|      Ambattur|Dugar Housing Bui...|            0.0|             21.0|           102.0|\n",
      "|  4|42.28| 588.0|Under Construction|2.0|0.0|    Pallavaram|Radiance Realty D...|            1.0|             18.0|            18.0|\n",
      "|  5|162.0|2221.0|Under Construction|3.0|0.0| Virugambakkam|Traventure Homes ...|            1.0|             73.0|            98.0|\n",
      "|  6| 38.0| 885.0|Under Construction|3.0|0.0| Thirumazhisai|           Urbanrise|            1.0|             48.0|           111.0|\n",
      "|  7|72.99| 936.0|     Ready to move|3.0|6.0|    Moolakadai|Navin Housing Pro...|            0.0|            101.0|            62.0|\n",
      "|  8|125.0|2275.0|     Ready to move|4.0|1.0| Ottiyambakkam|Jones foundation ...|            0.0|             72.0|            72.0|\n",
      "|  9|24.56| 622.0|Under Construction|2.0|0.0| Perungalathur|          Isha Homes|            1.0|             11.0|            19.0|\n",
      "| 10|67.87|1305.0|Under Construction|3.0|0.0| Gerugambakkam|Kochar Homes Pvt Ltd|            1.0|             45.0|            90.0|\n",
      "| 11|162.0|1500.0|     Ready to move|3.0|1.0|    Anna Nagar|Pushkar Propertie...|            0.0|             28.0|            81.0|\n",
      "| 12|162.0|2200.0|Under Construction|3.0|0.0|   Gopalapuram|Pushkar Propertie...|            1.0|            122.0|            81.0|\n",
      "| 13|51.46| 919.0|Under Construction|2.0|0.0|        Pammal|    Asset Tree Homes|            1.0|              1.0|            15.0|\n",
      "| 14|69.47| 965.0|Under Construction|2.0|0.0|         Porur|Urban Tree Infras...|            1.0|             19.0|            54.0|\n",
      "| 15|113.0|2343.0|     Ready to move|4.0|5.0|      Navallur|       Olympia Group|            0.0|             47.0|            43.0|\n",
      "| 16| 18.0| 353.0|Under Construction|1.0|0.0| Thirumazhisai|Vijay Raja Homes ...|            1.0|             48.0|            82.0|\n",
      "| 17|162.0|1450.0|Under Construction|3.0|0.0|    Anna Nagar|Kamalam Builder P...|            1.0|             28.0|           103.0|\n",
      "| 18|100.0|1833.0|     Ready to move|3.0|0.0|Sholinganallur|Appaswamy Real Es...|            0.0|              3.0|             2.0|\n",
      "| 19|45.99| 920.0|Under Construction|2.0|0.0|     Vanagaram|           VNR Homes|            1.0|             22.0|            47.0|\n",
      "+---+-----+------+------------------+---+---+--------------+--------------------+---------------+-----------------+----------------+\n",
      "only showing top 20 rows\n",
      "\n"
     ]
    }
   ],
   "source": [
    "df_value.show()"
   ]
  },
  {
   "cell_type": "code",
   "execution_count": 79,
   "id": "7f939fe2-d6ca-4f2a-9e5f-43c01090281f",
   "metadata": {},
   "outputs": [],
   "source": [
    "df_modify = VectorAssembler(inputCols=[\"area\",\"bhk\",\"age\",\"status_filtered\",\"location_filtered\",\"builder_filtered\"],outputCol=\"independent_cols\")"
   ]
  },
  {
   "cell_type": "code",
   "execution_count": 82,
   "id": "e35f9bd4-6466-4d80-a189-64fbb081d365",
   "metadata": {},
   "outputs": [
    {
     "name": "stdout",
     "output_type": "stream",
     "text": [
      "+---+-----+------+------------------+---+---+--------------+--------------------+---------------+-----------------+----------------+--------------------+\n",
      "|sno|price|  area|            status|bhk|age|      location|             builder|status_filtered|location_filtered|builder_filtered|    independent_cols|\n",
      "+---+-----+------+------------------+---+---+--------------+--------------------+---------------+-----------------+----------------+--------------------+\n",
      "|  0|37.49| 872.0|     Ready to move|2.0|1.0|     Sembakkam|       MP Developers|            0.0|             10.0|            37.0|[872.0,2.0,1.0,0....|\n",
      "|  1|93.54|1346.0|Under Construction|3.0|0.0|      Selaiyur|       DAC Promoters|            1.0|              5.0|             7.0|[1346.0,3.0,0.0,1...|\n",
      "|  2|151.0|2225.0|Under Construction|3.0|0.0|     Mogappair|Casagrand Builder...|            1.0|             23.0|             6.0|[2225.0,3.0,0.0,1...|\n",
      "|  3| 49.0|1028.0|     Ready to move|2.0|3.0|      Ambattur|Dugar Housing Bui...|            0.0|             21.0|           102.0|[1028.0,2.0,3.0,0...|\n",
      "|  4|42.28| 588.0|Under Construction|2.0|0.0|    Pallavaram|Radiance Realty D...|            1.0|             18.0|            18.0|[588.0,2.0,0.0,1....|\n",
      "|  5|162.0|2221.0|Under Construction|3.0|0.0| Virugambakkam|Traventure Homes ...|            1.0|             73.0|            98.0|[2221.0,3.0,0.0,1...|\n",
      "|  6| 38.0| 885.0|Under Construction|3.0|0.0| Thirumazhisai|           Urbanrise|            1.0|             48.0|           111.0|[885.0,3.0,0.0,1....|\n",
      "|  7|72.99| 936.0|     Ready to move|3.0|6.0|    Moolakadai|Navin Housing Pro...|            0.0|            101.0|            62.0|[936.0,3.0,6.0,0....|\n",
      "|  8|125.0|2275.0|     Ready to move|4.0|1.0| Ottiyambakkam|Jones foundation ...|            0.0|             72.0|            72.0|[2275.0,4.0,1.0,0...|\n",
      "|  9|24.56| 622.0|Under Construction|2.0|0.0| Perungalathur|          Isha Homes|            1.0|             11.0|            19.0|[622.0,2.0,0.0,1....|\n",
      "| 10|67.87|1305.0|Under Construction|3.0|0.0| Gerugambakkam|Kochar Homes Pvt Ltd|            1.0|             45.0|            90.0|[1305.0,3.0,0.0,1...|\n",
      "| 11|162.0|1500.0|     Ready to move|3.0|1.0|    Anna Nagar|Pushkar Propertie...|            0.0|             28.0|            81.0|[1500.0,3.0,1.0,0...|\n",
      "| 12|162.0|2200.0|Under Construction|3.0|0.0|   Gopalapuram|Pushkar Propertie...|            1.0|            122.0|            81.0|[2200.0,3.0,0.0,1...|\n",
      "| 13|51.46| 919.0|Under Construction|2.0|0.0|        Pammal|    Asset Tree Homes|            1.0|              1.0|            15.0|[919.0,2.0,0.0,1....|\n",
      "| 14|69.47| 965.0|Under Construction|2.0|0.0|         Porur|Urban Tree Infras...|            1.0|             19.0|            54.0|[965.0,2.0,0.0,1....|\n",
      "| 15|113.0|2343.0|     Ready to move|4.0|5.0|      Navallur|       Olympia Group|            0.0|             47.0|            43.0|[2343.0,4.0,5.0,0...|\n",
      "| 16| 18.0| 353.0|Under Construction|1.0|0.0| Thirumazhisai|Vijay Raja Homes ...|            1.0|             48.0|            82.0|[353.0,1.0,0.0,1....|\n",
      "| 17|162.0|1450.0|Under Construction|3.0|0.0|    Anna Nagar|Kamalam Builder P...|            1.0|             28.0|           103.0|[1450.0,3.0,0.0,1...|\n",
      "| 18|100.0|1833.0|     Ready to move|3.0|0.0|Sholinganallur|Appaswamy Real Es...|            0.0|              3.0|             2.0|[1833.0,3.0,0.0,0...|\n",
      "| 19|45.99| 920.0|Under Construction|2.0|0.0|     Vanagaram|           VNR Homes|            1.0|             22.0|            47.0|[920.0,2.0,0.0,1....|\n",
      "+---+-----+------+------------------+---+---+--------------+--------------------+---------------+-----------------+----------------+--------------------+\n",
      "only showing top 20 rows\n",
      "\n"
     ]
    }
   ],
   "source": [
    "final = df_modify.transform(df_value)\n",
    "final.show()"
   ]
  },
  {
   "cell_type": "code",
   "execution_count": 83,
   "id": "05eb085a-f2a7-4c9d-ba5e-a32502877f1b",
   "metadata": {},
   "outputs": [
    {
     "name": "stdout",
     "output_type": "stream",
     "text": [
      "+--------------------+-----+\n",
      "|    independent_cols|price|\n",
      "+--------------------+-----+\n",
      "|[872.0,2.0,1.0,0....|37.49|\n",
      "|[1346.0,3.0,0.0,1...|93.54|\n",
      "|[2225.0,3.0,0.0,1...|151.0|\n",
      "|[1028.0,2.0,3.0,0...| 49.0|\n",
      "|[588.0,2.0,0.0,1....|42.28|\n",
      "+--------------------+-----+\n",
      "only showing top 5 rows\n",
      "\n"
     ]
    }
   ],
   "source": [
    "final1 = final.select(\"independent_cols\",\"price\")\n",
    "final1.show(5)"
   ]
  },
  {
   "cell_type": "code",
   "execution_count": 84,
   "id": "8c6a6995-cdb4-42e5-97ed-614d31718d5e",
   "metadata": {},
   "outputs": [],
   "source": [
    "train_data,test_data = final1.randomSplit([0.8,0.2])"
   ]
  },
  {
   "cell_type": "code",
   "execution_count": 85,
   "id": "cd9ca7d6-2a0c-4f33-8e27-fd47bf3cba79",
   "metadata": {},
   "outputs": [],
   "source": [
    "model = LinearRegression(featuresCol=\"independent_cols\",labelCol=\"price\")\n",
    "model = model.fit(train_data)"
   ]
  },
  {
   "cell_type": "code",
   "execution_count": 86,
   "id": "0892aba9-3e0b-496f-b6f1-6ca9cd45daf7",
   "metadata": {},
   "outputs": [
    {
     "data": {
      "text/plain": [
       "DenseVector([0.0718, 1.4667, -0.1504, 4.1258, 0.1083, 0.0442])"
      ]
     },
     "execution_count": 86,
     "metadata": {},
     "output_type": "execute_result"
    }
   ],
   "source": [
    "model.coefficients"
   ]
  },
  {
   "cell_type": "code",
   "execution_count": 87,
   "id": "49c37cb3-6727-41e4-b386-82690328d04a",
   "metadata": {},
   "outputs": [
    {
     "data": {
      "text/plain": [
       "-23.966273334249887"
      ]
     },
     "execution_count": 87,
     "metadata": {},
     "output_type": "execute_result"
    }
   ],
   "source": [
    "model.intercept"
   ]
  },
  {
   "cell_type": "code",
   "execution_count": 88,
   "id": "49c698f2-3089-4800-a7d9-bfc468e65473",
   "metadata": {},
   "outputs": [
    {
     "name": "stdout",
     "output_type": "stream",
     "text": [
      "+--------------------+-----+------------------+\n",
      "|    independent_cols|price|        prediction|\n",
      "+--------------------+-----+------------------+\n",
      "|[353.0,1.0,0.0,1....| 18.0| 15.78860171786776|\n",
      "|[391.0,1.0,0.0,1....|12.83| 18.79971636651018|\n",
      "|[447.0,1.0,0.0,1....|20.56|24.632069848107722|\n",
      "|[500.0,1.0,0.0,0....| 25.0| 14.19735159435675|\n",
      "|[510.0,1.0,0.0,0....| 38.0|15.520748438620036|\n",
      "|[510.0,1.0,2.0,0....|19.38|14.209932383846851|\n",
      "|[518.0,1.0,1.0,0....|22.27| 17.25466049582945|\n",
      "|[528.0,2.0,1.0,0....|29.62| 17.44849131159661|\n",
      "|[538.0,1.0,3.0,0....|33.77| 19.06167635959395|\n",
      "|[540.0,1.0,0.0,0....| 26.0|33.158644420592196|\n",
      "|[544.0,1.0,0.0,0....|23.39| 20.08057406489947|\n",
      "|[550.0,1.0,3.0,0....| 16.5|17.417135684744306|\n",
      "|[576.0,1.0,1.0,0....| 29.0| 32.67342364170264|\n",
      "|[580.0,2.0,4.0,0....| 33.0|21.194522148751613|\n",
      "|[582.0,1.0,2.0,0....|32.01| 22.58002287786604|\n",
      "|[586.0,1.0,0.0,0....| 28.0|  20.6519059786711|\n",
      "|[586.0,1.0,0.0,0....| 28.0|  20.6519059786711|\n",
      "|[594.0,2.0,2.0,0....|35.34|  30.3291031247163|\n",
      "|[597.0,1.0,0.0,1....|34.02|29.517850723534348|\n",
      "|[600.0,1.0,0.0,0....| 31.2|20.834894464878754|\n",
      "+--------------------+-----+------------------+\n",
      "only showing top 20 rows\n",
      "\n"
     ]
    }
   ],
   "source": [
    "pred = model.evaluate(test_data)\n",
    "pred.predictions.show()"
   ]
  },
  {
   "cell_type": "code",
   "execution_count": 89,
   "id": "5ab1e665-a9ce-49bf-a74f-49cdff8b9dff",
   "metadata": {},
   "outputs": [
    {
     "name": "stdout",
     "output_type": "stream",
     "text": [
      "Root Mean Squared Error (RMSE): 21.191785793621417\n",
      "R^2 on test data: 75.13948924377661 %\n",
      "Mean Absolute Error (MAE): 15.228546795430354\n"
     ]
    }
   ],
   "source": [
    "\n",
    "print(\"Root Mean Squared Error (RMSE):\", pred.rootMeanSquaredError)\n",
    "print(\"R^2 on test data:\", (pred.r2)*100,\"%\")\n",
    "print(\"Mean Absolute Error (MAE):\", pred.meanAbsoluteError)\n"
   ]
  },
  {
   "cell_type": "code",
   "execution_count": null,
   "id": "b05f82c7-550d-46fd-90e2-adc23a5b9dee",
   "metadata": {},
   "outputs": [],
   "source": []
  },
  {
   "cell_type": "code",
   "execution_count": null,
   "id": "47450a15-6dfd-41bf-afd8-ea877530e2e3",
   "metadata": {},
   "outputs": [],
   "source": []
  },
  {
   "cell_type": "code",
   "execution_count": null,
   "id": "6e0f004a-e246-43b3-981f-5e0449c5e2ae",
   "metadata": {},
   "outputs": [],
   "source": []
  },
  {
   "cell_type": "code",
   "execution_count": null,
   "id": "cb3c91cf-2164-4fe3-9a2f-3fa5f30d6b7a",
   "metadata": {},
   "outputs": [],
   "source": []
  },
  {
   "cell_type": "code",
   "execution_count": null,
   "id": "d15122e9-3355-4131-a812-dc81a7c90b70",
   "metadata": {},
   "outputs": [],
   "source": []
  },
  {
   "cell_type": "code",
   "execution_count": null,
   "id": "631ff31f-e949-4f2c-994b-e778fdf3f366",
   "metadata": {},
   "outputs": [],
   "source": []
  },
  {
   "cell_type": "code",
   "execution_count": null,
   "id": "e55fa6a6-b524-4d93-97f3-e44f5f1dd05d",
   "metadata": {},
   "outputs": [],
   "source": []
  }
 ],
 "metadata": {
  "kernelspec": {
   "display_name": "Python 3 (ipykernel)",
   "language": "python",
   "name": "python3"
  },
  "language_info": {
   "codemirror_mode": {
    "name": "ipython",
    "version": 3
   },
   "file_extension": ".py",
   "mimetype": "text/x-python",
   "name": "python",
   "nbconvert_exporter": "python",
   "pygments_lexer": "ipython3",
   "version": "3.11.7"
  }
 },
 "nbformat": 4,
 "nbformat_minor": 5
}
