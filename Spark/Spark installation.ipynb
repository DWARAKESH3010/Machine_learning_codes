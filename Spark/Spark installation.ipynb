{
 "cells": [
  {
   "cell_type": "code",
   "execution_count": 168,
   "id": "5bf08fe6-ad3c-4eb2-9ea6-1cd04d1bbdbf",
   "metadata": {},
   "outputs": [
    {
     "name": "stdout",
     "output_type": "stream",
     "text": [
      "Requirement already satisfied: pyspark in c:\\users\\hp\\anaconda3\\lib\\site-packages (3.5.2)\n",
      "Requirement already satisfied: py4j==0.10.9.7 in c:\\users\\hp\\anaconda3\\lib\\site-packages (from pyspark) (0.10.9.7)\n"
     ]
    }
   ],
   "source": [
    "!pip install pyspark"
   ]
  },
  {
   "cell_type": "code",
   "execution_count": 169,
   "id": "2be83230-6053-4f5a-a2bb-c14dcf1f2b5c",
   "metadata": {},
   "outputs": [],
   "source": [
    "from pyspark.sql import SparkSession\n",
    "import pandas as pd"
   ]
  },
  {
   "cell_type": "code",
   "execution_count": 170,
   "id": "3e8dd4e5-39e5-4c91-afad-f612b4ed4d06",
   "metadata": {},
   "outputs": [],
   "source": [
    "spark = SparkSession.builder \\\n",
    "    .appName(\"practices\") \\\n",
    "    .getOrCreate()"
   ]
  },
  {
   "cell_type": "code",
   "execution_count": 171,
   "id": "6f574f9e-e9d3-42a6-bc34-09189c090d2f",
   "metadata": {},
   "outputs": [
    {
     "data": {
      "text/html": [
       "\n",
       "            <div>\n",
       "                <p><b>SparkSession - in-memory</b></p>\n",
       "                \n",
       "        <div>\n",
       "            <p><b>SparkContext</b></p>\n",
       "\n",
       "            <p><a href=\"http://DESKTOP-CO3RME2:4040\">Spark UI</a></p>\n",
       "\n",
       "            <dl>\n",
       "              <dt>Version</dt>\n",
       "                <dd><code>v3.5.2</code></dd>\n",
       "              <dt>Master</dt>\n",
       "                <dd><code>local[*]</code></dd>\n",
       "              <dt>AppName</dt>\n",
       "                <dd><code>practices</code></dd>\n",
       "            </dl>\n",
       "        </div>\n",
       "        \n",
       "            </div>\n",
       "        "
      ],
      "text/plain": [
       "<pyspark.sql.session.SparkSession at 0x1274be73310>"
      ]
     },
     "execution_count": 171,
     "metadata": {},
     "output_type": "execute_result"
    }
   ],
   "source": [
    "spark"
   ]
  },
  {
   "cell_type": "code",
   "execution_count": 172,
   "id": "3473b383-e5c1-4c09-b65e-10edde2ca1d2",
   "metadata": {},
   "outputs": [
    {
     "name": "stdout",
     "output_type": "stream",
     "text": [
      "3.5.2\n"
     ]
    }
   ],
   "source": [
    "print(spark.version)"
   ]
  },
  {
   "cell_type": "code",
   "execution_count": 173,
   "id": "e99aa794-4328-455a-8060-e27017a74f02",
   "metadata": {},
   "outputs": [
    {
     "data": {
      "text/plain": [
       "pandas.core.frame.DataFrame"
      ]
     },
     "execution_count": 173,
     "metadata": {},
     "output_type": "execute_result"
    }
   ],
   "source": [
    "type(pd.read_csv(\"Chennai house data.csv\")) "
   ]
  },
  {
   "cell_type": "markdown",
   "id": "41191311-319c-4039-b34c-a4b650279faa",
   "metadata": {},
   "source": [
    "# reading csv and storig the columns in columns box"
   ]
  },
  {
   "cell_type": "code",
   "execution_count": 174,
   "id": "5e78de1a-6d43-4cb8-bc9a-884b51fe3c76",
   "metadata": {},
   "outputs": [
    {
     "data": {
      "text/plain": [
       "pyspark.sql.dataframe.DataFrame"
      ]
     },
     "execution_count": 174,
     "metadata": {},
     "output_type": "execute_result"
    }
   ],
   "source": [
    "df_spark = spark.read.option(\"Header\",\"True\").csv(\"Chennai house data.csv\",inferSchema=True)\n",
    "type(df_spark)"
   ]
  },
  {
   "cell_type": "code",
   "execution_count": 175,
   "id": "d977244a-94ff-479f-8fca-a5dc12fdca32",
   "metadata": {},
   "outputs": [
    {
     "name": "stdout",
     "output_type": "stream",
     "text": [
      "+-----+----+------------------+---+--------+----+----------+--------------------+\n",
      "|price|area|            status|bhk|bathroom| age|  location|             builder|\n",
      "+-----+----+------------------+---+--------+----+----------+--------------------+\n",
      "|37.49| 872|     Ready to move|  2|    NULL|   1| Sembakkam|       MP Developers|\n",
      "|93.54|1346|Under Construction|  3|       2|NULL|  Selaiyur|       DAC Promoters|\n",
      "|151.0|2225|Under Construction|  3|    NULL|   0| Mogappair|Casagrand Builder...|\n",
      "| 49.0|1028|     Ready to move|  2|       2|   3|  Ambattur|Dugar Housing Bui...|\n",
      "|42.28| 588|Under Construction|  2|       1|   0|Pallavaram|Radiance Realty D...|\n",
      "+-----+----+------------------+---+--------+----+----------+--------------------+\n",
      "only showing top 5 rows\n",
      "\n"
     ]
    }
   ],
   "source": [
    "df_spark.show(5)"
   ]
  },
  {
   "cell_type": "code",
   "execution_count": 176,
   "id": "da8e0c6f-ea25-447e-95e6-92388c342f2e",
   "metadata": {},
   "outputs": [
    {
     "name": "stdout",
     "output_type": "stream",
     "text": [
      "root\n",
      " |-- price: double (nullable = true)\n",
      " |-- area: integer (nullable = true)\n",
      " |-- status: string (nullable = true)\n",
      " |-- bhk: integer (nullable = true)\n",
      " |-- bathroom: integer (nullable = true)\n",
      " |-- age: integer (nullable = true)\n",
      " |-- location: string (nullable = true)\n",
      " |-- builder: string (nullable = true)\n",
      "\n"
     ]
    }
   ],
   "source": [
    "df_spark.printSchema()    #like df.info()"
   ]
  },
  {
   "cell_type": "markdown",
   "id": "a5ba6f0b-6fc8-459a-b57f-673ff86e4233",
   "metadata": {},
   "source": [
    "# Another way to read the dataset"
   ]
  },
  {
   "cell_type": "code",
   "execution_count": 177,
   "id": "b1b01635-70da-405c-8734-3e5c24a29988",
   "metadata": {},
   "outputs": [],
   "source": [
    "df_spark = spark.read.csv(\"Chennai house data.csv\",header = True, inferSchema = True)"
   ]
  },
  {
   "cell_type": "code",
   "execution_count": 178,
   "id": "d18d4cea-6a06-4f57-92d5-876424380c81",
   "metadata": {},
   "outputs": [
    {
     "name": "stdout",
     "output_type": "stream",
     "text": [
      "+-----+----+------------------+---+--------+----+----------+--------------------+\n",
      "|price|area|            status|bhk|bathroom| age|  location|             builder|\n",
      "+-----+----+------------------+---+--------+----+----------+--------------------+\n",
      "|37.49| 872|     Ready to move|  2|    NULL|   1| Sembakkam|       MP Developers|\n",
      "|93.54|1346|Under Construction|  3|       2|NULL|  Selaiyur|       DAC Promoters|\n",
      "|151.0|2225|Under Construction|  3|    NULL|   0| Mogappair|Casagrand Builder...|\n",
      "| 49.0|1028|     Ready to move|  2|       2|   3|  Ambattur|Dugar Housing Bui...|\n",
      "|42.28| 588|Under Construction|  2|       1|   0|Pallavaram|Radiance Realty D...|\n",
      "+-----+----+------------------+---+--------+----+----------+--------------------+\n",
      "only showing top 5 rows\n",
      "\n"
     ]
    }
   ],
   "source": [
    "df_spark.show(5)"
   ]
  },
  {
   "cell_type": "code",
   "execution_count": 179,
   "id": "bae9b089-6bd0-4041-a99c-ef69e62763c1",
   "metadata": {},
   "outputs": [
    {
     "name": "stdout",
     "output_type": "stream",
     "text": [
      "root\n",
      " |-- price: double (nullable = true)\n",
      " |-- area: integer (nullable = true)\n",
      " |-- status: string (nullable = true)\n",
      " |-- bhk: integer (nullable = true)\n",
      " |-- bathroom: integer (nullable = true)\n",
      " |-- age: integer (nullable = true)\n",
      " |-- location: string (nullable = true)\n",
      " |-- builder: string (nullable = true)\n",
      "\n"
     ]
    }
   ],
   "source": [
    "df_spark.printSchema()    "
   ]
  },
  {
   "cell_type": "markdown",
   "id": "57cf09cb-e9fb-4efa-bd63-ae64e347d4bd",
   "metadata": {},
   "source": [
    "# what is dataframe ?\n",
    "dataframe is one kind of the data structure, we can perform various type of operation in the dataframe"
   ]
  },
  {
   "cell_type": "code",
   "execution_count": 180,
   "id": "58775430-d2a3-4465-80e3-78bc6619c738",
   "metadata": {},
   "outputs": [
    {
     "data": {
      "text/plain": [
       "['price', 'area', 'status', 'bhk', 'bathroom', 'age', 'location', 'builder']"
      ]
     },
     "execution_count": 180,
     "metadata": {},
     "output_type": "execute_result"
    }
   ],
   "source": [
    "df_spark.columns"
   ]
  },
  {
   "cell_type": "code",
   "execution_count": 181,
   "id": "bc311245-8315-4278-b685-492b80fa1f6d",
   "metadata": {},
   "outputs": [
    {
     "name": "stdout",
     "output_type": "stream",
     "text": [
      "+-----+----+\n",
      "|price|area|\n",
      "+-----+----+\n",
      "|37.49| 872|\n",
      "|93.54|1346|\n",
      "|151.0|2225|\n",
      "| 49.0|1028|\n",
      "|42.28| 588|\n",
      "+-----+----+\n",
      "only showing top 5 rows\n",
      "\n",
      "+----------+\n",
      "|  location|\n",
      "+----------+\n",
      "| Sembakkam|\n",
      "|  Selaiyur|\n",
      "| Mogappair|\n",
      "|  Ambattur|\n",
      "|Pallavaram|\n",
      "+----------+\n",
      "only showing top 5 rows\n",
      "\n"
     ]
    }
   ],
   "source": [
    "df_spark.select(\"price\",\"area\").show(5)           #select is used for the specify columns to select\n",
    "df_spark.select(\"location\").show(5)"
   ]
  },
  {
   "cell_type": "code",
   "execution_count": 182,
   "id": "1af80634-03fc-4ff3-8bcc-55f5240b45af",
   "metadata": {},
   "outputs": [
    {
     "data": {
      "text/plain": [
       "[('price', 'double'),\n",
       " ('area', 'int'),\n",
       " ('status', 'string'),\n",
       " ('bhk', 'int'),\n",
       " ('bathroom', 'int'),\n",
       " ('age', 'int'),\n",
       " ('location', 'string'),\n",
       " ('builder', 'string')]"
      ]
     },
     "execution_count": 182,
     "metadata": {},
     "output_type": "execute_result"
    }
   ],
   "source": [
    "df_spark.dtypes"
   ]
  },
  {
   "cell_type": "code",
   "execution_count": 183,
   "id": "efc64de5-609d-4ee3-880c-0dd3acc6ac1c",
   "metadata": {},
   "outputs": [
    {
     "name": "stdout",
     "output_type": "stream",
     "text": [
      "+-------+------------------+------------------+------------------+------------------+------------------+------------------+-------------+------------+\n",
      "|summary|             price|              area|            status|               bhk|          bathroom|               age|     location|     builder|\n",
      "+-------+------------------+------------------+------------------+------------------+------------------+------------------+-------------+------------+\n",
      "|  count|              2620|              2620|              2620|              2620|              1403|              1729|         2620|        2620|\n",
      "|   mean| 93.83468320610666|1282.9251908396946|              NULL|2.4438931297709923| 2.359230220955096|1.3551185656448814|         NULL|        NULL|\n",
      "| stddev|113.60934931337222| 692.5663187698266|              NULL|0.8119836251037046|0.8449514283614394|2.1026819845567295|         NULL|        NULL|\n",
      "|    min|             12.83|               300|     Ready to move|                 1|                 1|                 0|    Adambakam|24K Realtors|\n",
      "|    max|            1422.0|              6700|Under Construction|                 8|                 7|                32|tambaram west|    viswaraj|\n",
      "+-------+------------------+------------------+------------------+------------------+------------------+------------------+-------------+------------+\n",
      "\n"
     ]
    }
   ],
   "source": [
    "df_spark.describe().show(5)"
   ]
  },
  {
   "cell_type": "markdown",
   "id": "3a53805e-c541-4a94-8130-860cfc7e7eb4",
   "metadata": {},
   "source": [
    "# adding the columns"
   ]
  },
  {
   "cell_type": "code",
   "execution_count": 184,
   "id": "aa5824e1-9e60-436f-8e7d-70651da26af4",
   "metadata": {},
   "outputs": [
    {
     "name": "stdout",
     "output_type": "stream",
     "text": [
      "+-----+----+------------------+---+--------+----+----------+--------------------+------------------+\n",
      "|price|area|            status|bhk|bathroom| age|  location|             builder|Age after two year|\n",
      "+-----+----+------------------+---+--------+----+----------+--------------------+------------------+\n",
      "|37.49| 872|     Ready to move|  2|    NULL|   1| Sembakkam|       MP Developers|                 3|\n",
      "|93.54|1346|Under Construction|  3|       2|NULL|  Selaiyur|       DAC Promoters|              NULL|\n",
      "|151.0|2225|Under Construction|  3|    NULL|   0| Mogappair|Casagrand Builder...|                 2|\n",
      "| 49.0|1028|     Ready to move|  2|       2|   3|  Ambattur|Dugar Housing Bui...|                 5|\n",
      "|42.28| 588|Under Construction|  2|       1|   0|Pallavaram|Radiance Realty D...|                 2|\n",
      "+-----+----+------------------+---+--------+----+----------+--------------------+------------------+\n",
      "only showing top 5 rows\n",
      "\n"
     ]
    }
   ],
   "source": [
    "# using withColumns\n",
    "\n",
    "dummy = df_spark.withColumn(\"Age after two year\",df_spark[\"age\"]+2)\n",
    "dummy.show(5)"
   ]
  },
  {
   "cell_type": "markdown",
   "id": "54187341-1756-4ecb-a2d7-d2903f840852",
   "metadata": {},
   "source": [
    "# droping column"
   ]
  },
  {
   "cell_type": "code",
   "execution_count": 185,
   "id": "95c72181-59bc-49d6-8502-7942f58fe5ca",
   "metadata": {},
   "outputs": [
    {
     "name": "stdout",
     "output_type": "stream",
     "text": [
      "+-----+----+------------------+---+----+----------+--------------------+\n",
      "|price|area|            status|bhk| age|  location|             builder|\n",
      "+-----+----+------------------+---+----+----------+--------------------+\n",
      "|37.49| 872|     Ready to move|  2|   1| Sembakkam|       MP Developers|\n",
      "|93.54|1346|Under Construction|  3|NULL|  Selaiyur|       DAC Promoters|\n",
      "|151.0|2225|Under Construction|  3|   0| Mogappair|Casagrand Builder...|\n",
      "| 49.0|1028|     Ready to move|  2|   3|  Ambattur|Dugar Housing Bui...|\n",
      "|42.28| 588|Under Construction|  2|   0|Pallavaram|Radiance Realty D...|\n",
      "+-----+----+------------------+---+----+----------+--------------------+\n",
      "only showing top 5 rows\n",
      "\n"
     ]
    }
   ],
   "source": [
    "df_spark = df_spark.drop(\"Age after two year\",\"bathroom\")\n",
    "df_spark.show(5)"
   ]
  },
  {
   "cell_type": "markdown",
   "id": "f867c482-a149-4245-b163-fab558e28c8d",
   "metadata": {},
   "source": [
    "# renaming the columns"
   ]
  },
  {
   "cell_type": "code",
   "execution_count": 186,
   "id": "69183928-e4d6-45cf-8888-9809c8601db5",
   "metadata": {},
   "outputs": [
    {
     "name": "stdout",
     "output_type": "stream",
     "text": [
      "+-----+----+------------------+---+----+----------+--------------------+\n",
      "|Price|area|            status|bhk| age|  location|             builder|\n",
      "+-----+----+------------------+---+----+----------+--------------------+\n",
      "|37.49| 872|     Ready to move|  2|   1| Sembakkam|       MP Developers|\n",
      "|93.54|1346|Under Construction|  3|NULL|  Selaiyur|       DAC Promoters|\n",
      "|151.0|2225|Under Construction|  3|   0| Mogappair|Casagrand Builder...|\n",
      "| 49.0|1028|     Ready to move|  2|   3|  Ambattur|Dugar Housing Bui...|\n",
      "|42.28| 588|Under Construction|  2|   0|Pallavaram|Radiance Realty D...|\n",
      "+-----+----+------------------+---+----+----------+--------------------+\n",
      "only showing top 5 rows\n",
      "\n"
     ]
    }
   ],
   "source": [
    "df_spark.withColumnRenamed(\"price\",\"Price\").show(5)"
   ]
  },
  {
   "cell_type": "markdown",
   "id": "a6761a49-23e1-4567-9835-393a0171fd76",
   "metadata": {},
   "source": [
    "# Handling missing value"
   ]
  },
  {
   "cell_type": "code",
   "execution_count": 187,
   "id": "4c380f58-1842-4a04-9321-41d273203874",
   "metadata": {},
   "outputs": [
    {
     "name": "stdout",
     "output_type": "stream",
     "text": [
      "+-----+----+------------------+---+---+-------------+--------------------+\n",
      "|price|area|            status|bhk|age|     location|             builder|\n",
      "+-----+----+------------------+---+---+-------------+--------------------+\n",
      "|37.49| 872|     Ready to move|  2|  1|    Sembakkam|       MP Developers|\n",
      "|93.54|1346|Under Construction|  3|  1|     Selaiyur|       DAC Promoters|\n",
      "|151.0|2225|Under Construction|  3|  0|    Mogappair|Casagrand Builder...|\n",
      "| 49.0|1028|     Ready to move|  2|  3|     Ambattur|Dugar Housing Bui...|\n",
      "|42.28| 588|Under Construction|  2|  0|   Pallavaram|Radiance Realty D...|\n",
      "|188.0|2221|Under Construction|  3|  0|Virugambakkam|Traventure Homes ...|\n",
      "| 38.0| 885|Under Construction|  3|  0|Thirumazhisai|           Urbanrise|\n",
      "|72.99| 936|     Ready to move|  3|  6|   Moolakadai|Navin Housing Pro...|\n",
      "|125.0|2275|     Ready to move|  4|  1|Ottiyambakkam|Jones foundation ...|\n",
      "|24.56| 622|Under Construction|  2|  0|Perungalathur|          Isha Homes|\n",
      "|67.87|1305|Under Construction|  3|  0|Gerugambakkam|Kochar Homes Pvt Ltd|\n",
      "|240.0|1500|     Ready to move|  3|  1|   Anna Nagar|Pushkar Propertie...|\n",
      "|407.0|2200|Under Construction|  3|  0|  Gopalapuram|Pushkar Propertie...|\n",
      "|51.46| 919|Under Construction|  2|  0|       Pammal|    Asset Tree Homes|\n",
      "|69.47| 965|Under Construction|  2|  0|        Porur|Urban Tree Infras...|\n",
      "+-----+----+------------------+---+---+-------------+--------------------+\n",
      "only showing top 15 rows\n",
      "\n"
     ]
    }
   ],
   "source": [
    "from pyspark.ml.feature import Imputer\n",
    "imputer = Imputer(\n",
    "    inputCols = [\"age\"],\n",
    "    outputCols = [\"age\"]).setStrategy(\"mean\")\n",
    "\n",
    "\n",
    "df = imputer.fit(df_spark).transform(df_spark)\n",
    "df.show(15)"
   ]
  },
  {
   "cell_type": "code",
   "execution_count": 188,
   "id": "d9017884-b020-4030-9e21-88f6947eefaf",
   "metadata": {},
   "outputs": [
    {
     "name": "stdout",
     "output_type": "stream",
     "text": [
      "+-------+------------------+------------------+------------------+------------------+------------------+-------------+------------+\n",
      "|summary|             price|              area|            status|               bhk|               age|     location|     builder|\n",
      "+-------+------------------+------------------+------------------+------------------+------------------+-------------+------------+\n",
      "|  count|              2620|              2620|              2620|              2620|              2620|         2620|        2620|\n",
      "|   mean| 93.83468320610666|1282.9251908396946|              NULL|2.4438931297709923| 1.234351145038168|         NULL|        NULL|\n",
      "| stddev|113.60934931337222| 692.5663187698266|              NULL|0.8119836251037046|1.7162285383748437|         NULL|        NULL|\n",
      "|    min|             12.83|               300|     Ready to move|                 1|                 0|    Adambakam|24K Realtors|\n",
      "|    max|            1422.0|              6700|Under Construction|                 8|                32|tambaram west|    viswaraj|\n",
      "+-------+------------------+------------------+------------------+------------------+------------------+-------------+------------+\n",
      "\n"
     ]
    }
   ],
   "source": [
    "df.describe().show(5)"
   ]
  },
  {
   "cell_type": "markdown",
   "id": "6f04576c-4c37-4f5f-9902-3946c9764999",
   "metadata": {},
   "source": [
    "# Filter function"
   ]
  },
  {
   "cell_type": "code",
   "execution_count": 189,
   "id": "2eaa907c-8e2e-4029-b61a-5511d5779ad3",
   "metadata": {},
   "outputs": [
    {
     "name": "stdout",
     "output_type": "stream",
     "text": [
      "+------+----+-------------+---+---+----------+--------------------+\n",
      "| price|area|       status|bhk|age|  location|             builder|\n",
      "+------+----+-------------+---+---+----------+--------------------+\n",
      "|1397.0|6500|Ready to move|  5|  2|Royapettah|        Vinay Asrani|\n",
      "|1397.0|6498|Ready to move|  5|  2|Royapettah|        Vinay Asrani|\n",
      "|1422.0|6617|Ready to move|  5|  2|Royapettah|        Vinay Asrani|\n",
      "|1050.0|4200|Ready to move|  6|  1|   T Nagar|Shree sakthivel r...|\n",
      "+------+----+-------------+---+---+----------+--------------------+\n",
      "\n"
     ]
    }
   ],
   "source": [
    "df.filter(\"price >= 1000\").show()"
   ]
  },
  {
   "cell_type": "code",
   "execution_count": 190,
   "id": "ec197055-86c5-4943-85ad-9ebd2a4dfe29",
   "metadata": {},
   "outputs": [
    {
     "name": "stdout",
     "output_type": "stream",
     "text": [
      "+--------+\n",
      "|location|\n",
      "+--------+\n",
      "| T Nagar|\n",
      "+--------+\n",
      "\n"
     ]
    }
   ],
   "source": [
    "df.filter((df[\"price\"] >= 1000) & (df[\"bhk\"] >= 6)).select(\"location\").show()"
   ]
  },
  {
   "cell_type": "code",
   "execution_count": 191,
   "id": "2730efc1-a7c7-4961-b0e5-9078542a5fea",
   "metadata": {},
   "outputs": [
    {
     "name": "stdout",
     "output_type": "stream",
     "text": [
      "+--------------+\n",
      "|      location|\n",
      "+--------------+\n",
      "|     Sembakkam|\n",
      "|      Selaiyur|\n",
      "|     Mogappair|\n",
      "|      Ambattur|\n",
      "|    Pallavaram|\n",
      "| Virugambakkam|\n",
      "| Thirumazhisai|\n",
      "|    Moolakadai|\n",
      "| Ottiyambakkam|\n",
      "| Perungalathur|\n",
      "| Gerugambakkam|\n",
      "|    Anna Nagar|\n",
      "|   Gopalapuram|\n",
      "|        Pammal|\n",
      "|         Porur|\n",
      "|      Navallur|\n",
      "| Thirumazhisai|\n",
      "|    Anna Nagar|\n",
      "|Sholinganallur|\n",
      "|     Vanagaram|\n",
      "+--------------+\n",
      "only showing top 20 rows\n",
      "\n"
     ]
    }
   ],
   "source": [
    "df.select(\"location\").show()"
   ]
  },
  {
   "cell_type": "markdown",
   "id": "60574779-812c-4f14-821f-ab4e82627f0e",
   "metadata": {},
   "source": [
    "# GroupBy function"
   ]
  },
  {
   "cell_type": "code",
   "execution_count": 192,
   "id": "ff9b9111-838c-445c-88d1-77873e1f37f9",
   "metadata": {},
   "outputs": [
    {
     "name": "stdout",
     "output_type": "stream",
     "text": [
      "+----------+----------+---------+--------+--------+\n",
      "|  location|min(price)|min(area)|min(bhk)|min(age)|\n",
      "+----------+----------+---------+--------+--------+\n",
      "|Royapettah|      83.0|      600|       1|       0|\n",
      "+----------+----------+---------+--------+--------+\n",
      "\n"
     ]
    }
   ],
   "source": [
    "df.groupBy(\"location\").min().filter(df[\"location\"] == \"Royapettah\").show()"
   ]
  },
  {
   "cell_type": "code",
   "execution_count": 193,
   "id": "f6ba0b7e-094c-4898-8ae9-820c1507d6b0",
   "metadata": {},
   "outputs": [
    {
     "name": "stdout",
     "output_type": "stream",
     "text": [
      "+----------+----------+---------+--------+--------+\n",
      "|  location|max(price)|max(area)|max(bhk)|max(age)|\n",
      "+----------+----------+---------+--------+--------+\n",
      "|Royapettah|    1422.0|     6617|       8|       6|\n",
      "+----------+----------+---------+--------+--------+\n",
      "\n"
     ]
    }
   ],
   "source": [
    "df.groupBy(\"location\").max().filter(df[\"location\"] == \"Royapettah\").show()"
   ]
  },
  {
   "cell_type": "code",
   "execution_count": 194,
   "id": "c7643dee-862d-485a-8763-66d66d34fe9b",
   "metadata": {},
   "outputs": [
    {
     "name": "stdout",
     "output_type": "stream",
     "text": [
      "+----------+-----+\n",
      "|  location|count|\n",
      "+----------+-----+\n",
      "|Royapettah|   24|\n",
      "+----------+-----+\n",
      "\n"
     ]
    }
   ],
   "source": [
    "df.groupBy(\"location\").count().filter(df[\"location\"] == \"Royapettah\").show()"
   ]
  },
  {
   "cell_type": "markdown",
   "id": "62a75d01-7070-438e-8014-70bcbe7e0ff4",
   "metadata": {},
   "source": [
    "# aggregate"
   ]
  },
  {
   "cell_type": "code",
   "execution_count": 195,
   "id": "5771162d-1f4e-42ca-a5e1-71d5676465f1",
   "metadata": {},
   "outputs": [
    {
     "name": "stdout",
     "output_type": "stream",
     "text": [
      "+------------------+\n",
      "|        sum(price)|\n",
      "+------------------+\n",
      "|245846.86999999944|\n",
      "+------------------+\n",
      "\n"
     ]
    }
   ],
   "source": [
    "df.agg({\"price\":\"sum\"}).show()"
   ]
  },
  {
   "cell_type": "markdown",
   "id": "3aa3d7dc-d47c-462d-888f-09c9735d1cea",
   "metadata": {},
   "source": [
    "# basic linear model"
   ]
  },
  {
   "cell_type": "code",
   "execution_count": 196,
   "id": "4b2b1b8c-6763-41eb-a651-283af921aa5f",
   "metadata": {},
   "outputs": [],
   "source": [
    "from pyspark.ml.regression import LinearRegression\n",
    "from pyspark.ml.feature import VectorAssembler"
   ]
  },
  {
   "cell_type": "code",
   "execution_count": 197,
   "id": "e7ed07a4-c9b2-4834-a5f0-b2156fbc31bc",
   "metadata": {},
   "outputs": [],
   "source": [
    "assemble = VectorAssembler(inputCols=[\"area\",\"bhk\",\"age\",],outputCol=\"inputcolumns\")"
   ]
  },
  {
   "cell_type": "code",
   "execution_count": 198,
   "id": "737afd75-005b-49bf-8706-dd7229f1fba2",
   "metadata": {},
   "outputs": [
    {
     "name": "stdout",
     "output_type": "stream",
     "text": [
      "+-----+----+------------------+---+---+----------+--------------------+----------------+\n",
      "|price|area|            status|bhk|age|  location|             builder|    inputcolumns|\n",
      "+-----+----+------------------+---+---+----------+--------------------+----------------+\n",
      "|37.49| 872|     Ready to move|  2|  1| Sembakkam|       MP Developers| [872.0,2.0,1.0]|\n",
      "|93.54|1346|Under Construction|  3|  1|  Selaiyur|       DAC Promoters|[1346.0,3.0,1.0]|\n",
      "|151.0|2225|Under Construction|  3|  0| Mogappair|Casagrand Builder...|[2225.0,3.0,0.0]|\n",
      "| 49.0|1028|     Ready to move|  2|  3|  Ambattur|Dugar Housing Bui...|[1028.0,2.0,3.0]|\n",
      "|42.28| 588|Under Construction|  2|  0|Pallavaram|Radiance Realty D...| [588.0,2.0,0.0]|\n",
      "+-----+----+------------------+---+---+----------+--------------------+----------------+\n",
      "only showing top 5 rows\n",
      "\n"
     ]
    }
   ],
   "source": [
    "output = assemble.transform(df)\n",
    "output.show(5)"
   ]
  },
  {
   "cell_type": "code",
   "execution_count": 199,
   "id": "c9b30481-8f9f-46ec-97ca-b828bdc64b75",
   "metadata": {},
   "outputs": [
    {
     "name": "stdout",
     "output_type": "stream",
     "text": [
      "+----------------+-----+\n",
      "|    inputcolumns|price|\n",
      "+----------------+-----+\n",
      "| [872.0,2.0,1.0]|37.49|\n",
      "|[1346.0,3.0,1.0]|93.54|\n",
      "|[2225.0,3.0,0.0]|151.0|\n",
      "|[1028.0,2.0,3.0]| 49.0|\n",
      "| [588.0,2.0,0.0]|42.28|\n",
      "+----------------+-----+\n",
      "only showing top 5 rows\n",
      "\n"
     ]
    }
   ],
   "source": [
    "final = output.select(\"inputcolumns\",\"price\")\n",
    "final.show(5)"
   ]
  },
  {
   "cell_type": "code",
   "execution_count": 200,
   "id": "e734289f-31f7-4ec5-8830-35ba0997a17f",
   "metadata": {},
   "outputs": [],
   "source": [
    "train_data,test_data = final.randomSplit([0.8,0.2])\n",
    "lr = LinearRegression(featuresCol=\"inputcolumns\",labelCol=\"price\")\n",
    "lr_model = lr.fit(train_data)"
   ]
  },
  {
   "cell_type": "code",
   "execution_count": 201,
   "id": "ebdf81a3-f737-451b-89d1-417b496efc50",
   "metadata": {},
   "outputs": [
    {
     "name": "stdout",
     "output_type": "stream",
     "text": [
      "Coefficients:  [0.15248670906032763,-14.888597020646996,-0.6932850086124118]\n",
      "Intercept:  -64.85335868912145\n"
     ]
    }
   ],
   "source": [
    "print(\"Coefficients: \", lr_model.coefficients)\n",
    "print(\"Intercept: \", lr_model.intercept)"
   ]
  },
  {
   "cell_type": "code",
   "execution_count": 202,
   "id": "f6f437a4-ffe9-46dc-aac6-07d570b2cd5d",
   "metadata": {},
   "outputs": [
    {
     "name": "stdout",
     "output_type": "stream",
     "text": [
      "+---------------+-----+-------------------+\n",
      "|   inputcolumns|price|         prediction|\n",
      "+---------------+-----+-------------------+\n",
      "|[300.0,1.0,0.0]|15.36|-33.995942991670155|\n",
      "|[394.0,1.0,0.0]|12.89|-19.662192339999365|\n",
      "|[430.0,1.0,1.0]|22.99|-14.865955822439979|\n",
      "|[450.0,1.0,1.0]| 59.6|-11.816221641233433|\n",
      "|[492.0,1.0,1.0]|23.12|  -5.41177986069966|\n",
      "|[500.0,1.0,1.0]| 18.0|-4.1918861882170475|\n",
      "|[500.0,1.0,1.0]| 22.0|-4.1918861882170475|\n",
      "|[500.0,1.0,1.0]| 29.0|-4.1918861882170475|\n",
      "|[502.0,1.0,0.0]|24.09| -3.193627761483981|\n",
      "|[509.0,1.0,1.0]| 47.0| -2.819505806674094|\n",
      "|[510.0,1.0,0.0]|20.14|-1.9737340890013542|\n",
      "|[520.0,1.0,3.0]|19.49|-2.5287220242353072|\n",
      "|[544.0,1.0,1.0]|23.39| 2.5175290104373715|\n",
      "|[550.0,1.0,2.0]| 20.9| 2.7391642561869247|\n",
      "|[576.0,2.0,0.0]| 30.0| -6.798208311666727|\n",
      "|[580.0,1.0,4.0]| 45.0|  5.927195510771924|\n",
      "|[582.0,1.0,2.0]|32.01| 7.6187389461174035|\n",
      "|[583.0,1.0,1.0]|25.06|   8.46451066379015|\n",
      "|[586.0,1.0,1.0]| 28.0|   8.92197079097113|\n",
      "|[586.0,1.0,1.0]| 28.0|   8.92197079097113|\n",
      "+---------------+-----+-------------------+\n",
      "only showing top 20 rows\n",
      "\n",
      "Root Mean Squared Error (RMSE): 64.18025642934843\n",
      "R^2 on test data: 65.90552286980062 %\n",
      "Mean Absolute Error (MAE): 37.18463564577526\n"
     ]
    }
   ],
   "source": [
    "test_results = lr_model.evaluate(test_data)\n",
    "\n",
    "test_results.predictions.show()\n",
    "print(\"Root Mean Squared Error (RMSE):\", test_results.rootMeanSquaredError)\n",
    "print(\"R^2 on test data:\", (test_results.r2)*100,\"%\")\n",
    "print(\"Mean Absolute Error (MAE):\", test_results.meanAbsoluteError)\n"
   ]
  },
  {
   "cell_type": "code",
   "execution_count": 203,
   "id": "99dd55dc-cca0-448f-ae37-dceb610ef7f4",
   "metadata": {},
   "outputs": [
    {
     "name": "stdout",
     "output_type": "stream",
     "text": [
      "+-------+------------------+------------------+------------------+------------------+------------------+-------------+------------+\n",
      "|summary|             price|              area|            status|               bhk|               age|     location|     builder|\n",
      "+-------+------------------+------------------+------------------+------------------+------------------+-------------+------------+\n",
      "|  count|              2620|              2620|              2620|              2620|              2620|         2620|        2620|\n",
      "|   mean| 93.83468320610666|1282.9251908396946|              NULL|2.4438931297709923| 1.234351145038168|         NULL|        NULL|\n",
      "| stddev|113.60934931337222| 692.5663187698266|              NULL|0.8119836251037046|1.7162285383748437|         NULL|        NULL|\n",
      "|    min|             12.83|               300|     Ready to move|                 1|                 0|    Adambakam|24K Realtors|\n",
      "|    max|            1422.0|              6700|Under Construction|                 8|                32|tambaram west|    viswaraj|\n",
      "+-------+------------------+------------------+------------------+------------------+------------------+-------------+------------+\n",
      "\n"
     ]
    }
   ],
   "source": [
    "df.describe().show()"
   ]
  },
  {
   "cell_type": "markdown",
   "id": "5272a948-ea39-47b9-8aca-34c1e1496ea2",
   "metadata": {},
   "source": [
    "# handling the catorgical value to numerical "
   ]
  },
  {
   "cell_type": "code",
   "execution_count": 204,
   "id": "29721e29-bc7b-4b83-aa3c-85de1de2d869",
   "metadata": {},
   "outputs": [],
   "source": [
    "from pyspark.ml.feature import StringIndexer"
   ]
  },
  {
   "cell_type": "code",
   "execution_count": 205,
   "id": "db3ee0c2-5c1a-408a-bc59-410103c466ca",
   "metadata": {},
   "outputs": [],
   "source": [
    "index = StringIndexer(inputCols=[\"status\",\"location\",\"builder\"],outputCols = [\"status_index\",\"location_index\",\"builder_index\"])"
   ]
  },
  {
   "cell_type": "code",
   "execution_count": 206,
   "id": "3e4ff103-db86-4227-8672-a377de37ca26",
   "metadata": {},
   "outputs": [],
   "source": [
    "df = index.fit(df).transform(df)"
   ]
  },
  {
   "cell_type": "code",
   "execution_count": 207,
   "id": "186d5a0a-841a-438e-82fc-4555a5558e7b",
   "metadata": {},
   "outputs": [
    {
     "name": "stdout",
     "output_type": "stream",
     "text": [
      "+-----+----+------------------+---+---+----------+--------------------+------------+--------------+-------------+\n",
      "|price|area|            status|bhk|age|  location|             builder|status_index|location_index|builder_index|\n",
      "+-----+----+------------------+---+---+----------+--------------------+------------+--------------+-------------+\n",
      "|37.49| 872|     Ready to move|  2|  1| Sembakkam|       MP Developers|         0.0|          10.0|         37.0|\n",
      "|93.54|1346|Under Construction|  3|  1|  Selaiyur|       DAC Promoters|         1.0|           5.0|          7.0|\n",
      "|151.0|2225|Under Construction|  3|  0| Mogappair|Casagrand Builder...|         1.0|          23.0|          6.0|\n",
      "| 49.0|1028|     Ready to move|  2|  3|  Ambattur|Dugar Housing Bui...|         0.0|          21.0|        102.0|\n",
      "|42.28| 588|Under Construction|  2|  0|Pallavaram|Radiance Realty D...|         1.0|          18.0|         18.0|\n",
      "+-----+----+------------------+---+---+----------+--------------------+------------+--------------+-------------+\n",
      "only showing top 5 rows\n",
      "\n"
     ]
    }
   ],
   "source": [
    "df.show(5)"
   ]
  },
  {
   "cell_type": "code",
   "execution_count": 208,
   "id": "ec9039b1-54ef-41c6-a658-15307f1e40de",
   "metadata": {},
   "outputs": [],
   "source": [
    "from pyspark.ml.feature import VectorAssembler\n",
    "from pyspark.ml.regression import LinearRegression"
   ]
  },
  {
   "cell_type": "code",
   "execution_count": 209,
   "id": "309abc09-cee9-467e-bfd9-31ab074f1262",
   "metadata": {},
   "outputs": [
    {
     "name": "stdout",
     "output_type": "stream",
     "text": [
      "+-----+----+------------------+---+---+----------+--------------------+------------+--------------+-------------+--------------------+\n",
      "|price|area|            status|bhk|age|  location|             builder|status_index|location_index|builder_index|    independent_cols|\n",
      "+-----+----+------------------+---+---+----------+--------------------+------------+--------------+-------------+--------------------+\n",
      "|37.49| 872|     Ready to move|  2|  1| Sembakkam|       MP Developers|         0.0|          10.0|         37.0|[872.0,0.0,2.0,1....|\n",
      "|93.54|1346|Under Construction|  3|  1|  Selaiyur|       DAC Promoters|         1.0|           5.0|          7.0|[1346.0,1.0,3.0,1...|\n",
      "|151.0|2225|Under Construction|  3|  0| Mogappair|Casagrand Builder...|         1.0|          23.0|          6.0|[2225.0,1.0,3.0,0...|\n",
      "| 49.0|1028|     Ready to move|  2|  3|  Ambattur|Dugar Housing Bui...|         0.0|          21.0|        102.0|[1028.0,0.0,2.0,3...|\n",
      "|42.28| 588|Under Construction|  2|  0|Pallavaram|Radiance Realty D...|         1.0|          18.0|         18.0|[588.0,1.0,2.0,0....|\n",
      "+-----+----+------------------+---+---+----------+--------------------+------------+--------------+-------------+--------------------+\n",
      "only showing top 5 rows\n",
      "\n"
     ]
    }
   ],
   "source": [
    "vec = VectorAssembler(inputCols=[\"area\",\"status_index\",\"bhk\",\"age\",\"builder_index\"],outputCol=\"independent_cols\")\n",
    "final = vec.transform(df)\n",
    "final.show(5)"
   ]
  },
  {
   "cell_type": "code",
   "execution_count": 210,
   "id": "885e2345-d59d-463e-919f-c39f2a4830f3",
   "metadata": {},
   "outputs": [
    {
     "name": "stdout",
     "output_type": "stream",
     "text": [
      "+--------------------+-----+\n",
      "|    independent_cols|price|\n",
      "+--------------------+-----+\n",
      "|[872.0,0.0,2.0,1....|37.49|\n",
      "|[1346.0,1.0,3.0,1...|93.54|\n",
      "|[2225.0,1.0,3.0,0...|151.0|\n",
      "|[1028.0,0.0,2.0,3...| 49.0|\n",
      "|[588.0,1.0,2.0,0....|42.28|\n",
      "+--------------------+-----+\n",
      "only showing top 5 rows\n",
      "\n"
     ]
    }
   ],
   "source": [
    "val = final.select(\"independent_cols\",\"price\")\n",
    "val.show(5)"
   ]
  },
  {
   "cell_type": "code",
   "execution_count": 211,
   "id": "65aa77e0-c042-470f-bb85-51e46425e2ce",
   "metadata": {},
   "outputs": [],
   "source": [
    "train_data,test_data = val.randomSplit([0.8,0.2])"
   ]
  },
  {
   "cell_type": "code",
   "execution_count": 212,
   "id": "c024ab75-08d3-4085-8b6d-591ded2d9e56",
   "metadata": {},
   "outputs": [],
   "source": [
    "model = LinearRegression(featuresCol=\"independent_cols\",labelCol=\"price\")\n",
    "model = model.fit(train_data)\n"
   ]
  },
  {
   "cell_type": "code",
   "execution_count": 213,
   "id": "e5025a13-ecf2-4141-906a-817b8c8c11b1",
   "metadata": {},
   "outputs": [
    {
     "data": {
      "text/plain": [
       "DenseVector([0.147, -3.2594, -11.6115, -1.2896, 0.1921])"
      ]
     },
     "execution_count": 213,
     "metadata": {},
     "output_type": "execute_result"
    }
   ],
   "source": [
    "model.coefficients"
   ]
  },
  {
   "cell_type": "code",
   "execution_count": 214,
   "id": "4465e6a1-4ae7-4dab-b818-bd35d36461cc",
   "metadata": {},
   "outputs": [
    {
     "data": {
      "text/plain": [
       "-67.55254440400526"
      ]
     },
     "execution_count": 214,
     "metadata": {},
     "output_type": "execute_result"
    }
   ],
   "source": [
    "model.intercept"
   ]
  },
  {
   "cell_type": "code",
   "execution_count": 215,
   "id": "f94ff469-8942-4705-b19c-d1d5876ab20f",
   "metadata": {},
   "outputs": [],
   "source": [
    "pred = model.evaluate(test_data)"
   ]
  },
  {
   "cell_type": "code",
   "execution_count": 216,
   "id": "f0aa1fc8-e1f3-4ca8-9a01-9ffecd1e9009",
   "metadata": {},
   "outputs": [
    {
     "name": "stdout",
     "output_type": "stream",
     "text": [
      "+--------------------+-----+-------------------+\n",
      "|    independent_cols|price|         prediction|\n",
      "+--------------------+-----+-------------------+\n",
      "|[338.0,1.0,1.0,0....|15.04|-27.746820533835823|\n",
      "|[500.0,0.0,1.0,1....| 23.0| -6.765705667578779|\n",
      "|[500.0,0.0,1.0,3....| 16.0|  5.059125733826733|\n",
      "|[504.0,1.0,1.0,0....| 19.9| -4.690569284009825|\n",
      "|[506.0,0.0,2.0,1....| 29.0|-17.687287649898124|\n",
      "|[510.0,1.0,1.0,0....|23.03|-2.4642414415509393|\n",
      "|[520.0,0.0,1.0,3....|18.49| -6.597137071506012|\n",
      "|[538.0,0.0,1.0,3....|33.77|-1.4545848687089062|\n",
      "|[550.0,0.0,1.0,1....| 52.5| 0.3918273622804378|\n",
      "|[561.0,1.0,2.0,0....| 28.0|  4.175878014647239|\n",
      "|[583.0,0.0,1.0,1....|25.06|  9.275686973286554|\n",
      "|[586.0,0.0,1.0,1....| 28.0|  5.683529962991216|\n",
      "|[586.0,0.0,1.0,1....| 28.0|  5.683529962991216|\n",
      "|[586.0,0.0,1.0,1....| 28.0|  5.683529962991216|\n",
      "|[586.0,0.0,1.0,1....| 28.0|  5.683529962991216|\n",
      "|[588.0,1.0,1.0,0....| 40.0| 4.9679819663011955|\n",
      "|[588.0,1.0,2.0,0....|42.28| -6.835550449469956|\n",
      "|[588.0,1.0,2.0,0....|42.28| -4.146795631455795|\n",
      "|[597.0,1.0,1.0,0....|34.02| 16.853872972963075|\n",
      "|[599.0,0.0,1.0,3....| 18.0|  6.743695542427943|\n",
      "+--------------------+-----+-------------------+\n",
      "only showing top 20 rows\n",
      "\n"
     ]
    }
   ],
   "source": [
    "pred.predictions.show()"
   ]
  },
  {
   "cell_type": "code",
   "execution_count": 217,
   "id": "d77278f5-3581-4d01-83cb-0c2b305c42ed",
   "metadata": {},
   "outputs": [
    {
     "name": "stdout",
     "output_type": "stream",
     "text": [
      "Root Mean Squared Error (RMSE): 67.25913706264508\n",
      "R^2 on test data: 62.71657240863598 %\n",
      "Mean Absolute Error (MAE): 38.48030992707513\n"
     ]
    }
   ],
   "source": [
    "\n",
    "print(\"Root Mean Squared Error (RMSE):\", pred.rootMeanSquaredError)\n",
    "print(\"R^2 on test data:\", (pred.r2)*100,\"%\")\n",
    "print(\"Mean Absolute Error (MAE):\", pred.meanAbsoluteError)\n"
   ]
  },
  {
   "cell_type": "code",
   "execution_count": 218,
   "id": "863f40c4-bd7d-4f29-a2d6-0839f3cbf06f",
   "metadata": {},
   "outputs": [
    {
     "name": "stdout",
     "output_type": "stream",
     "text": [
      "+--------------------+-----+-------------------+------------------+\n",
      "|    independent_cols|price|         prediction|         residuals|\n",
      "+--------------------+-----+-------------------+------------------+\n",
      "|[338.0,1.0,1.0,0....|15.04|-27.746820533835823| 42.78682053383582|\n",
      "|[500.0,0.0,1.0,1....| 23.0| -6.765705667578779| 29.76570566757878|\n",
      "|[500.0,0.0,1.0,3....| 16.0|  5.059125733826733|10.940874266173267|\n",
      "|[504.0,1.0,1.0,0....| 19.9| -4.690569284009825|24.590569284009824|\n",
      "|[506.0,0.0,2.0,1....| 29.0|-17.687287649898124|46.687287649898124|\n",
      "|[510.0,1.0,1.0,0....|23.03|-2.4642414415509393| 25.49424144155094|\n",
      "|[520.0,0.0,1.0,3....|18.49| -6.597137071506012| 25.08713707150601|\n",
      "|[538.0,0.0,1.0,3....|33.77|-1.4545848687089062| 35.22458486870891|\n",
      "|[550.0,0.0,1.0,1....| 52.5| 0.3918273622804378| 52.10817263771956|\n",
      "|[561.0,1.0,2.0,0....| 28.0|  4.175878014647239| 23.82412198535276|\n",
      "|[583.0,0.0,1.0,1....|25.06|  9.275686973286554|15.784313026713445|\n",
      "|[586.0,0.0,1.0,1....| 28.0|  5.683529962991216|22.316470037008784|\n",
      "|[586.0,0.0,1.0,1....| 28.0|  5.683529962991216|22.316470037008784|\n",
      "|[586.0,0.0,1.0,1....| 28.0|  5.683529962991216|22.316470037008784|\n",
      "|[586.0,0.0,1.0,1....| 28.0|  5.683529962991216|22.316470037008784|\n",
      "|[588.0,1.0,1.0,0....| 40.0| 4.9679819663011955|35.032018033698805|\n",
      "|[588.0,1.0,2.0,0....|42.28| -6.835550449469956| 49.11555044946996|\n",
      "|[588.0,1.0,2.0,0....|42.28| -4.146795631455795|46.426795631455796|\n",
      "|[597.0,1.0,1.0,0....|34.02| 16.853872972963075| 17.16612702703693|\n",
      "|[599.0,0.0,1.0,3....| 18.0|  6.743695542427943|11.256304457572057|\n",
      "+--------------------+-----+-------------------+------------------+\n",
      "only showing top 20 rows\n",
      "\n"
     ]
    }
   ],
   "source": [
    "residuals = pred.predictions.withColumn(\"residuals\", pred.predictions[\"price\"] - pred.predictions[\"prediction\"])\n",
    "residuals.select(\"independent_cols\", \"price\", \"prediction\", \"residuals\").show()\n"
   ]
  },
  {
   "cell_type": "markdown",
   "id": "956dc5ee-2f6d-4bb6-8983-ca47a57db1ca",
   "metadata": {},
   "source": [
    "# changing into pandas and displaying the chart"
   ]
  },
  {
   "cell_type": "code",
   "execution_count": 219,
   "id": "84b55ffa-e873-4665-bdaa-11ad4475230b",
   "metadata": {},
   "outputs": [
    {
     "data": {
      "image/png": "[encoded data removed]",
      "text/plain": [
       "<Figure size 1000x600 with 1 Axes>"
      ]
     },
     "metadata": {},
     "output_type": "display_data"
    }
   ],
   "source": [
    "import matplotlib.pyplot as plt\n",
    "import seaborn as sns\n",
    "import pandas as pd\n",
    "\n",
    "# Convert Spark DataFrame to Pandas DataFrame\n",
    "predictions_pd = pred.predictions.select(\"price\", \"prediction\").toPandas()\n",
    "\n",
    "# Calculate residuals\n",
    "predictions_pd['residuals'] = predictions_pd['price'] - predictions_pd['prediction']\n",
    "\n",
    "# Plot residuals vs. actual price\n",
    "plt.figure(figsize=(10, 6))\n",
    "sns.scatterplot(x='price', y='residuals', data=predictions_pd)\n",
    "plt.axhline(y=0, color='r', linestyle='--')\n",
    "plt.title('Residuals vs Actual Prices')\n",
    "plt.xlabel('Actual Prices')\n",
    "plt.ylabel('Residuals')\n",
    "plt.show()\n"
   ]
  },
  {
   "cell_type": "code",
   "execution_count": null,
   "id": "de7a28d6-dbf1-4736-93d8-afe82641cae7",
   "metadata": {},
   "outputs": [],
   "source": []
  },
  {
   "cell_type": "code",
   "execution_count": null,
   "id": "7b99aa1e-bb4b-4d9e-8394-7b4854a6bcc0",
   "metadata": {},
   "outputs": [],
   "source": []
  },
  {
   "cell_type": "code",
   "execution_count": null,
   "id": "d145ff6d-0d74-4fac-9b58-d346e0042b0b",
   "metadata": {},
   "outputs": [],
   "source": []
  },
  {
   "cell_type": "code",
   "execution_count": null,
   "id": "2e99d939-1497-4dbf-9fc7-d28da1132c44",
   "metadata": {},
   "outputs": [],
   "source": []
  },
  {
   "cell_type": "code",
   "execution_count": null,
   "id": "4eb8c85c-6285-4c99-a879-83629116b512",
   "metadata": {},
   "outputs": [],
   "source": []
  },
  {
   "cell_type": "code",
   "execution_count": null,
   "id": "f7af89cf-c389-4964-98ba-eb8c23ce8945",
   "metadata": {},
   "outputs": [],
   "source": []
  },
  {
   "cell_type": "code",
   "execution_count": null,
   "id": "f324a37e-90ee-4f9c-9d7a-7ea01e4f92e9",
   "metadata": {},
   "outputs": [],
   "source": []
  },
  {
   "cell_type": "code",
   "execution_count": null,
   "id": "5b0cdc9f-2e6f-4a21-90cc-900d3389d941",
   "metadata": {},
   "outputs": [],
   "source": []
  },
  {
   "cell_type": "code",
   "execution_count": null,
   "id": "c3b6f825-7d40-4fe0-b244-783c34862386",
   "metadata": {},
   "outputs": [],
   "source": []
  },
  {
   "cell_type": "code",
   "execution_count": null,
   "id": "41f32da9-4e55-40fc-875e-89d233d8693e",
   "metadata": {},
   "outputs": [],
   "source": []
  },
  {
   "cell_type": "code",
   "execution_count": null,
   "id": "bb06d23b-0804-4c52-a20b-c34132b90d02",
   "metadata": {},
   "outputs": [],
   "source": []
  },
  {
   "cell_type": "code",
   "execution_count": null,
   "id": "ec6c8fb0-ceb9-49d5-ba3f-51f9ce200ad9",
   "metadata": {},
   "outputs": [],
   "source": []
  }
 ],
 "metadata": {
  "kernelspec": {
   "display_name": "Python 3 (ipykernel)",
   "language": "python",
   "name": "python3"
  },
  "language_info": {
   "codemirror_mode": {
    "name": "ipython",
    "version": 3
   },
   "file_extension": ".py",
   "mimetype": "text/x-python",
   "name": "python",
   "nbconvert_exporter": "python",
   "pygments_lexer": "ipython3",
   "version": "3.11.7"
  }
 },
 "nbformat": 4,
 "nbformat_minor": 5
}
